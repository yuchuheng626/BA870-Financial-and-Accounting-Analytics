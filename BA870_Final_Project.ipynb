{
  "nbformat": 4,
  "nbformat_minor": 0,
  "metadata": {
    "colab": {
      "provenance": []
    },
    "kernelspec": {
      "name": "python3",
      "display_name": "Python 3"
    },
    "language_info": {
      "name": "python"
    }
  },
  "cells": [
    {
      "cell_type": "markdown",
      "source": [
        "# BA870 Final Project\n",
        "Chuheng Yu"
      ],
      "metadata": {
        "id": "cpQR-wAzfmrm"
      }
    },
    {
      "cell_type": "markdown",
      "source": [
        "## Read Dataset"
      ],
      "metadata": {
        "id": "HEAOKHc4cjFx"
      }
    },
    {
      "cell_type": "code",
      "source": [
        "import numpy as np\n",
        "import pandas as pd\n",
        "import matplotlib.pyplot as plt\n",
        "import statsmodels.api as sm\n",
        "from google.colab import drive\n",
        "\n",
        "drive.mount('/content/drive')"
      ],
      "metadata": {
        "colab": {
          "base_uri": "https://localhost:8080/"
        },
        "id": "8CWQptPSredF",
        "outputId": "6e1e59ce-aed1-492c-c3fb-8881faf60df6"
      },
      "execution_count": 228,
      "outputs": [
        {
          "output_type": "stream",
          "name": "stdout",
          "text": [
            "Drive already mounted at /content/drive; to attempt to forcibly remount, call drive.mount(\"/content/drive\", force_remount=True).\n"
          ]
        }
      ]
    },
    {
      "cell_type": "code",
      "source": [
        "path = '/content/drive/MyDrive/BA870/'\n",
        "file_names = [\n",
        "    (\"Compustat-1986.csv\", \"cp1986\"), (\"Compustat-2000.csv\", \"cp2000\"),\n",
        "    (\"Compustat-2019.csv\", \"cp2019\"), (\"Compustat-2021.csv\", \"cp2021\"),\n",
        "    (\"Compustat-2007.csv\", \"cp2007\"), (\"CRSP-1983-1987.csv\", \"crsp8387\"),\n",
        "    (\"CRSP-2018-2022.csv\", \"crsp1822\"), (\"CRSP-2016-2020.csv\", \"crsp1620\"),\n",
        "    (\"CRSP-1997-2001.csv\", \"crsp9701\"), (\"CRSP-2004-2008.csv\", \"crsp0408\"),\n",
        "    (\"GSECTOR-2021.csv\", \"gs2021\"),(\"GSECTOR-2019.csv\", \"gs2019\"), \n",
        "    (\"GSECTOR-2007.csv\", \"gs2007\"), (\"GSECTOR-2000.csv\", \"gs2000\"), \n",
        "    (\"GSECTOR-1986.csv\", \"gs1986\"), (\"FF-Output-1983-1987.csv\", \"ff1986\"),\n",
        "    (\"FF-Output-1997-2001.csv\", \"ff2000\"), (\"FF-Output-2004-2008.csv\", \"ff2007\"), \n",
        "    (\"FF-Output-2016-2020.csv\", \"ff2019\"), (\"FF-Output-2018-2022.csv\", \"ff2021\")\n",
        "]"
      ],
      "metadata": {
        "id": "tg8sAnRYre84"
      },
      "execution_count": 229,
      "outputs": []
    },
    {
      "cell_type": "code",
      "source": [
        "df_dict = {}\n",
        "for x, y in file_names:\n",
        "    file_path = path + x\n",
        "    df_dict[y] = pd.read_csv(file_path)"
      ],
      "metadata": {
        "id": "XmW6TkNRxc1s"
      },
      "execution_count": 230,
      "outputs": []
    },
    {
      "cell_type": "markdown",
      "source": [
        "#09/1987 - 12/1987"
      ],
      "metadata": {
        "id": "jU2tQiXKciNj"
      }
    },
    {
      "cell_type": "code",
      "source": [
        "#use te correct dataset\n",
        "crsp = df_dict['crsp8387']\n",
        "crsp['date'] = pd.to_datetime(crsp['date']) \n",
        "conditioned = crsp[(crsp[\"date\"] > '1987-08-31') & (crsp[\"date\"] <= '1987-12-31')]\n",
        "crash_return = conditioned.groupby('TICKER')['RET'].mean().reset_index()\n",
        "crash_return.rename(columns={'RET': 'crash_return'}, inplace=True)\n",
        "cp1 = df_dict['cp1986']\n",
        "gs = df_dict['gs1986']\n",
        "ff = df_dict['ff1986']"
      ],
      "metadata": {
        "id": "ed22EVfCdanK"
      },
      "execution_count": 231,
      "outputs": []
    },
    {
      "cell_type": "code",
      "source": [
        "merged_data = pd.merge(crash_return, cp1, left_on='TICKER', right_on='tic')\n",
        "merged_data = pd.merge(merged_data, gs, left_on='TICKER', right_on='tic')\n",
        "merged_data = pd.merge(merged_data, ff, left_on='TICKER', right_on='ticker')"
      ],
      "metadata": {
        "id": "044BdatKdg2v"
      },
      "execution_count": 232,
      "outputs": []
    },
    {
      "cell_type": "code",
      "source": [
        "merged_data.head()"
      ],
      "metadata": {
        "colab": {
          "base_uri": "https://localhost:8080/",
          "height": 386
        },
        "id": "sRRbFZhmek1Z",
        "outputId": "11fe7adc-8952-49a5-e296-e45e47feaee0"
      },
      "execution_count": 233,
      "outputs": [
        {
          "output_type": "execute_result",
          "data": {
            "text/plain": [
              "  TICKER  crash_return  gvkey_x    datadate  fyear_x indfmt consol popsrc  \\\n",
              "0    AAL     -0.073589     1045  1986-12-31     1986   INDL      C      D   \n",
              "1   AAPL     -0.035227     1690  1986-09-30     1986   INDL      C      D   \n",
              "2    ABF     -0.100339     1213  1986-12-31     1986   INDL      C      D   \n",
              "3    ABM     -0.041749     1410  1986-10-31     1986   INDL      C      D   \n",
              "4    ABT     -0.056657     1078  1986-12-31     1986   INDL      C      D   \n",
              "\n",
              "  datafmt tic_x  ... costat  gvkey_y  fyear_y  tic_y  gsector  ticker  \\\n",
              "0     STD   AAL  ...      A     1045     1986    AAL     20.0     AAL   \n",
              "1     STD  AAPL  ...      A     1690     1986   AAPL     45.0    AAPL   \n",
              "2     STD   ABF  ...      I     1213     1986    ABF     20.0     ABF   \n",
              "3     STD   ABM  ...      A     1410     1986    ABM     20.0     ABM   \n",
              "4     STD   ABT  ...      A     1078     1986    ABT     35.0     ABT   \n",
              "\n",
              "      const     mktrf       smb       hml  \n",
              "0 -0.011023  0.858837  0.790875  0.416452  \n",
              "1  0.018018  1.332118 -0.760804 -0.846740  \n",
              "2 -0.001475  1.373078  1.146897  0.121233  \n",
              "3 -0.003411  0.739005  0.866892 -0.118238  \n",
              "4  0.009880  0.936448 -0.885992 -0.674876  \n",
              "\n",
              "[5 rows x 31 columns]"
            ],
            "text/html": [
              "\n",
              "  <div id=\"df-0c7f5833-83ea-4fce-a040-7c239fea5b21\">\n",
              "    <div class=\"colab-df-container\">\n",
              "      <div>\n",
              "<style scoped>\n",
              "    .dataframe tbody tr th:only-of-type {\n",
              "        vertical-align: middle;\n",
              "    }\n",
              "\n",
              "    .dataframe tbody tr th {\n",
              "        vertical-align: top;\n",
              "    }\n",
              "\n",
              "    .dataframe thead th {\n",
              "        text-align: right;\n",
              "    }\n",
              "</style>\n",
              "<table border=\"1\" class=\"dataframe\">\n",
              "  <thead>\n",
              "    <tr style=\"text-align: right;\">\n",
              "      <th></th>\n",
              "      <th>TICKER</th>\n",
              "      <th>crash_return</th>\n",
              "      <th>gvkey_x</th>\n",
              "      <th>datadate</th>\n",
              "      <th>fyear_x</th>\n",
              "      <th>indfmt</th>\n",
              "      <th>consol</th>\n",
              "      <th>popsrc</th>\n",
              "      <th>datafmt</th>\n",
              "      <th>tic_x</th>\n",
              "      <th>...</th>\n",
              "      <th>costat</th>\n",
              "      <th>gvkey_y</th>\n",
              "      <th>fyear_y</th>\n",
              "      <th>tic_y</th>\n",
              "      <th>gsector</th>\n",
              "      <th>ticker</th>\n",
              "      <th>const</th>\n",
              "      <th>mktrf</th>\n",
              "      <th>smb</th>\n",
              "      <th>hml</th>\n",
              "    </tr>\n",
              "  </thead>\n",
              "  <tbody>\n",
              "    <tr>\n",
              "      <th>0</th>\n",
              "      <td>AAL</td>\n",
              "      <td>-0.073589</td>\n",
              "      <td>1045</td>\n",
              "      <td>1986-12-31</td>\n",
              "      <td>1986</td>\n",
              "      <td>INDL</td>\n",
              "      <td>C</td>\n",
              "      <td>D</td>\n",
              "      <td>STD</td>\n",
              "      <td>AAL</td>\n",
              "      <td>...</td>\n",
              "      <td>A</td>\n",
              "      <td>1045</td>\n",
              "      <td>1986</td>\n",
              "      <td>AAL</td>\n",
              "      <td>20.0</td>\n",
              "      <td>AAL</td>\n",
              "      <td>-0.011023</td>\n",
              "      <td>0.858837</td>\n",
              "      <td>0.790875</td>\n",
              "      <td>0.416452</td>\n",
              "    </tr>\n",
              "    <tr>\n",
              "      <th>1</th>\n",
              "      <td>AAPL</td>\n",
              "      <td>-0.035227</td>\n",
              "      <td>1690</td>\n",
              "      <td>1986-09-30</td>\n",
              "      <td>1986</td>\n",
              "      <td>INDL</td>\n",
              "      <td>C</td>\n",
              "      <td>D</td>\n",
              "      <td>STD</td>\n",
              "      <td>AAPL</td>\n",
              "      <td>...</td>\n",
              "      <td>A</td>\n",
              "      <td>1690</td>\n",
              "      <td>1986</td>\n",
              "      <td>AAPL</td>\n",
              "      <td>45.0</td>\n",
              "      <td>AAPL</td>\n",
              "      <td>0.018018</td>\n",
              "      <td>1.332118</td>\n",
              "      <td>-0.760804</td>\n",
              "      <td>-0.846740</td>\n",
              "    </tr>\n",
              "    <tr>\n",
              "      <th>2</th>\n",
              "      <td>ABF</td>\n",
              "      <td>-0.100339</td>\n",
              "      <td>1213</td>\n",
              "      <td>1986-12-31</td>\n",
              "      <td>1986</td>\n",
              "      <td>INDL</td>\n",
              "      <td>C</td>\n",
              "      <td>D</td>\n",
              "      <td>STD</td>\n",
              "      <td>ABF</td>\n",
              "      <td>...</td>\n",
              "      <td>I</td>\n",
              "      <td>1213</td>\n",
              "      <td>1986</td>\n",
              "      <td>ABF</td>\n",
              "      <td>20.0</td>\n",
              "      <td>ABF</td>\n",
              "      <td>-0.001475</td>\n",
              "      <td>1.373078</td>\n",
              "      <td>1.146897</td>\n",
              "      <td>0.121233</td>\n",
              "    </tr>\n",
              "    <tr>\n",
              "      <th>3</th>\n",
              "      <td>ABM</td>\n",
              "      <td>-0.041749</td>\n",
              "      <td>1410</td>\n",
              "      <td>1986-10-31</td>\n",
              "      <td>1986</td>\n",
              "      <td>INDL</td>\n",
              "      <td>C</td>\n",
              "      <td>D</td>\n",
              "      <td>STD</td>\n",
              "      <td>ABM</td>\n",
              "      <td>...</td>\n",
              "      <td>A</td>\n",
              "      <td>1410</td>\n",
              "      <td>1986</td>\n",
              "      <td>ABM</td>\n",
              "      <td>20.0</td>\n",
              "      <td>ABM</td>\n",
              "      <td>-0.003411</td>\n",
              "      <td>0.739005</td>\n",
              "      <td>0.866892</td>\n",
              "      <td>-0.118238</td>\n",
              "    </tr>\n",
              "    <tr>\n",
              "      <th>4</th>\n",
              "      <td>ABT</td>\n",
              "      <td>-0.056657</td>\n",
              "      <td>1078</td>\n",
              "      <td>1986-12-31</td>\n",
              "      <td>1986</td>\n",
              "      <td>INDL</td>\n",
              "      <td>C</td>\n",
              "      <td>D</td>\n",
              "      <td>STD</td>\n",
              "      <td>ABT</td>\n",
              "      <td>...</td>\n",
              "      <td>A</td>\n",
              "      <td>1078</td>\n",
              "      <td>1986</td>\n",
              "      <td>ABT</td>\n",
              "      <td>35.0</td>\n",
              "      <td>ABT</td>\n",
              "      <td>0.009880</td>\n",
              "      <td>0.936448</td>\n",
              "      <td>-0.885992</td>\n",
              "      <td>-0.674876</td>\n",
              "    </tr>\n",
              "  </tbody>\n",
              "</table>\n",
              "<p>5 rows × 31 columns</p>\n",
              "</div>\n",
              "      <button class=\"colab-df-convert\" onclick=\"convertToInteractive('df-0c7f5833-83ea-4fce-a040-7c239fea5b21')\"\n",
              "              title=\"Convert this dataframe to an interactive table.\"\n",
              "              style=\"display:none;\">\n",
              "        \n",
              "  <svg xmlns=\"http://www.w3.org/2000/svg\" height=\"24px\"viewBox=\"0 0 24 24\"\n",
              "       width=\"24px\">\n",
              "    <path d=\"M0 0h24v24H0V0z\" fill=\"none\"/>\n",
              "    <path d=\"M18.56 5.44l.94 2.06.94-2.06 2.06-.94-2.06-.94-.94-2.06-.94 2.06-2.06.94zm-11 1L8.5 8.5l.94-2.06 2.06-.94-2.06-.94L8.5 2.5l-.94 2.06-2.06.94zm10 10l.94 2.06.94-2.06 2.06-.94-2.06-.94-.94-2.06-.94 2.06-2.06.94z\"/><path d=\"M17.41 7.96l-1.37-1.37c-.4-.4-.92-.59-1.43-.59-.52 0-1.04.2-1.43.59L10.3 9.45l-7.72 7.72c-.78.78-.78 2.05 0 2.83L4 21.41c.39.39.9.59 1.41.59.51 0 1.02-.2 1.41-.59l7.78-7.78 2.81-2.81c.8-.78.8-2.07 0-2.86zM5.41 20L4 18.59l7.72-7.72 1.47 1.35L5.41 20z\"/>\n",
              "  </svg>\n",
              "      </button>\n",
              "      \n",
              "  <style>\n",
              "    .colab-df-container {\n",
              "      display:flex;\n",
              "      flex-wrap:wrap;\n",
              "      gap: 12px;\n",
              "    }\n",
              "\n",
              "    .colab-df-convert {\n",
              "      background-color: #E8F0FE;\n",
              "      border: none;\n",
              "      border-radius: 50%;\n",
              "      cursor: pointer;\n",
              "      display: none;\n",
              "      fill: #1967D2;\n",
              "      height: 32px;\n",
              "      padding: 0 0 0 0;\n",
              "      width: 32px;\n",
              "    }\n",
              "\n",
              "    .colab-df-convert:hover {\n",
              "      background-color: #E2EBFA;\n",
              "      box-shadow: 0px 1px 2px rgba(60, 64, 67, 0.3), 0px 1px 3px 1px rgba(60, 64, 67, 0.15);\n",
              "      fill: #174EA6;\n",
              "    }\n",
              "\n",
              "    [theme=dark] .colab-df-convert {\n",
              "      background-color: #3B4455;\n",
              "      fill: #D2E3FC;\n",
              "    }\n",
              "\n",
              "    [theme=dark] .colab-df-convert:hover {\n",
              "      background-color: #434B5C;\n",
              "      box-shadow: 0px 1px 3px 1px rgba(0, 0, 0, 0.15);\n",
              "      filter: drop-shadow(0px 1px 2px rgba(0, 0, 0, 0.3));\n",
              "      fill: #FFFFFF;\n",
              "    }\n",
              "  </style>\n",
              "\n",
              "      <script>\n",
              "        const buttonEl =\n",
              "          document.querySelector('#df-0c7f5833-83ea-4fce-a040-7c239fea5b21 button.colab-df-convert');\n",
              "        buttonEl.style.display =\n",
              "          google.colab.kernel.accessAllowed ? 'block' : 'none';\n",
              "\n",
              "        async function convertToInteractive(key) {\n",
              "          const element = document.querySelector('#df-0c7f5833-83ea-4fce-a040-7c239fea5b21');\n",
              "          const dataTable =\n",
              "            await google.colab.kernel.invokeFunction('convertToInteractive',\n",
              "                                                     [key], {});\n",
              "          if (!dataTable) return;\n",
              "\n",
              "          const docLinkHtml = 'Like what you see? Visit the ' +\n",
              "            '<a target=\"_blank\" href=https://colab.research.google.com/notebooks/data_table.ipynb>data table notebook</a>'\n",
              "            + ' to learn more about interactive tables.';\n",
              "          element.innerHTML = '';\n",
              "          dataTable['output_type'] = 'display_data';\n",
              "          await google.colab.output.renderOutput(dataTable, element);\n",
              "          const docLink = document.createElement('div');\n",
              "          docLink.innerHTML = docLinkHtml;\n",
              "          element.appendChild(docLink);\n",
              "        }\n",
              "      </script>\n",
              "    </div>\n",
              "  </div>\n",
              "  "
            ]
          },
          "metadata": {},
          "execution_count": 233
        }
      ]
    },
    {
      "cell_type": "code",
      "source": [
        "merged_data.isnull().sum()"
      ],
      "metadata": {
        "colab": {
          "base_uri": "https://localhost:8080/"
        },
        "id": "jv1wLaB1lQbF",
        "outputId": "a855a602-2236-4fc4-9fbf-635c5013a3d9"
      },
      "execution_count": 234,
      "outputs": [
        {
          "output_type": "execute_result",
          "data": {
            "text/plain": [
              "TICKER           0\n",
              "crash_return     0\n",
              "gvkey_x          0\n",
              "datadate         0\n",
              "fyear_x          0\n",
              "indfmt           0\n",
              "consol           0\n",
              "popsrc           0\n",
              "datafmt          0\n",
              "tic_x            0\n",
              "curcd            0\n",
              "act             93\n",
              "at               0\n",
              "che              0\n",
              "cogs             1\n",
              "dltt             1\n",
              "lct             74\n",
              "lt               0\n",
              "ni               0\n",
              "re               9\n",
              "sale             0\n",
              "costat           0\n",
              "gvkey_y          0\n",
              "fyear_y          0\n",
              "tic_y            0\n",
              "gsector          0\n",
              "ticker           0\n",
              "const            0\n",
              "mktrf            0\n",
              "smb              0\n",
              "hml              0\n",
              "dtype: int64"
            ]
          },
          "metadata": {},
          "execution_count": 234
        }
      ]
    },
    {
      "cell_type": "code",
      "source": [
        "# Calculate the number of null values in each column\n",
        "null_counts = merged_data.isnull().sum()\n",
        "\n",
        "# Create a bar chart to visualize the null values\n",
        "plt.figure(figsize=(10, 5))\n",
        "plt.bar(null_counts.index, null_counts.values)\n",
        "plt.title('Null Values in DataFrame')\n",
        "plt.xlabel('Columns')\n",
        "plt.ylabel('Count')\n",
        "plt.show()"
      ],
      "metadata": {
        "colab": {
          "base_uri": "https://localhost:8080/",
          "height": 371
        },
        "id": "wOePzQpnL4_g",
        "outputId": "c08eb71f-7824-4e86-8999-1b8de8bf21c0"
      },
      "execution_count": 235,
      "outputs": [
        {
          "output_type": "display_data",
          "data": {
            "text/plain": [
              "<Figure size 1000x500 with 1 Axes>"
            ],
            "image/png": "[encoded data removed]"
          },
          "metadata": {}
        }
      ]
    },
    {
      "cell_type": "code",
      "source": [
        "merged_data.drop(columns=['tic_x', 'tic_y', 'ticker'], inplace=True)"
      ],
      "metadata": {
        "id": "CpFNc4cKnPBv"
      },
      "execution_count": 236,
      "outputs": []
    },
    {
      "cell_type": "code",
      "source": [
        "for_reg = pd.get_dummies(merged_data, columns=['gsector'])\n",
        "for_reg.columns"
      ],
      "metadata": {
        "colab": {
          "base_uri": "https://localhost:8080/"
        },
        "id": "4bUwZeQGmgXW",
        "outputId": "83ad486f-c353-4169-bd7b-7670e092830c"
      },
      "execution_count": 237,
      "outputs": [
        {
          "output_type": "execute_result",
          "data": {
            "text/plain": [
              "Index(['TICKER', 'crash_return', 'gvkey_x', 'datadate', 'fyear_x', 'indfmt',\n",
              "       'consol', 'popsrc', 'datafmt', 'curcd', 'act', 'at', 'che', 'cogs',\n",
              "       'dltt', 'lct', 'lt', 'ni', 're', 'sale', 'costat', 'gvkey_y', 'fyear_y',\n",
              "       'const', 'mktrf', 'smb', 'hml', 'gsector_10.0', 'gsector_15.0',\n",
              "       'gsector_20.0', 'gsector_25.0', 'gsector_30.0', 'gsector_35.0',\n",
              "       'gsector_40.0', 'gsector_45.0', 'gsector_50.0', 'gsector_55.0',\n",
              "       'gsector_60.0'],\n",
              "      dtype='object')"
            ]
          },
          "metadata": {},
          "execution_count": 237
        }
      ]
    },
    {
      "cell_type": "code",
      "source": [
        "def ols_missing(for_reg, target):\n",
        "    for_reg = for_reg.drop(columns=['TICKER', 'crash_return', 'gvkey_x', 'datadate', 'fyear_x', 'indfmt',\n",
        "                                     'consol', 'popsrc', 'datafmt', 'curcd', 'costat', 'gvkey_y', 'fyear_y',\n",
        "                                     'const', 'mktrf', 'smb', 'hml'])\n",
        "\n",
        "    clean = for_reg.dropna(subset=[target])\n",
        "    with_null = for_reg[for_reg[target].isnull()]\n",
        "\n",
        "    col_list = clean.columns\n",
        "    temp = []\n",
        "    for i in col_list:\n",
        "        if i not in ['act', 'cogs', 'dltt', 'lct', 're']:\n",
        "            temp.append(i)\n",
        "\n",
        "    x = clean[temp]\n",
        "    y = clean[target]\n",
        "\n",
        "    x = sm.add_constant(x)\n",
        "\n",
        "    model = sm.OLS(y, x).fit()\n",
        "\n",
        "    X_missing = sm.add_constant(with_null[temp], has_constant='add')\n",
        "\n",
        "    temp = model.predict(X_missing)\n",
        "    with_null.loc[:, target] = temp\n",
        "\n",
        "    df_filled = pd.concat([clean, with_null]).sort_index()\n",
        "    return df_filled\n"
      ],
      "metadata": {
        "id": "_Y_dVHjDmQmy"
      },
      "execution_count": 238,
      "outputs": []
    },
    {
      "cell_type": "code",
      "source": [
        "pd.options.mode.chained_assignment = None\n",
        "\n",
        "#impute missing data\n",
        "temp = ols_missing(for_reg, 'act')\n",
        "merged_data['act'] = temp['act']\n",
        "temp = ols_missing(for_reg, 'cogs')\n",
        "merged_data['cogs'] = temp['cogs']\n",
        "temp = ols_missing(for_reg, 'dltt')\n",
        "merged_data['dltt'] = temp['dltt']\n",
        "temp = ols_missing(for_reg, 'lct')\n",
        "merged_data['lct'] = temp['lct']\n",
        "temp = ols_missing(for_reg, 're')\n",
        "merged_data['re'] = temp['re']"
      ],
      "metadata": {
        "id": "sRIaGpTks9tj"
      },
      "execution_count": 239,
      "outputs": []
    },
    {
      "cell_type": "code",
      "source": [
        "merged_data.isnull().sum()"
      ],
      "metadata": {
        "colab": {
          "base_uri": "https://localhost:8080/"
        },
        "id": "Mme67oFR36TD",
        "outputId": "379477f1-9f25-45d8-da0d-a70135fb1382"
      },
      "execution_count": 240,
      "outputs": [
        {
          "output_type": "execute_result",
          "data": {
            "text/plain": [
              "TICKER          0\n",
              "crash_return    0\n",
              "gvkey_x         0\n",
              "datadate        0\n",
              "fyear_x         0\n",
              "indfmt          0\n",
              "consol          0\n",
              "popsrc          0\n",
              "datafmt         0\n",
              "curcd           0\n",
              "act             0\n",
              "at              0\n",
              "che             0\n",
              "cogs            0\n",
              "dltt            0\n",
              "lct             0\n",
              "lt              0\n",
              "ni              0\n",
              "re              0\n",
              "sale            0\n",
              "costat          0\n",
              "gvkey_y         0\n",
              "fyear_y         0\n",
              "gsector         0\n",
              "const           0\n",
              "mktrf           0\n",
              "smb             0\n",
              "hml             0\n",
              "dtype: int64"
            ]
          },
          "metadata": {},
          "execution_count": 240
        }
      ]
    },
    {
      "cell_type": "code",
      "source": [
        "from scipy.stats.mstats import winsorize\n",
        "\n",
        "#financial ratios\n",
        "merged_data['debt_to_equity_ratio'] = (merged_data['dltt'] + (merged_data['lt'] - merged_data['lct']))/ (merged_data['at'] - merged_data['lt'])\n",
        "merged_data['current_ratio'] = merged_data['act'] / merged_data['lct']\n",
        "merged_data['gross_profit'] = (merged_data['sale'] - merged_data['cogs'])/ merged_data['sale']\n",
        "merged_data['asset_turnover_ratio'] = merged_data['sale']/merged_data['at']\n",
        "merged_data['roa'] = merged_data['ni']/merged_data['at']\n",
        "merged_data['roe'] = merged_data['ni']/(merged_data['at'] - merged_data['lt'])\n",
        "merged_data['net_profit_margin'] = merged_data['ni']/merged_data['sale']\n",
        "\n",
        "#winsorize\n",
        "merged_data['debt_to_equity_ratio'] = winsorize(merged_data['debt_to_equity_ratio'], limits=(0.01, 0.01))\n",
        "merged_data['current_ratio'] = winsorize(merged_data['current_ratio'], limits=(0.01, 0.01))\n",
        "merged_data['gross_profit'] = winsorize(merged_data['gross_profit'], limits=(0.01, 0.01))\n",
        "merged_data['asset_turnover_ratio'] = winsorize(merged_data['asset_turnover_ratio'], limits=(0.01, 0.01))\n",
        "merged_data['roa'] = winsorize(merged_data['roa'], limits=(0.01, 0.01))\n",
        "merged_data['roe'] = winsorize(merged_data['roe'], limits=(0.01, 0.01))\n",
        "merged_data['net_profit_margin'] = winsorize(merged_data['net_profit_margin'], limits=(0.01, 0.01))"
      ],
      "metadata": {
        "id": "LzhQSggCn5Cq"
      },
      "execution_count": 241,
      "outputs": []
    },
    {
      "cell_type": "code",
      "source": [
        "#drop null data\n",
        "merged_data = merged_data[np.isfinite(merged_data['debt_to_equity_ratio']) \n",
        "                        & np.isfinite(merged_data['current_ratio']) \n",
        "                        & np.isfinite(merged_data['gross_profit'])\n",
        "                        & np.isfinite(merged_data['asset_turnover_ratio'])\n",
        "                        & np.isfinite(merged_data['roa'])\n",
        "                        & np.isfinite(merged_data['roe'])\n",
        "                        & np.isfinite(merged_data['net_profit_margin'])]"
      ],
      "metadata": {
        "id": "ty3-ZvUAt5-N"
      },
      "execution_count": 242,
      "outputs": []
    },
    {
      "cell_type": "code",
      "source": [
        "merged_data = pd.get_dummies(merged_data, columns=['gsector'])\n",
        "merged_data.columns"
      ],
      "metadata": {
        "colab": {
          "base_uri": "https://localhost:8080/"
        },
        "id": "AZdbpasP6xtu",
        "outputId": "94ed214c-c713-45ca-ed9b-63df27f39218"
      },
      "execution_count": 243,
      "outputs": [
        {
          "output_type": "execute_result",
          "data": {
            "text/plain": [
              "Index(['TICKER', 'crash_return', 'gvkey_x', 'datadate', 'fyear_x', 'indfmt',\n",
              "       'consol', 'popsrc', 'datafmt', 'curcd', 'act', 'at', 'che', 'cogs',\n",
              "       'dltt', 'lct', 'lt', 'ni', 're', 'sale', 'costat', 'gvkey_y', 'fyear_y',\n",
              "       'const', 'mktrf', 'smb', 'hml', 'debt_to_equity_ratio', 'current_ratio',\n",
              "       'gross_profit', 'asset_turnover_ratio', 'roa', 'roe',\n",
              "       'net_profit_margin', 'gsector_10.0', 'gsector_15.0', 'gsector_20.0',\n",
              "       'gsector_25.0', 'gsector_30.0', 'gsector_35.0', 'gsector_40.0',\n",
              "       'gsector_45.0', 'gsector_50.0', 'gsector_55.0', 'gsector_60.0'],\n",
              "      dtype='object')"
            ]
          },
          "metadata": {},
          "execution_count": 243
        }
      ]
    },
    {
      "cell_type": "markdown",
      "source": [
        "### 1. Ratio"
      ],
      "metadata": {
        "id": "txQ3zUZHPCaQ"
      }
    },
    {
      "cell_type": "code",
      "source": [
        "#define the independent variables\n",
        "X = merged_data[['debt_to_equity_ratio', 'gross_profit', 'current_ratio',\n",
        "                  'asset_turnover_ratio','roa', 'roe', 'net_profit_margin']]\n",
        "X = sm.add_constant(X)\n",
        "\n",
        "#define the dependent variable\n",
        "y = merged_data['crash_return']\n",
        "\n",
        "#fit the linear regression model\n",
        "model = sm.OLS(y, X).fit()\n",
        "print(model.summary())"
      ],
      "metadata": {
        "colab": {
          "base_uri": "https://localhost:8080/"
        },
        "id": "2-K1eeNyuFqL",
        "outputId": "dbd19a02-12c5-4c3e-8fe3-367b819a2b67"
      },
      "execution_count": 245,
      "outputs": [
        {
          "output_type": "stream",
          "name": "stdout",
          "text": [
            "                            OLS Regression Results                            \n",
            "==============================================================================\n",
            "Dep. Variable:           crash_return   R-squared:                       0.032\n",
            "Model:                            OLS   Adj. R-squared:                  0.024\n",
            "Method:                 Least Squares   F-statistic:                     4.139\n",
            "Date:                Sat, 06 May 2023   Prob (F-statistic):           0.000172\n",
            "Time:                        03:52:00   Log-Likelihood:                 1290.2\n",
            "No. Observations:                 880   AIC:                            -2564.\n",
            "Df Residuals:                     872   BIC:                            -2526.\n",
            "Df Model:                           7                                         \n",
            "Covariance Type:            nonrobust                                         \n",
            "========================================================================================\n",
            "                           coef    std err          t      P>|t|      [0.025      0.975]\n",
            "----------------------------------------------------------------------------------------\n",
            "const                   -0.0668      0.006    -10.611      0.000      -0.079      -0.054\n",
            "debt_to_equity_ratio    -0.0026      0.001     -2.369      0.018      -0.005      -0.000\n",
            "gross_profit             0.0048      0.011      0.425      0.671      -0.017       0.027\n",
            "current_ratio            0.0002      0.000      0.441      0.660      -0.001       0.001\n",
            "asset_turnover_ratio     0.0019      0.003      0.716      0.474      -0.003       0.007\n",
            "roa                      0.0519      0.041      1.264      0.206      -0.029       0.133\n",
            "roe                      0.0056      0.014      0.389      0.697      -0.023       0.034\n",
            "net_profit_margin        0.0047      0.009      0.503      0.615      -0.014       0.023\n",
            "==============================================================================\n",
            "Omnibus:                       36.473   Durbin-Watson:                   1.965\n",
            "Prob(Omnibus):                  0.000   Jarque-Bera (JB):               87.378\n",
            "Skew:                          -0.182   Prob(JB):                     1.06e-19\n",
            "Kurtosis:                       4.500   Cond. No.                         138.\n",
            "==============================================================================\n",
            "\n",
            "Notes:\n",
            "[1] Standard Errors assume that the covariance matrix of the errors is correctly specified.\n"
          ]
        }
      ]
    },
    {
      "cell_type": "markdown",
      "source": [
        "The adjusted R-squared value is 0.024 which means the model explains approximately 2.4% of the variation in crash_return after adjusting for the number of independent variables.\n",
        "\n",
        "The only significant coefficient is debt_to_equity_ratio. The coefficient for the debt_to_equity_ratio is -0.0026. This means that for every one-unit increase in debt_to_equity_ratio, the crash_return is expected to decrease by 0.0026, holding all other factors constant. This implies that higher debt-to-equity ratios are associated with lower crash returns, suggesting that firms with higher leverage are more likely to experience lower returns during market crashes.\n",
        "\n",
        "The coefficients for 'gross_profit', 'current_ratio', 'asset_turnover_ratio', 'roa', 'roe', and 'net_profit_margin' are not significant, with p-values greater than 0.05. This means that we cannot confidently claim that these financial ratios have a significant impact on crash_return in this model."
      ],
      "metadata": {
        "id": "uirpWfzNADAk"
      }
    },
    {
      "cell_type": "markdown",
      "source": [
        "### 2. 3-factor risk"
      ],
      "metadata": {
        "id": "0DrgQDUwPId-"
      }
    },
    {
      "cell_type": "code",
      "source": [
        "#define the independent variables\n",
        "X = merged_data[['mktrf', 'smb', 'hml']]\n",
        "X = sm.add_constant(X)\n",
        "\n",
        "#define the dependent variable\n",
        "y = merged_data['crash_return']\n",
        "\n",
        "#fit the linear regression model\n",
        "model = sm.OLS(y, X).fit()\n",
        "print(model.summary())"
      ],
      "metadata": {
        "colab": {
          "base_uri": "https://localhost:8080/"
        },
        "id": "yUrRtIyE7BZq",
        "outputId": "3b63a03c-8150-41a5-dc11-098205a8b730"
      },
      "execution_count": 244,
      "outputs": [
        {
          "output_type": "stream",
          "name": "stdout",
          "text": [
            "                            OLS Regression Results                            \n",
            "==============================================================================\n",
            "Dep. Variable:           crash_return   R-squared:                       0.191\n",
            "Model:                            OLS   Adj. R-squared:                  0.188\n",
            "Method:                 Least Squares   F-statistic:                     68.74\n",
            "Date:                Sat, 06 May 2023   Prob (F-statistic):           6.36e-40\n",
            "Time:                        03:52:00   Log-Likelihood:                 1368.9\n",
            "No. Observations:                 880   AIC:                            -2730.\n",
            "Df Residuals:                     876   BIC:                            -2711.\n",
            "Df Model:                           3                                         \n",
            "Covariance Type:            nonrobust                                         \n",
            "==============================================================================\n",
            "                 coef    std err          t      P>|t|      [0.025      0.975]\n",
            "------------------------------------------------------------------------------\n",
            "const         -0.0006      0.005     -0.118      0.906      -0.010       0.009\n",
            "mktrf         -0.0581      0.004    -13.287      0.000      -0.067      -0.050\n",
            "smb           -0.0120      0.002     -6.493      0.000      -0.016      -0.008\n",
            "hml            0.0015      0.002      0.649      0.516      -0.003       0.006\n",
            "==============================================================================\n",
            "Omnibus:                       45.581   Durbin-Watson:                   1.936\n",
            "Prob(Omnibus):                  0.000   Jarque-Bera (JB):              129.833\n",
            "Skew:                          -0.190   Prob(JB):                     6.41e-29\n",
            "Kurtosis:                       4.843   Cond. No.                         6.13\n",
            "==============================================================================\n",
            "\n",
            "Notes:\n",
            "[1] Standard Errors assume that the covariance matrix of the errors is correctly specified.\n"
          ]
        }
      ]
    },
    {
      "cell_type": "markdown",
      "source": [
        "The adjusted r squared value is 0.188 indicating that 18.8% of the variation in the dependent variable can be explained by the independent variables.\n",
        "\n",
        "The coefficient for the market risk factor (mktrf) is -0.0581. This means that for every one-unit increase in mktrf, the crash_return is expected to decrease by 0.0581, holding all other factors constant. In financial terms, this implies that higher market risk is associated with lower crash returns.\n",
        "\n",
        "The coefficient for the size factor (smb) is -0.0120. This means that for every one-unit increase in smb, the crash_return is expected to decrease by 0.0120, holding all other factors constant. In financial terms, this implies that smaller firms (with higher smb values) are associated with lower crash returns.\n",
        "\n",
        "The coefficient for the value factor (hml) is not significant, with a p-value of 0.516. This means that we cannot confidently claim that hml has a significant impact on crash_return in this model."
      ],
      "metadata": {
        "id": "lBlz96G_8aWy"
      }
    },
    {
      "cell_type": "markdown",
      "source": [
        "###3. Industry categorical"
      ],
      "metadata": {
        "id": "6YTSYVWaPO8B"
      }
    },
    {
      "cell_type": "code",
      "source": [
        "#define the independent variables\n",
        "X = merged_data[['gsector_15.0', 'gsector_20.0',\n",
        "       'gsector_25.0', 'gsector_30.0', 'gsector_35.0', 'gsector_40.0',\n",
        "       'gsector_45.0', 'gsector_50.0', 'gsector_55.0', 'gsector_60.0']]\n",
        "X = sm.add_constant(X)\n",
        "\n",
        "#define the dependent variable\n",
        "y = merged_data['crash_return']\n",
        "\n",
        "#fit the linear regression model\n",
        "model = sm.OLS(y, X).fit()\n",
        "print(model.summary())"
      ],
      "metadata": {
        "colab": {
          "base_uri": "https://localhost:8080/"
        },
        "id": "X4RRHwc76vVC",
        "outputId": "514647e6-2087-4c2d-ba3f-60b1ddd43f5b"
      },
      "execution_count": 246,
      "outputs": [
        {
          "output_type": "stream",
          "name": "stdout",
          "text": [
            "                            OLS Regression Results                            \n",
            "==============================================================================\n",
            "Dep. Variable:           crash_return   R-squared:                       0.068\n",
            "Model:                            OLS   Adj. R-squared:                  0.057\n",
            "Method:                 Least Squares   F-statistic:                     6.311\n",
            "Date:                Sat, 06 May 2023   Prob (F-statistic):           2.15e-09\n",
            "Time:                        03:52:00   Log-Likelihood:                 1306.7\n",
            "No. Observations:                 880   AIC:                            -2591.\n",
            "Df Residuals:                     869   BIC:                            -2539.\n",
            "Df Model:                          10                                         \n",
            "Covariance Type:            nonrobust                                         \n",
            "================================================================================\n",
            "                   coef    std err          t      P>|t|      [0.025      0.975]\n",
            "--------------------------------------------------------------------------------\n",
            "const           -0.0878      0.008    -11.483      0.000      -0.103      -0.073\n",
            "gsector_15.0     0.0454      0.010      4.437      0.000       0.025       0.065\n",
            "gsector_20.0     0.0288      0.009      3.371      0.001       0.012       0.046\n",
            "gsector_25.0     0.0127      0.009      1.426      0.154      -0.005       0.030\n",
            "gsector_30.0     0.0409      0.010      3.909      0.000       0.020       0.061\n",
            "gsector_35.0     0.0245      0.010      2.405      0.016       0.005       0.045\n",
            "gsector_40.0     0.0127      0.010      1.283      0.200      -0.007       0.032\n",
            "gsector_45.0     0.0090      0.009      0.980      0.327      -0.009       0.027\n",
            "gsector_50.0     0.0237      0.017      1.424      0.155      -0.009       0.056\n",
            "gsector_55.0     0.0520      0.011      4.897      0.000       0.031       0.073\n",
            "gsector_60.0     0.0533      0.017      3.115      0.002       0.020       0.087\n",
            "==============================================================================\n",
            "Omnibus:                       46.203   Durbin-Watson:                   1.954\n",
            "Prob(Omnibus):                  0.000   Jarque-Bera (JB):              112.406\n",
            "Skew:                          -0.268   Prob(JB):                     3.90e-25\n",
            "Kurtosis:                       4.667   Cond. No.                         15.4\n",
            "==============================================================================\n",
            "\n",
            "Notes:\n",
            "[1] Standard Errors assume that the covariance matrix of the errors is correctly specified.\n"
          ]
        }
      ]
    },
    {
      "cell_type": "markdown",
      "source": [
        "The adjusted R-squared value is 0.057. The model explains approximately 5.7% of the variation in crash_return after adjusting for the number of independent variables.\n",
        "\n",
        "Only gsector 15, 20, 30, 35, 55, 60 and the reference industry(10) have an p value smaller than 0.05. Therefore, within this time period only these industry has a positive effect towards the crash_return which is higher than the referemce industry(10)."
      ],
      "metadata": {
        "id": "RGpdMLaVHf72"
      }
    },
    {
      "cell_type": "markdown",
      "source": [
        "### 1&2"
      ],
      "metadata": {
        "id": "bHG0Wdx_PXyS"
      }
    },
    {
      "cell_type": "code",
      "source": [
        "#define the independent variables\n",
        "X = merged_data[['debt_to_equity_ratio', 'gross_profit', 'current_ratio',\n",
        "                 'asset_turnover_ratio','roa', 'roe', 'net_profit_margin',\n",
        "                 'mktrf', 'smb', 'hml']]\n",
        "X = sm.add_constant(X)\n",
        "\n",
        "#define the dependent variable\n",
        "y = merged_data['crash_return']\n",
        "\n",
        "#fit the linear regression model\n",
        "model = sm.OLS(y, X).fit()\n",
        "print(model.summary())"
      ],
      "metadata": {
        "colab": {
          "base_uri": "https://localhost:8080/"
        },
        "id": "KzAU7go1KF5b",
        "outputId": "ebd3a1be-c08b-46f6-968f-f8797cf43f22"
      },
      "execution_count": 247,
      "outputs": [
        {
          "output_type": "stream",
          "name": "stdout",
          "text": [
            "                            OLS Regression Results                            \n",
            "==============================================================================\n",
            "Dep. Variable:           crash_return   R-squared:                       0.209\n",
            "Model:                            OLS   Adj. R-squared:                  0.200\n",
            "Method:                 Least Squares   F-statistic:                     22.96\n",
            "Date:                Sat, 06 May 2023   Prob (F-statistic):           1.74e-38\n",
            "Time:                        03:57:37   Log-Likelihood:                 1379.0\n",
            "No. Observations:                 880   AIC:                            -2736.\n",
            "Df Residuals:                     869   BIC:                            -2683.\n",
            "Df Model:                          10                                         \n",
            "Covariance Type:            nonrobust                                         \n",
            "========================================================================================\n",
            "                           coef    std err          t      P>|t|      [0.025      0.975]\n",
            "----------------------------------------------------------------------------------------\n",
            "const                   -0.0054      0.007     -0.742      0.458      -0.020       0.009\n",
            "debt_to_equity_ratio    -0.0019      0.001     -1.891      0.059      -0.004    7.28e-05\n",
            "gross_profit             0.0025      0.010      0.241      0.810      -0.018       0.023\n",
            "current_ratio        -9.181e-05      0.000     -0.276      0.782      -0.001       0.001\n",
            "asset_turnover_ratio     0.0035      0.002      1.432      0.152      -0.001       0.008\n",
            "roa                      0.0460      0.037      1.237      0.216      -0.027       0.119\n",
            "roe                      0.0020      0.013      0.153      0.879      -0.024       0.028\n",
            "net_profit_margin        0.0006      0.008      0.068      0.946      -0.016       0.017\n",
            "mktrf                   -0.0577      0.004    -13.234      0.000      -0.066      -0.049\n",
            "smb                     -0.0110      0.002     -5.715      0.000      -0.015      -0.007\n",
            "hml                      0.0031      0.002      1.364      0.173      -0.001       0.008\n",
            "==============================================================================\n",
            "Omnibus:                       39.056   Durbin-Watson:                   1.935\n",
            "Prob(Omnibus):                  0.000   Jarque-Bera (JB):              114.313\n",
            "Skew:                          -0.076   Prob(JB):                     1.50e-25\n",
            "Kurtosis:                       4.759   Cond. No.                         139.\n",
            "==============================================================================\n",
            "\n",
            "Notes:\n",
            "[1] Standard Errors assume that the covariance matrix of the errors is correctly specified.\n"
          ]
        }
      ]
    },
    {
      "cell_type": "markdown",
      "source": [
        "The adjusted R-squared value is 0.200. The model explains approximately 20% of the variation in crash_return after adjusting for the number of independent variables.\n",
        "\n",
        "Only mktrf and smb has a significant coefficient. The coefficient for the market risk factor (mktrf) is -0.0577. This means that for every one-unit increase in mktrf, the crash_return is expected to decrease by 0.0577, holding all other factors constant. This implies that higher market risk is associated with lower crash returns.\n",
        "\n",
        "The coefficient for the size factor (smb) is -0.0110. This means that for every one-unit increase in smb, the crash_return is expected to decrease by 0.0110, holding all other factors constant. This implies that smaller firms (with higher smb values) are associated with lower crash returns.\n",
        "\n",
        "The coefficients for 'debt_to_equity_ratio', 'gross_profit', 'current_ratio', 'asset_turnover_ratio', 'roa', 'roe', 'net_profit_margin', and 'hml' are not significant, with p-values greater than 0.05. This means that we cannot confidently claim that these financial ratios and the value factor (hml) have a significant impact on crash_return in this model."
      ],
      "metadata": {
        "id": "L4g-EO0CNh17"
      }
    },
    {
      "cell_type": "markdown",
      "source": [
        "### 2&3"
      ],
      "metadata": {
        "id": "A43hvJ7MPaED"
      }
    },
    {
      "cell_type": "code",
      "source": [
        "#define the independent variables\n",
        "X = merged_data[['mktrf', 'smb', 'hml','gsector_15.0', 'gsector_20.0',\n",
        "       'gsector_25.0', 'gsector_30.0', 'gsector_35.0', 'gsector_40.0',\n",
        "       'gsector_45.0', 'gsector_50.0', 'gsector_55.0', 'gsector_60.0']]\n",
        "X = sm.add_constant(X)\n",
        "\n",
        "#define the dependent variable\n",
        "y = merged_data['crash_return']\n",
        "\n",
        "#fit the linear regression model\n",
        "model = sm.OLS(y, X).fit()\n",
        "print(model.summary())"
      ],
      "metadata": {
        "colab": {
          "base_uri": "https://localhost:8080/"
        },
        "id": "AkAADz_nNT5b",
        "outputId": "59f55f9a-9f46-45b8-e6db-e7902fafeade"
      },
      "execution_count": 248,
      "outputs": [
        {
          "output_type": "stream",
          "name": "stdout",
          "text": [
            "                            OLS Regression Results                            \n",
            "==============================================================================\n",
            "Dep. Variable:           crash_return   R-squared:                       0.223\n",
            "Model:                            OLS   Adj. R-squared:                  0.211\n",
            "Method:                 Least Squares   F-statistic:                     19.13\n",
            "Date:                Sat, 06 May 2023   Prob (F-statistic):           1.07e-39\n",
            "Time:                        04:07:24   Log-Likelihood:                 1386.9\n",
            "No. Observations:                 880   AIC:                            -2746.\n",
            "Df Residuals:                     866   BIC:                            -2679.\n",
            "Df Model:                          13                                         \n",
            "Covariance Type:            nonrobust                                         \n",
            "================================================================================\n",
            "                   coef    std err          t      P>|t|      [0.025      0.975]\n",
            "--------------------------------------------------------------------------------\n",
            "const           -0.0207      0.009     -2.386      0.017      -0.038      -0.004\n",
            "mktrf           -0.0567      0.005    -12.301      0.000      -0.066      -0.048\n",
            "smb             -0.0112      0.002     -5.585      0.000      -0.015      -0.007\n",
            "hml              0.0017      0.003      0.640      0.522      -0.003       0.007\n",
            "gsector_15.0     0.0404      0.009      4.260      0.000       0.022       0.059\n",
            "gsector_20.0     0.0260      0.008      3.224      0.001       0.010       0.042\n",
            "gsector_25.0     0.0116      0.008      1.374      0.170      -0.005       0.028\n",
            "gsector_30.0     0.0252      0.010      2.586      0.010       0.006       0.044\n",
            "gsector_35.0     0.0181      0.010      1.871      0.062      -0.001       0.037\n",
            "gsector_40.0     0.0086      0.009      0.942      0.347      -0.009       0.026\n",
            "gsector_45.0     0.0090      0.009      0.988      0.324      -0.009       0.027\n",
            "gsector_50.0     0.0162      0.015      1.056      0.291      -0.014       0.046\n",
            "gsector_55.0     0.0176      0.010      1.741      0.082      -0.002       0.038\n",
            "gsector_60.0     0.0355      0.016      2.251      0.025       0.005       0.066\n",
            "==============================================================================\n",
            "Omnibus:                       45.984   Durbin-Watson:                   1.921\n",
            "Prob(Omnibus):                  0.000   Jarque-Bera (JB):              138.261\n",
            "Skew:                          -0.163   Prob(JB):                     9.49e-31\n",
            "Kurtosis:                       4.914   Cond. No.                         25.3\n",
            "==============================================================================\n",
            "\n",
            "Notes:\n",
            "[1] Standard Errors assume that the covariance matrix of the errors is correctly specified.\n"
          ]
        }
      ]
    },
    {
      "cell_type": "markdown",
      "source": [
        "The adjusted R-squared value is 0.211. The model explains approximately 21.1% of the variation in crash_return after adjusting for the number of independent variables.\n",
        "\n",
        "The coefficient for the market risk factor (mktrf) is -0.0567. This means that for every one-unit increase in mktrf, the crash_return is expected to decrease by 0.0567, holding all other factors constant. This implies that higher market risk is associated with lower crash returns.\n",
        "\n",
        "The coefficient for the size factor (smb) is -0.0112. This means that for every one-unit increase in smb, the crash_return is expected to decrease by 0.0112, holding all other factors constant. This implies that smaller firms (with higher smb values) are associated with lower crash returns.\n",
        "\n",
        "The positive coefficients suggest that, compared to 'gsector_10.0', the industries represented by 'gsector_15.0', 'gsector_20.0', 'gsector_30.0', and 'gsector_60.0' have higher crash returns. \n",
        "\n",
        " The coefficients for 'hml' and some of the 'gsector' variables are not significant, with p-values greater than 0.05. This means that we cannot confidently claim that these factors have a significant impact on crash_return in this model."
      ],
      "metadata": {
        "id": "8K4a6_WrP0cy"
      }
    },
    {
      "cell_type": "markdown",
      "source": [
        "### 1&3"
      ],
      "metadata": {
        "id": "o2UJCtMBQ7Qq"
      }
    },
    {
      "cell_type": "code",
      "source": [
        "#define the independent variables\n",
        "X = merged_data[['debt_to_equity_ratio', 'gross_profit', 'current_ratio',\n",
        "                 'asset_turnover_ratio','roa', 'roe', 'net_profit_margin',\n",
        "                 'gsector_15.0', 'gsector_20.0',\n",
        "                 'gsector_25.0', 'gsector_30.0', 'gsector_35.0', 'gsector_40.0',\n",
        "                 'gsector_45.0', 'gsector_50.0', 'gsector_55.0', 'gsector_60.0']]\n",
        "X = sm.add_constant(X)\n",
        "\n",
        "#define the dependent variable\n",
        "y = merged_data['crash_return']\n",
        "\n",
        "#fit the linear regression model\n",
        "model = sm.OLS(y, X).fit()\n",
        "print(model.summary())"
      ],
      "metadata": {
        "colab": {
          "base_uri": "https://localhost:8080/"
        },
        "id": "Y3nUR1JgRAuo",
        "outputId": "c08f9e61-0e7b-46f1-e20b-8a89ba1baaf9"
      },
      "execution_count": 250,
      "outputs": [
        {
          "output_type": "stream",
          "name": "stdout",
          "text": [
            "                            OLS Regression Results                            \n",
            "==============================================================================\n",
            "Dep. Variable:           crash_return   R-squared:                       0.100\n",
            "Model:                            OLS   Adj. R-squared:                  0.082\n",
            "Method:                 Least Squares   F-statistic:                     5.642\n",
            "Date:                Sat, 06 May 2023   Prob (F-statistic):           2.96e-12\n",
            "Time:                        04:14:35   Log-Likelihood:                 1322.3\n",
            "No. Observations:                 880   AIC:                            -2609.\n",
            "Df Residuals:                     862   BIC:                            -2522.\n",
            "Df Model:                          17                                         \n",
            "Covariance Type:            nonrobust                                         \n",
            "========================================================================================\n",
            "                           coef    std err          t      P>|t|      [0.025      0.975]\n",
            "----------------------------------------------------------------------------------------\n",
            "const                   -0.0947      0.010     -9.811      0.000      -0.114      -0.076\n",
            "debt_to_equity_ratio    -0.0035      0.001     -3.200      0.001      -0.006      -0.001\n",
            "gross_profit             0.0219      0.012      1.880      0.060      -0.001       0.045\n",
            "current_ratio            0.0003      0.000      0.807      0.420      -0.000       0.001\n",
            "asset_turnover_ratio     0.0035      0.003      1.146      0.252      -0.003       0.010\n",
            "roa                      0.0396      0.040      0.980      0.327      -0.040       0.119\n",
            "roe                     -0.0002      0.014     -0.013      0.990      -0.028       0.028\n",
            "net_profit_margin        0.0011      0.009      0.120      0.904      -0.017       0.019\n",
            "gsector_15.0             0.0421      0.010      4.093      0.000       0.022       0.062\n",
            "gsector_20.0             0.0265      0.009      3.048      0.002       0.009       0.044\n",
            "gsector_25.0             0.0104      0.009      1.134      0.257      -0.008       0.028\n",
            "gsector_30.0             0.0325      0.011      2.883      0.004       0.010       0.055\n",
            "gsector_35.0             0.0195      0.010      1.907      0.057      -0.001       0.039\n",
            "gsector_40.0             0.0171      0.010      1.697      0.090      -0.003       0.037\n",
            "gsector_45.0             0.0030      0.009      0.331      0.741      -0.015       0.021\n",
            "gsector_50.0             0.0237      0.016      1.438      0.151      -0.009       0.056\n",
            "gsector_55.0             0.0568      0.011      5.258      0.000       0.036       0.078\n",
            "gsector_60.0             0.0545      0.017      3.187      0.001       0.021       0.088\n",
            "==============================================================================\n",
            "Omnibus:                       41.396   Durbin-Watson:                   1.953\n",
            "Prob(Omnibus):                  0.000   Jarque-Bera (JB):              112.120\n",
            "Skew:                          -0.171   Prob(JB):                     4.50e-25\n",
            "Kurtosis:                       4.715   Cond. No.                         140.\n",
            "==============================================================================\n",
            "\n",
            "Notes:\n",
            "[1] Standard Errors assume that the covariance matrix of the errors is correctly specified.\n"
          ]
        }
      ]
    },
    {
      "cell_type": "markdown",
      "source": [
        "The adjusted R-squared value is 0.082, which is slightly lower than the R-squared value. The model explains approximately 8.2% of the variation in crash_return after adjusting for the number of independent variables.\n",
        "\n",
        "The coefficient for the debt_to_equity_ratio is -0.0035. This means that for every one-unit increase in debt_to_equity_ratio, the crash_return is expected to decrease by 0.0035, holding all other factors constant. This implies that firms with higher debt relative to equity have lower crash returns.\n",
        "\n",
        "The significant coefficients for the categorical industry variables indicate that there are differences in crash_return between industries. The positive coefficients suggest that, compared to the gsector_10.0, the industries represented by 'gsector_15.0', 'gsector_20.0', 'gsector_30.0', 'gsector_55.0', and 'gsector_60.0' have higher crash returns.\n",
        "\n",
        "The coefficients for some financial ratios and some of the 'gsector' variables are not significant, with p-values greater than 0.05. This means that we cannot confidently claim that these factors have a significant impact on crash_return in this model."
      ],
      "metadata": {
        "id": "7V1G6377X98V"
      }
    },
    {
      "cell_type": "markdown",
      "source": [
        "### 1&2&3"
      ],
      "metadata": {
        "id": "pPJoi2FlYiB9"
      }
    },
    {
      "cell_type": "code",
      "source": [
        "#define the independent variables\n",
        "X = merged_data[['mktrf', 'smb', 'hml',\n",
        "                 'debt_to_equity_ratio', 'gross_profit', 'current_ratio',\n",
        "                 'asset_turnover_ratio','roa', 'roe', 'net_profit_margin',\n",
        "                 'gsector_15.0', 'gsector_20.0',\n",
        "                 'gsector_25.0', 'gsector_30.0', 'gsector_35.0', 'gsector_40.0',\n",
        "                 'gsector_45.0', 'gsector_50.0', 'gsector_55.0', 'gsector_60.0']]\n",
        "X = sm.add_constant(X)\n",
        "\n",
        "#define the dependent variable\n",
        "y = merged_data['crash_return']\n",
        "\n",
        "#fit the linear regression model\n",
        "model = sm.OLS(y, X).fit()\n",
        "print(model.summary())"
      ],
      "metadata": {
        "colab": {
          "base_uri": "https://localhost:8080/"
        },
        "id": "9K1IYDSvRMke",
        "outputId": "f2052ebf-e258-4125-8133-9db5a691b263"
      },
      "execution_count": 251,
      "outputs": [
        {
          "output_type": "stream",
          "name": "stdout",
          "text": [
            "                            OLS Regression Results                            \n",
            "==============================================================================\n",
            "Dep. Variable:           crash_return   R-squared:                       0.238\n",
            "Model:                            OLS   Adj. R-squared:                  0.220\n",
            "Method:                 Least Squares   F-statistic:                     13.39\n",
            "Date:                Sat, 06 May 2023   Prob (F-statistic):           9.19e-39\n",
            "Time:                        04:47:16   Log-Likelihood:                 1395.3\n",
            "No. Observations:                 880   AIC:                            -2749.\n",
            "Df Residuals:                     859   BIC:                            -2648.\n",
            "Df Model:                          20                                         \n",
            "Covariance Type:            nonrobust                                         \n",
            "========================================================================================\n",
            "                           coef    std err          t      P>|t|      [0.025      0.975]\n",
            "----------------------------------------------------------------------------------------\n",
            "const                   -0.0278      0.010     -2.661      0.008      -0.048      -0.007\n",
            "mktrf                   -0.0553      0.005    -11.889      0.000      -0.064      -0.046\n",
            "smb                     -0.0099      0.002     -4.806      0.000      -0.014      -0.006\n",
            "hml                      0.0025      0.003      0.947      0.344      -0.003       0.008\n",
            "debt_to_equity_ratio    -0.0021      0.001     -2.017      0.044      -0.004   -5.55e-05\n",
            "gross_profit             0.0127      0.011      1.175      0.240      -0.009       0.034\n",
            "current_ratio           -0.0001      0.000     -0.302      0.763      -0.001       0.001\n",
            "asset_turnover_ratio     0.0033      0.003      1.146      0.252      -0.002       0.009\n",
            "roa                      0.0304      0.037      0.817      0.414      -0.043       0.103\n",
            "roe                      0.0046      0.013      0.347      0.729      -0.021       0.030\n",
            "net_profit_margin       -0.0015      0.008     -0.173      0.863      -0.018       0.015\n",
            "gsector_15.0             0.0384      0.010      4.002      0.000       0.020       0.057\n",
            "gsector_20.0             0.0240      0.008      2.911      0.004       0.008       0.040\n",
            "gsector_25.0             0.0092      0.009      1.064      0.288      -0.008       0.026\n",
            "gsector_30.0             0.0185      0.011      1.750      0.081      -0.002       0.039\n",
            "gsector_35.0             0.0158      0.010      1.626      0.104      -0.003       0.035\n",
            "gsector_40.0             0.0112      0.009      1.198      0.231      -0.007       0.030\n",
            "gsector_45.0             0.0060      0.009      0.652      0.514      -0.012       0.024\n",
            "gsector_50.0             0.0165      0.015      1.080      0.280      -0.013       0.047\n",
            "gsector_55.0             0.0213      0.010      2.042      0.042       0.001       0.042\n",
            "gsector_60.0             0.0360      0.016      2.261      0.024       0.005       0.067\n",
            "==============================================================================\n",
            "Omnibus:                       41.871   Durbin-Watson:                   1.927\n",
            "Prob(Omnibus):                  0.000   Jarque-Bera (JB):              130.128\n",
            "Skew:                          -0.067   Prob(JB):                     5.54e-29\n",
            "Kurtosis:                       4.879   Cond. No.                         141.\n",
            "==============================================================================\n",
            "\n",
            "Notes:\n",
            "[1] Standard Errors assume that the covariance matrix of the errors is correctly specified.\n"
          ]
        }
      ]
    },
    {
      "cell_type": "markdown",
      "source": [
        "The adjusted R-squared value is 0.220, which is slightly lower than the R-squared value. The model explains approximately 22% of the variation in crash_return after adjusting for the number of independent variables.\n",
        "\n",
        "The constant term coefficient is -0.0278, which represents the expected crash_return value when all other independent variables are equal to zero.\n",
        "\n",
        "The coefficient for the market risk premium is -0.0553. This means that for every one-unit increase in the market risk premium, the crash_return is expected to decrease by 0.0553, holding all other factors constant. This suggests that higher market risk premiums are associated with lower crash returns.\n",
        "\n",
        "The coefficient for the size factor is -0.0099. This means that for every one-unit increase in the size factor, the crash_return is expected to decrease by 0.0099, holding all other factors constant. This implies that firms with smaller market capitalization have lower crash returns compared to larger firms.\n",
        "\n",
        "The coefficient for the debt_to_equity_ratio is -0.0021. This means that for every one-unit increase in debt_to_equity_ratio, the crash_return is expected to decrease by 0.0021, holding all other factors constant. This implies that firms with higher debt relative to equity have lower crash returns.\n",
        "\n",
        "The significant coefficients for the categorical industry variables indicate that there are differences in crash_return between industries. The positive coefficients suggest that, compared to the gsector_10.0, the industries represented by 'gsector_15.0', 'gsector_20.0', 'gsector_55.0', and 'gsector_60.0' have higher crash returns. The magnitude of the coefficients represents the difference in crash_return relative to the reference industry.\n",
        "\n",
        "The coefficients for some financial ratios, the value factor (hml), and some of the 'gsector' variables are not significant, with p-values greater than 0.05. This means that we cannot confidently claim that these factors have a significant impact on crash_return in this model."
      ],
      "metadata": {
        "id": "CBKY1qU-ZC9Y"
      }
    },
    {
      "cell_type": "markdown",
      "source": [
        "### Final regression"
      ],
      "metadata": {
        "id": "Fq2M2tRYae94"
      }
    },
    {
      "cell_type": "code",
      "source": [
        "#define the independent variables\n",
        "X = merged_data[['mktrf', 'smb',\n",
        "                 'debt_to_equity_ratio',\n",
        "                 'gsector_15.0', 'gsector_20.0',\n",
        "                 'gsector_55.0', 'gsector_60.0']]\n",
        "X = sm.add_constant(X)\n",
        "\n",
        "#define the dependent variable\n",
        "y = merged_data['crash_return']\n",
        "\n",
        "#fit the linear regression model\n",
        "model = sm.OLS(y, X).fit()\n",
        "print(model.summary())"
      ],
      "metadata": {
        "colab": {
          "base_uri": "https://localhost:8080/"
        },
        "id": "Y_1YYr1hYrIf",
        "outputId": "33fb9abe-aa4e-4c07-e898-bc630d467bf4"
      },
      "execution_count": 254,
      "outputs": [
        {
          "output_type": "stream",
          "name": "stdout",
          "text": [
            "                            OLS Regression Results                            \n",
            "==============================================================================\n",
            "Dep. Variable:           crash_return   R-squared:                       0.221\n",
            "Model:                            OLS   Adj. R-squared:                  0.214\n",
            "Method:                 Least Squares   F-statistic:                     35.25\n",
            "Date:                Sat, 06 May 2023   Prob (F-statistic):           1.85e-43\n",
            "Time:                        05:03:36   Log-Likelihood:                 1385.5\n",
            "No. Observations:                 880   AIC:                            -2755.\n",
            "Df Residuals:                     872   BIC:                            -2717.\n",
            "Df Model:                           7                                         \n",
            "Covariance Type:            nonrobust                                         \n",
            "========================================================================================\n",
            "                           coef    std err          t      P>|t|      [0.025      0.975]\n",
            "----------------------------------------------------------------------------------------\n",
            "const                   -0.0063      0.005     -1.221      0.222      -0.017       0.004\n",
            "mktrf                   -0.0559      0.004    -12.789      0.000      -0.065      -0.047\n",
            "smb                     -0.0113      0.002     -6.051      0.000      -0.015      -0.008\n",
            "debt_to_equity_ratio    -0.0024      0.001     -2.454      0.014      -0.004      -0.000\n",
            "gsector_15.0             0.0278      0.007      4.227      0.000       0.015       0.041\n",
            "gsector_20.0             0.0139      0.004      3.398      0.001       0.006       0.022\n",
            "gsector_55.0             0.0091      0.008      1.196      0.232      -0.006       0.024\n",
            "gsector_60.0             0.0261      0.014      1.834      0.067      -0.002       0.054\n",
            "==============================================================================\n",
            "Omnibus:                       43.008   Durbin-Watson:                   1.937\n",
            "Prob(Omnibus):                  0.000   Jarque-Bera (JB):              126.433\n",
            "Skew:                          -0.140   Prob(JB):                     3.51e-28\n",
            "Kurtosis:                       4.836   Cond. No.                         21.1\n",
            "==============================================================================\n",
            "\n",
            "Notes:\n",
            "[1] Standard Errors assume that the covariance matrix of the errors is correctly specified.\n"
          ]
        }
      ]
    },
    {
      "cell_type": "markdown",
      "source": [
        "The most important variables for 1987 crash is mktrf, smb, debt_to_equity_ratio, gsector_15.0, gsector_20.0 and gsector_60.0 because all of them are statiscally significance."
      ],
      "metadata": {
        "id": "ZPbvLfHscmQf"
      }
    },
    {
      "cell_type": "markdown",
      "source": [
        "# 09/2000 - 03/2001"
      ],
      "metadata": {
        "id": "c3wDfyfZdB6d"
      }
    },
    {
      "cell_type": "code",
      "source": [
        "#use te correct dataset\n",
        "crsp = df_dict['crsp9701']\n",
        "crsp['date'] = pd.to_datetime(crsp['date']) \n",
        "conditioned = crsp[(crsp['date'] >= '2000-09-01') & (crsp['date'] <= '2001-03-31')]\n",
        "crash_return = conditioned.groupby('TICKER')['RET'].mean().reset_index()\n",
        "crash_return.rename(columns={'RET': 'crash_return'}, inplace=True)\n",
        "cp1 = df_dict['cp2000']\n",
        "gs = df_dict['gs2000']\n",
        "ff = df_dict['ff2000']"
      ],
      "metadata": {
        "id": "zBQPIVOvdQYH"
      },
      "execution_count": 255,
      "outputs": []
    },
    {
      "cell_type": "code",
      "source": [
        "merged_data = pd.merge(crash_return, cp1, left_on='TICKER', right_on='tic')\n",
        "merged_data = pd.merge(merged_data, gs, left_on='TICKER', right_on='tic')\n",
        "merged_data = pd.merge(merged_data, ff, left_on='TICKER', right_on='ticker')"
      ],
      "metadata": {
        "id": "PH_YpZdfdQYH"
      },
      "execution_count": 256,
      "outputs": []
    },
    {
      "cell_type": "code",
      "source": [
        "merged_data.head()"
      ],
      "metadata": {
        "colab": {
          "base_uri": "https://localhost:8080/",
          "height": 386
        },
        "outputId": "8f6705e7-8967-40e4-9ebc-9d2721d06973",
        "id": "R-z0Ta1idQYI"
      },
      "execution_count": 257,
      "outputs": [
        {
          "output_type": "execute_result",
          "data": {
            "text/plain": [
              "  TICKER  crash_return  gvkey_x    datadate  fyear_x indfmt consol popsrc  \\\n",
              "0   AABC      0.012024    16855  2000-12-31     2000   INDL      C      D   \n",
              "1   AAME     -0.007625    16671  2000-12-31     2000   INDL      C      D   \n",
              "2   AANB      0.023203    17208  2000-12-31     2000   INDL      C      D   \n",
              "3   AAON     -0.023327    21542  2000-12-31     2000   INDL      C      D   \n",
              "4   AAPL     -0.080819     1690  2000-09-30     2000   INDL      C      D   \n",
              "\n",
              "  datafmt tic_x  ... costat  gvkey_y  fyear_y  tic_y  gsector  ticker  \\\n",
              "0     STD  AABC  ...      I    16855     2000   AABC     40.0    AABC   \n",
              "1     STD  AAME  ...      A    16671     2000   AAME     40.0    AAME   \n",
              "2     STD  AANB  ...      I    17208     2000   AANB     40.0    AANB   \n",
              "3     STD  AAON  ...      A    21542     2000   AAON     20.0    AAON   \n",
              "4     STD  AAPL  ...      A     1690     2000   AAPL     45.0    AAPL   \n",
              "\n",
              "      const     mktrf       smb       hml  \n",
              "0 -0.001837  0.656875  0.437663  0.871911  \n",
              "1 -0.011435  0.846537  0.258837  0.819471  \n",
              "2  0.004608  0.633644  0.507936  0.666857  \n",
              "3  0.030781  0.977554  0.358985  0.331281  \n",
              "4  0.031930  0.724574  0.117040 -1.385739  \n",
              "\n",
              "[5 rows x 31 columns]"
            ],
            "text/html": [
              "\n",
              "  <div id=\"df-875edb69-d022-407d-92e7-9b5ff91b5ffd\">\n",
              "    <div class=\"colab-df-container\">\n",
              "      <div>\n",
              "<style scoped>\n",
              "    .dataframe tbody tr th:only-of-type {\n",
              "        vertical-align: middle;\n",
              "    }\n",
              "\n",
              "    .dataframe tbody tr th {\n",
              "        vertical-align: top;\n",
              "    }\n",
              "\n",
              "    .dataframe thead th {\n",
              "        text-align: right;\n",
              "    }\n",
              "</style>\n",
              "<table border=\"1\" class=\"dataframe\">\n",
              "  <thead>\n",
              "    <tr style=\"text-align: right;\">\n",
              "      <th></th>\n",
              "      <th>TICKER</th>\n",
              "      <th>crash_return</th>\n",
              "      <th>gvkey_x</th>\n",
              "      <th>datadate</th>\n",
              "      <th>fyear_x</th>\n",
              "      <th>indfmt</th>\n",
              "      <th>consol</th>\n",
              "      <th>popsrc</th>\n",
              "      <th>datafmt</th>\n",
              "      <th>tic_x</th>\n",
              "      <th>...</th>\n",
              "      <th>costat</th>\n",
              "      <th>gvkey_y</th>\n",
              "      <th>fyear_y</th>\n",
              "      <th>tic_y</th>\n",
              "      <th>gsector</th>\n",
              "      <th>ticker</th>\n",
              "      <th>const</th>\n",
              "      <th>mktrf</th>\n",
              "      <th>smb</th>\n",
              "      <th>hml</th>\n",
              "    </tr>\n",
              "  </thead>\n",
              "  <tbody>\n",
              "    <tr>\n",
              "      <th>0</th>\n",
              "      <td>AABC</td>\n",
              "      <td>0.012024</td>\n",
              "      <td>16855</td>\n",
              "      <td>2000-12-31</td>\n",
              "      <td>2000</td>\n",
              "      <td>INDL</td>\n",
              "      <td>C</td>\n",
              "      <td>D</td>\n",
              "      <td>STD</td>\n",
              "      <td>AABC</td>\n",
              "      <td>...</td>\n",
              "      <td>I</td>\n",
              "      <td>16855</td>\n",
              "      <td>2000</td>\n",
              "      <td>AABC</td>\n",
              "      <td>40.0</td>\n",
              "      <td>AABC</td>\n",
              "      <td>-0.001837</td>\n",
              "      <td>0.656875</td>\n",
              "      <td>0.437663</td>\n",
              "      <td>0.871911</td>\n",
              "    </tr>\n",
              "    <tr>\n",
              "      <th>1</th>\n",
              "      <td>AAME</td>\n",
              "      <td>-0.007625</td>\n",
              "      <td>16671</td>\n",
              "      <td>2000-12-31</td>\n",
              "      <td>2000</td>\n",
              "      <td>INDL</td>\n",
              "      <td>C</td>\n",
              "      <td>D</td>\n",
              "      <td>STD</td>\n",
              "      <td>AAME</td>\n",
              "      <td>...</td>\n",
              "      <td>A</td>\n",
              "      <td>16671</td>\n",
              "      <td>2000</td>\n",
              "      <td>AAME</td>\n",
              "      <td>40.0</td>\n",
              "      <td>AAME</td>\n",
              "      <td>-0.011435</td>\n",
              "      <td>0.846537</td>\n",
              "      <td>0.258837</td>\n",
              "      <td>0.819471</td>\n",
              "    </tr>\n",
              "    <tr>\n",
              "      <th>2</th>\n",
              "      <td>AANB</td>\n",
              "      <td>0.023203</td>\n",
              "      <td>17208</td>\n",
              "      <td>2000-12-31</td>\n",
              "      <td>2000</td>\n",
              "      <td>INDL</td>\n",
              "      <td>C</td>\n",
              "      <td>D</td>\n",
              "      <td>STD</td>\n",
              "      <td>AANB</td>\n",
              "      <td>...</td>\n",
              "      <td>I</td>\n",
              "      <td>17208</td>\n",
              "      <td>2000</td>\n",
              "      <td>AANB</td>\n",
              "      <td>40.0</td>\n",
              "      <td>AANB</td>\n",
              "      <td>0.004608</td>\n",
              "      <td>0.633644</td>\n",
              "      <td>0.507936</td>\n",
              "      <td>0.666857</td>\n",
              "    </tr>\n",
              "    <tr>\n",
              "      <th>3</th>\n",
              "      <td>AAON</td>\n",
              "      <td>-0.023327</td>\n",
              "      <td>21542</td>\n",
              "      <td>2000-12-31</td>\n",
              "      <td>2000</td>\n",
              "      <td>INDL</td>\n",
              "      <td>C</td>\n",
              "      <td>D</td>\n",
              "      <td>STD</td>\n",
              "      <td>AAON</td>\n",
              "      <td>...</td>\n",
              "      <td>A</td>\n",
              "      <td>21542</td>\n",
              "      <td>2000</td>\n",
              "      <td>AAON</td>\n",
              "      <td>20.0</td>\n",
              "      <td>AAON</td>\n",
              "      <td>0.030781</td>\n",
              "      <td>0.977554</td>\n",
              "      <td>0.358985</td>\n",
              "      <td>0.331281</td>\n",
              "    </tr>\n",
              "    <tr>\n",
              "      <th>4</th>\n",
              "      <td>AAPL</td>\n",
              "      <td>-0.080819</td>\n",
              "      <td>1690</td>\n",
              "      <td>2000-09-30</td>\n",
              "      <td>2000</td>\n",
              "      <td>INDL</td>\n",
              "      <td>C</td>\n",
              "      <td>D</td>\n",
              "      <td>STD</td>\n",
              "      <td>AAPL</td>\n",
              "      <td>...</td>\n",
              "      <td>A</td>\n",
              "      <td>1690</td>\n",
              "      <td>2000</td>\n",
              "      <td>AAPL</td>\n",
              "      <td>45.0</td>\n",
              "      <td>AAPL</td>\n",
              "      <td>0.031930</td>\n",
              "      <td>0.724574</td>\n",
              "      <td>0.117040</td>\n",
              "      <td>-1.385739</td>\n",
              "    </tr>\n",
              "  </tbody>\n",
              "</table>\n",
              "<p>5 rows × 31 columns</p>\n",
              "</div>\n",
              "      <button class=\"colab-df-convert\" onclick=\"convertToInteractive('df-875edb69-d022-407d-92e7-9b5ff91b5ffd')\"\n",
              "              title=\"Convert this dataframe to an interactive table.\"\n",
              "              style=\"display:none;\">\n",
              "        \n",
              "  <svg xmlns=\"http://www.w3.org/2000/svg\" height=\"24px\"viewBox=\"0 0 24 24\"\n",
              "       width=\"24px\">\n",
              "    <path d=\"M0 0h24v24H0V0z\" fill=\"none\"/>\n",
              "    <path d=\"M18.56 5.44l.94 2.06.94-2.06 2.06-.94-2.06-.94-.94-2.06-.94 2.06-2.06.94zm-11 1L8.5 8.5l.94-2.06 2.06-.94-2.06-.94L8.5 2.5l-.94 2.06-2.06.94zm10 10l.94 2.06.94-2.06 2.06-.94-2.06-.94-.94-2.06-.94 2.06-2.06.94z\"/><path d=\"M17.41 7.96l-1.37-1.37c-.4-.4-.92-.59-1.43-.59-.52 0-1.04.2-1.43.59L10.3 9.45l-7.72 7.72c-.78.78-.78 2.05 0 2.83L4 21.41c.39.39.9.59 1.41.59.51 0 1.02-.2 1.41-.59l7.78-7.78 2.81-2.81c.8-.78.8-2.07 0-2.86zM5.41 20L4 18.59l7.72-7.72 1.47 1.35L5.41 20z\"/>\n",
              "  </svg>\n",
              "      </button>\n",
              "      \n",
              "  <style>\n",
              "    .colab-df-container {\n",
              "      display:flex;\n",
              "      flex-wrap:wrap;\n",
              "      gap: 12px;\n",
              "    }\n",
              "\n",
              "    .colab-df-convert {\n",
              "      background-color: #E8F0FE;\n",
              "      border: none;\n",
              "      border-radius: 50%;\n",
              "      cursor: pointer;\n",
              "      display: none;\n",
              "      fill: #1967D2;\n",
              "      height: 32px;\n",
              "      padding: 0 0 0 0;\n",
              "      width: 32px;\n",
              "    }\n",
              "\n",
              "    .colab-df-convert:hover {\n",
              "      background-color: #E2EBFA;\n",
              "      box-shadow: 0px 1px 2px rgba(60, 64, 67, 0.3), 0px 1px 3px 1px rgba(60, 64, 67, 0.15);\n",
              "      fill: #174EA6;\n",
              "    }\n",
              "\n",
              "    [theme=dark] .colab-df-convert {\n",
              "      background-color: #3B4455;\n",
              "      fill: #D2E3FC;\n",
              "    }\n",
              "\n",
              "    [theme=dark] .colab-df-convert:hover {\n",
              "      background-color: #434B5C;\n",
              "      box-shadow: 0px 1px 3px 1px rgba(0, 0, 0, 0.15);\n",
              "      filter: drop-shadow(0px 1px 2px rgba(0, 0, 0, 0.3));\n",
              "      fill: #FFFFFF;\n",
              "    }\n",
              "  </style>\n",
              "\n",
              "      <script>\n",
              "        const buttonEl =\n",
              "          document.querySelector('#df-875edb69-d022-407d-92e7-9b5ff91b5ffd button.colab-df-convert');\n",
              "        buttonEl.style.display =\n",
              "          google.colab.kernel.accessAllowed ? 'block' : 'none';\n",
              "\n",
              "        async function convertToInteractive(key) {\n",
              "          const element = document.querySelector('#df-875edb69-d022-407d-92e7-9b5ff91b5ffd');\n",
              "          const dataTable =\n",
              "            await google.colab.kernel.invokeFunction('convertToInteractive',\n",
              "                                                     [key], {});\n",
              "          if (!dataTable) return;\n",
              "\n",
              "          const docLinkHtml = 'Like what you see? Visit the ' +\n",
              "            '<a target=\"_blank\" href=https://colab.research.google.com/notebooks/data_table.ipynb>data table notebook</a>'\n",
              "            + ' to learn more about interactive tables.';\n",
              "          element.innerHTML = '';\n",
              "          dataTable['output_type'] = 'display_data';\n",
              "          await google.colab.output.renderOutput(dataTable, element);\n",
              "          const docLink = document.createElement('div');\n",
              "          docLink.innerHTML = docLinkHtml;\n",
              "          element.appendChild(docLink);\n",
              "        }\n",
              "      </script>\n",
              "    </div>\n",
              "  </div>\n",
              "  "
            ]
          },
          "metadata": {},
          "execution_count": 257
        }
      ]
    },
    {
      "cell_type": "code",
      "source": [
        "merged_data.isnull().sum()"
      ],
      "metadata": {
        "colab": {
          "base_uri": "https://localhost:8080/"
        },
        "outputId": "b3e4f939-5dae-4b70-a088-02081e3ce9a3",
        "id": "Ma2bj6bBdQYI"
      },
      "execution_count": 258,
      "outputs": [
        {
          "output_type": "execute_result",
          "data": {
            "text/plain": [
              "TICKER            0\n",
              "crash_return      0\n",
              "gvkey_x           0\n",
              "datadate          0\n",
              "fyear_x           0\n",
              "indfmt            0\n",
              "consol            0\n",
              "popsrc            0\n",
              "datafmt           0\n",
              "tic_x             0\n",
              "curcd             0\n",
              "act             473\n",
              "at                0\n",
              "che               0\n",
              "cogs              0\n",
              "dltt              2\n",
              "lct             453\n",
              "lt                2\n",
              "ni                0\n",
              "re               25\n",
              "sale              0\n",
              "costat            0\n",
              "gvkey_y           0\n",
              "fyear_y           0\n",
              "tic_y             0\n",
              "gsector           1\n",
              "ticker            0\n",
              "const             0\n",
              "mktrf             0\n",
              "smb               0\n",
              "hml               0\n",
              "dtype: int64"
            ]
          },
          "metadata": {},
          "execution_count": 258
        }
      ]
    },
    {
      "cell_type": "code",
      "source": [
        "# Calculate the number of null values in each column\n",
        "null_counts = merged_data.isnull().sum()\n",
        "\n",
        "# Create a bar chart to visualize the null values\n",
        "plt.figure(figsize=(10, 5))\n",
        "plt.bar(null_counts.index, null_counts.values)\n",
        "plt.title('Null Values in DataFrame')\n",
        "plt.xlabel('Columns')\n",
        "plt.ylabel('Count')\n",
        "plt.show()"
      ],
      "metadata": {
        "colab": {
          "base_uri": "https://localhost:8080/",
          "height": 368
        },
        "outputId": "32faeec5-bdb2-4cc3-8b73-1690a708d279",
        "id": "BUhIb-1sdQYI"
      },
      "execution_count": 259,
      "outputs": [
        {
          "output_type": "display_data",
          "data": {
            "text/plain": [
              "<Figure size 1000x500 with 1 Axes>"
            ],
            "image/png": "[encoded data removed]"
          },
          "metadata": {}
        }
      ]
    },
    {
      "cell_type": "code",
      "source": [
        "merged_data.drop(columns=['tic_x', 'tic_y', 'ticker'], inplace=True)"
      ],
      "metadata": {
        "id": "gfNMPdJwdQYI"
      },
      "execution_count": 260,
      "outputs": []
    },
    {
      "cell_type": "code",
      "source": [
        "for_reg = pd.get_dummies(merged_data, columns=['gsector'])\n",
        "for_reg.columns"
      ],
      "metadata": {
        "colab": {
          "base_uri": "https://localhost:8080/"
        },
        "outputId": "4fc9d2f0-db2f-4739-d6a9-d204c37a32e3",
        "id": "bPq6Q-iQdQYI"
      },
      "execution_count": 261,
      "outputs": [
        {
          "output_type": "execute_result",
          "data": {
            "text/plain": [
              "Index(['TICKER', 'crash_return', 'gvkey_x', 'datadate', 'fyear_x', 'indfmt',\n",
              "       'consol', 'popsrc', 'datafmt', 'curcd', 'act', 'at', 'che', 'cogs',\n",
              "       'dltt', 'lct', 'lt', 'ni', 're', 'sale', 'costat', 'gvkey_y', 'fyear_y',\n",
              "       'const', 'mktrf', 'smb', 'hml', 'gsector_10.0', 'gsector_15.0',\n",
              "       'gsector_20.0', 'gsector_25.0', 'gsector_30.0', 'gsector_35.0',\n",
              "       'gsector_40.0', 'gsector_45.0', 'gsector_50.0', 'gsector_55.0',\n",
              "       'gsector_60.0'],\n",
              "      dtype='object')"
            ]
          },
          "metadata": {},
          "execution_count": 261
        }
      ]
    },
    {
      "cell_type": "code",
      "source": [
        "def ols_missing(for_reg, target):\n",
        "    for_reg = for_reg.drop(columns=['TICKER', 'crash_return', 'gvkey_x', 'datadate', 'fyear_x', 'indfmt',\n",
        "                                     'consol', 'popsrc', 'datafmt', 'curcd', 'costat', 'gvkey_y', 'fyear_y',\n",
        "                                     'const', 'mktrf', 'smb', 'hml'])\n",
        "\n",
        "    clean = for_reg.dropna(subset=[target])\n",
        "    with_null = for_reg[for_reg[target].isnull()]\n",
        "\n",
        "    col_list = clean.columns\n",
        "    temp = []\n",
        "    for i in col_list:\n",
        "        if i not in ['act', 'lt', 'dltt', 'lct', 're']:\n",
        "            temp.append(i)\n",
        "\n",
        "    x = clean[temp]\n",
        "    y = clean[target]\n",
        "\n",
        "    x = sm.add_constant(x)\n",
        "\n",
        "    model = sm.OLS(y, x).fit()\n",
        "\n",
        "    X_missing = sm.add_constant(with_null[temp], has_constant='add')\n",
        "\n",
        "    temp = model.predict(X_missing)\n",
        "    with_null.loc[:, target] = temp\n",
        "\n",
        "    df_filled = pd.concat([clean, with_null]).sort_index()\n",
        "    return df_filled\n"
      ],
      "metadata": {
        "id": "TYuRlLHudQYI"
      },
      "execution_count": 264,
      "outputs": []
    },
    {
      "cell_type": "code",
      "source": [
        "pd.options.mode.chained_assignment = None\n",
        "\n",
        "#impute missing data\n",
        "temp = ols_missing(for_reg, 'act')\n",
        "merged_data['act'] = temp['act']\n",
        "temp = ols_missing(for_reg, 'cogs')\n",
        "merged_data['cogs'] = temp['cogs']\n",
        "temp = ols_missing(for_reg, 'dltt')\n",
        "merged_data['dltt'] = temp['dltt']\n",
        "temp = ols_missing(for_reg, 'lct')\n",
        "merged_data['lct'] = temp['lct']\n",
        "temp = ols_missing(for_reg, 're')\n",
        "merged_data['re'] = temp['re']"
      ],
      "metadata": {
        "id": "m6ZSXzEkdQYI"
      },
      "execution_count": 265,
      "outputs": []
    },
    {
      "cell_type": "code",
      "source": [
        "from scipy.stats.mstats import winsorize\n",
        "\n",
        "#financial ratios\n",
        "merged_data['debt_to_equity_ratio'] = (merged_data['dltt'] + (merged_data['lt'] - merged_data['lct']))/ (merged_data['at'] - merged_data['lt'])\n",
        "merged_data['current_ratio'] = merged_data['act'] / merged_data['lct']\n",
        "merged_data['gross_profit'] = (merged_data['sale'] - merged_data['cogs'])/ merged_data['sale']\n",
        "merged_data['asset_turnover_ratio'] = merged_data['sale']/merged_data['at']\n",
        "merged_data['roa'] = merged_data['ni']/merged_data['at']\n",
        "merged_data['roe'] = merged_data['ni']/(merged_data['at'] - merged_data['lt'])\n",
        "merged_data['net_profit_margin'] = merged_data['ni']/merged_data['sale']\n",
        "\n",
        "#winsorize\n",
        "merged_data['debt_to_equity_ratio'] = winsorize(merged_data['debt_to_equity_ratio'], limits=(0.01, 0.01))\n",
        "merged_data['current_ratio'] = winsorize(merged_data['current_ratio'], limits=(0.01, 0.01))\n",
        "merged_data['gross_profit'] = winsorize(merged_data['gross_profit'], limits=(0.01, 0.01))\n",
        "merged_data['asset_turnover_ratio'] = winsorize(merged_data['asset_turnover_ratio'], limits=(0.01, 0.01))\n",
        "merged_data['roa'] = winsorize(merged_data['roa'], limits=(0.01, 0.01))\n",
        "merged_data['roe'] = winsorize(merged_data['roe'], limits=(0.01, 0.01))\n",
        "merged_data['net_profit_margin'] = winsorize(merged_data['net_profit_margin'], limits=(0.01, 0.01))"
      ],
      "metadata": {
        "id": "7Kn-FfHddQYJ"
      },
      "execution_count": 267,
      "outputs": []
    },
    {
      "cell_type": "code",
      "source": [
        "#drop null data\n",
        "merged_data = merged_data[np.isfinite(merged_data['debt_to_equity_ratio']) \n",
        "                        & np.isfinite(merged_data['current_ratio']) \n",
        "                        & np.isfinite(merged_data['gross_profit'])\n",
        "                        & np.isfinite(merged_data['asset_turnover_ratio'])\n",
        "                        & np.isfinite(merged_data['roa'])\n",
        "                        & np.isfinite(merged_data['roe'])\n",
        "                        & np.isfinite(merged_data['net_profit_margin'])]"
      ],
      "metadata": {
        "id": "sgSGjwyzdQYJ"
      },
      "execution_count": 268,
      "outputs": []
    },
    {
      "cell_type": "code",
      "source": [
        "merged_data = pd.get_dummies(merged_data, columns=['gsector'])\n",
        "merged_data.columns"
      ],
      "metadata": {
        "colab": {
          "base_uri": "https://localhost:8080/"
        },
        "outputId": "da002793-c448-4578-8e3e-ddfab0994d76",
        "id": "RktURQ5QdQYJ"
      },
      "execution_count": 269,
      "outputs": [
        {
          "output_type": "execute_result",
          "data": {
            "text/plain": [
              "Index(['TICKER', 'crash_return', 'gvkey_x', 'datadate', 'fyear_x', 'indfmt',\n",
              "       'consol', 'popsrc', 'datafmt', 'curcd', 'act', 'at', 'che', 'cogs',\n",
              "       'dltt', 'lct', 'lt', 'ni', 're', 'sale', 'costat', 'gvkey_y', 'fyear_y',\n",
              "       'const', 'mktrf', 'smb', 'hml', 'debt_to_equity_ratio', 'current_ratio',\n",
              "       'gross_profit', 'asset_turnover_ratio', 'roa', 'roe',\n",
              "       'net_profit_margin', 'gsector_10.0', 'gsector_15.0', 'gsector_20.0',\n",
              "       'gsector_25.0', 'gsector_30.0', 'gsector_35.0', 'gsector_40.0',\n",
              "       'gsector_45.0', 'gsector_50.0', 'gsector_55.0', 'gsector_60.0'],\n",
              "      dtype='object')"
            ]
          },
          "metadata": {},
          "execution_count": 269
        }
      ]
    },
    {
      "cell_type": "markdown",
      "source": [
        "### 1. Ratio"
      ],
      "metadata": {
        "id": "PE42ue_LdQYJ"
      }
    },
    {
      "cell_type": "code",
      "source": [
        "#define the independent variables\n",
        "X = merged_data[['debt_to_equity_ratio', 'gross_profit', 'current_ratio',\n",
        "                  'asset_turnover_ratio','roa', 'roe', 'net_profit_margin']]\n",
        "X = sm.add_constant(X)\n",
        "\n",
        "#define the dependent variable\n",
        "y = merged_data['crash_return']\n",
        "\n",
        "#fit the linear regression model\n",
        "model = sm.OLS(y, X).fit()\n",
        "print(model.summary())"
      ],
      "metadata": {
        "colab": {
          "base_uri": "https://localhost:8080/"
        },
        "outputId": "628f0acb-051e-4305-f0d5-49ecc7ee0968",
        "id": "bzClhIVCdQYJ"
      },
      "execution_count": 271,
      "outputs": [
        {
          "output_type": "stream",
          "name": "stdout",
          "text": [
            "                            OLS Regression Results                            \n",
            "==============================================================================\n",
            "Dep. Variable:           crash_return   R-squared:                       0.115\n",
            "Model:                            OLS   Adj. R-squared:                  0.112\n",
            "Method:                 Least Squares   F-statistic:                     36.44\n",
            "Date:                Sat, 06 May 2023   Prob (F-statistic):           3.47e-48\n",
            "Time:                        05:10:59   Log-Likelihood:                 2898.9\n",
            "No. Observations:                1973   AIC:                            -5782.\n",
            "Df Residuals:                    1965   BIC:                            -5737.\n",
            "Df Model:                           7                                         \n",
            "Covariance Type:            nonrobust                                         \n",
            "========================================================================================\n",
            "                           coef    std err          t      P>|t|      [0.025      0.975]\n",
            "----------------------------------------------------------------------------------------\n",
            "const                   -0.0059      0.004     -1.661      0.097      -0.013       0.001\n",
            "debt_to_equity_ratio     0.0026      0.000      7.728      0.000       0.002       0.003\n",
            "gross_profit            -0.0014      0.004     -0.324      0.746      -0.010       0.007\n",
            "current_ratio           -0.0029      0.000     -6.670      0.000      -0.004      -0.002\n",
            "asset_turnover_ratio     0.0045      0.002      2.612      0.009       0.001       0.008\n",
            "roa                      0.0147      0.015      0.996      0.320      -0.014       0.044\n",
            "roe                      0.0226      0.005      4.647      0.000       0.013       0.032\n",
            "net_profit_margin        0.0049      0.004      1.271      0.204      -0.003       0.012\n",
            "==============================================================================\n",
            "Omnibus:                      121.231   Durbin-Watson:                   1.902\n",
            "Prob(Omnibus):                  0.000   Jarque-Bera (JB):              498.987\n",
            "Skew:                          -0.098   Prob(JB):                    4.43e-109\n",
            "Kurtosis:                       5.456   Cond. No.                         64.9\n",
            "==============================================================================\n",
            "\n",
            "Notes:\n",
            "[1] Standard Errors assume that the covariance matrix of the errors is correctly specified.\n"
          ]
        }
      ]
    },
    {
      "cell_type": "markdown",
      "source": [
        "The adjusted R-squared value is 0.112, which is slightly lower than the R-squared value. The model explains approximately 11.2% of the variation in crash_return after adjusting for the number of independent variables.\n",
        "\n",
        "The coefficient for debt_to_equity_ratio is 0.0026. This means that for every one-unit increase in debt_to_equity_ratio, the crash_return is expected to increase by 0.0026, holding all other factors constant. This implies that firms with higher debt relative to equity have higher crash returns.\n",
        "\n",
        "The coefficient for current_ratio is -0.0029. This means that for every one-unit increase in the current_ratio, the crash_return is expected to decrease by 0.0029, holding all other factors constant. This implies that firms with higher liquidity (more current assets relative to current liabilities) have lower crash returns.\n",
        "\n",
        "The coefficient for asset_turnover_ratio is 0.0045. This means that for every one-unit increase in asset_turnover_ratio, the crash_return is expected to increase by 0.0045, holding all other factors constant. This implies that firms with higher asset turnover (more efficient use of assets to generate revenue) have higher crash returns.\n",
        "\n",
        "The coefficient for return on equity (roe) is 0.0226. This means that for every one-unit increase in roe, the crash_return is expected to increase by 0.0226, holding all other factors constant. This implies that firms with higher return on equity (more profitable in terms of shareholder equity) have higher crash returns.\n",
        "\n",
        "The coefficients for 'gross_profit', 'roa', and 'net_profit_margin' are not significant, with p-values greater than 0.05. This means that we cannot confidently claim that these factors have a significant impact on crash_return in this model."
      ],
      "metadata": {
        "id": "RkY857XrdQYJ"
      }
    },
    {
      "cell_type": "markdown",
      "source": [
        "### 2. 3-factor risk"
      ],
      "metadata": {
        "id": "T8mL5NLydQYJ"
      }
    },
    {
      "cell_type": "code",
      "source": [
        "#define the independent variables\n",
        "X = merged_data[['mktrf', 'smb', 'hml']]\n",
        "X = sm.add_constant(X)\n",
        "\n",
        "#define the dependent variable\n",
        "y = merged_data['crash_return']\n",
        "\n",
        "#fit the linear regression model\n",
        "model = sm.OLS(y, X).fit()\n",
        "print(model.summary())"
      ],
      "metadata": {
        "colab": {
          "base_uri": "https://localhost:8080/"
        },
        "outputId": "f68d7631-d8d2-4dc2-dd00-6ad12dd09936",
        "id": "KVdc2xEIdQYJ"
      },
      "execution_count": 272,
      "outputs": [
        {
          "output_type": "stream",
          "name": "stdout",
          "text": [
            "                            OLS Regression Results                            \n",
            "==============================================================================\n",
            "Dep. Variable:           crash_return   R-squared:                       0.405\n",
            "Model:                            OLS   Adj. R-squared:                  0.404\n",
            "Method:                 Least Squares   F-statistic:                     446.6\n",
            "Date:                Sat, 06 May 2023   Prob (F-statistic):          2.71e-221\n",
            "Time:                        05:11:00   Log-Likelihood:                 3290.5\n",
            "No. Observations:                1973   AIC:                            -6573.\n",
            "Df Residuals:                    1969   BIC:                            -6551.\n",
            "Df Model:                           3                                         \n",
            "Covariance Type:            nonrobust                                         \n",
            "==============================================================================\n",
            "                 coef    std err          t      P>|t|      [0.025      0.975]\n",
            "------------------------------------------------------------------------------\n",
            "const          0.0121      0.002      6.135      0.000       0.008       0.016\n",
            "mktrf         -0.0306      0.002    -17.091      0.000      -0.034      -0.027\n",
            "smb           -0.0024      0.001     -1.918      0.055      -0.005    5.34e-05\n",
            "hml            0.0397      0.001     34.002      0.000       0.037       0.042\n",
            "==============================================================================\n",
            "Omnibus:                      349.397   Durbin-Watson:                   1.976\n",
            "Prob(Omnibus):                  0.000   Jarque-Bera (JB):             2310.029\n",
            "Skew:                           0.660   Prob(JB):                         0.00\n",
            "Kurtosis:                       8.134   Cond. No.                         3.90\n",
            "==============================================================================\n",
            "\n",
            "Notes:\n",
            "[1] Standard Errors assume that the covariance matrix of the errors is correctly specified.\n"
          ]
        }
      ]
    },
    {
      "cell_type": "markdown",
      "source": [
        "The adjusted R-squared value is 0.404. The model explains approximately 40.4% of the variation in crash_return after adjusting for the number of independent variables.\n",
        "\n",
        "The coefficient for the constant term is 0.0121. This can be interpreted as the expected crash_return when all other factors in the model are equal to zero. This represents the baseline crash_return in the absence of other factors.\n",
        "\n",
        "The coefficient for the market risk factor (mktrf) is -0.0306. This means that for every one-unit increase in mktrf, the crash_return is expected to decrease by 0.0306, holding all other factors constant. This implies that firms with higher exposure to market risk have lower crash returns.\n",
        "\n",
        "The coefficient for the high-minus-low factor (hml) is 0.0397. This means that for every one-unit increase in hml, the crash_return is expected to increase by 0.0397, holding all other factors constant. This implies that firms with higher book-to-market values (value stocks) have higher crash returns than firms with lower book-to-market values (growth stocks).\n",
        "\n",
        "The coefficient for 'smb' is not significant, with a p-value of 0.055, which is slightly greater than 0.05. This means that we cannot confidently claim that the small-minus-big factor has a significant impact on crash_return in this model."
      ],
      "metadata": {
        "id": "axoTwilpdQYJ"
      }
    },
    {
      "cell_type": "markdown",
      "source": [
        "###3. Industry categorical"
      ],
      "metadata": {
        "id": "yJ-S2h2FdQYJ"
      }
    },
    {
      "cell_type": "code",
      "source": [
        "#define the independent variables\n",
        "X = merged_data[['gsector_15.0', 'gsector_20.0',\n",
        "       'gsector_25.0', 'gsector_30.0', 'gsector_35.0', 'gsector_40.0',\n",
        "       'gsector_45.0', 'gsector_50.0', 'gsector_55.0', 'gsector_60.0']]\n",
        "X = sm.add_constant(X)\n",
        "\n",
        "#define the dependent variable\n",
        "y = merged_data['crash_return']\n",
        "\n",
        "#fit the linear regression model\n",
        "model = sm.OLS(y, X).fit()\n",
        "print(model.summary())"
      ],
      "metadata": {
        "colab": {
          "base_uri": "https://localhost:8080/"
        },
        "outputId": "2d709d49-8846-4abe-96f5-b460d1968293",
        "id": "Www9W3_udQYJ"
      },
      "execution_count": 273,
      "outputs": [
        {
          "output_type": "stream",
          "name": "stdout",
          "text": [
            "                            OLS Regression Results                            \n",
            "==============================================================================\n",
            "Dep. Variable:           crash_return   R-squared:                       0.177\n",
            "Model:                            OLS   Adj. R-squared:                  0.173\n",
            "Method:                 Least Squares   F-statistic:                     42.27\n",
            "Date:                Sat, 06 May 2023   Prob (F-statistic):           2.95e-76\n",
            "Time:                        05:11:01   Log-Likelihood:                 2971.0\n",
            "No. Observations:                1973   AIC:                            -5920.\n",
            "Df Residuals:                    1962   BIC:                            -5858.\n",
            "Df Model:                          10                                         \n",
            "Covariance Type:            nonrobust                                         \n",
            "================================================================================\n",
            "                   coef    std err          t      P>|t|      [0.025      0.975]\n",
            "--------------------------------------------------------------------------------\n",
            "const            0.0202      0.006      3.433      0.001       0.009       0.032\n",
            "gsector_15.0    -0.0115      0.008     -1.453      0.146      -0.027       0.004\n",
            "gsector_20.0    -0.0221      0.007     -3.322      0.001      -0.035      -0.009\n",
            "gsector_25.0    -0.0086      0.007     -1.283      0.199      -0.022       0.005\n",
            "gsector_30.0    -0.0001      0.008     -0.018      0.986      -0.016       0.016\n",
            "gsector_35.0    -0.0312      0.007     -4.535      0.000      -0.045      -0.018\n",
            "gsector_40.0     0.0023      0.006      0.356      0.722      -0.010       0.015\n",
            "gsector_45.0    -0.0694      0.007    -10.604      0.000      -0.082      -0.057\n",
            "gsector_50.0    -0.0429      0.010     -4.114      0.000      -0.063      -0.022\n",
            "gsector_55.0    -0.0014      0.009     -0.149      0.882      -0.020       0.017\n",
            "gsector_60.0    -0.0095      0.009     -1.025      0.305      -0.028       0.009\n",
            "==============================================================================\n",
            "Omnibus:                      164.533   Durbin-Watson:                   1.977\n",
            "Prob(Omnibus):                  0.000   Jarque-Bera (JB):              920.738\n",
            "Skew:                           0.127   Prob(JB):                    1.16e-200\n",
            "Kurtosis:                       6.337   Cond. No.                         17.7\n",
            "==============================================================================\n",
            "\n",
            "Notes:\n",
            "[1] Standard Errors assume that the covariance matrix of the errors is correctly specified.\n"
          ]
        }
      ]
    },
    {
      "cell_type": "markdown",
      "source": [
        "The adjusted R-squared value is 0.173, which is close to the R-squared value. The model explains approximately 17.3% of the variation in crash_return after adjusting for the number of independent variables.\n",
        "\n",
        "The coefficient for the gsector_20.0 (basic materials sector) is -0.0221. This means that, on average, companies in the basic materials sector have a crash_return that is 0.0221 lower than the baseline, holding all other factors constant. This implies that firms in the basic materials sector have lower crash returns compared to the baseline.\n",
        "\n",
        "The coefficient for the gsector_35.0 (healthcare sector) is -0.0312. This means that, on average, companies in the healthcare sector have a crash_return that is 0.0312 lower than the baseline, holding all other factors constant. This implies that firms in the healthcare sector have lower crash returns compared to the baseline.\n",
        "\n",
        "The coefficient for the gsector_45.0 (technology sector) is -0.0694. This means that, on average, companies in the technology sector have a crash_return that is 0.0694 lower than the baseline, holding all other factors constant. This implies that firms in the technology sector have lower crash returns compared to the baseline.\n",
        "\n",
        "The coefficient for the gsector_50.0 (telecommunications sector) is -0.0429. This means that, on average, companies in the telecommunications sector have a crash_return that is 0.0429 lower than the baseline, holding all other factors constant. This implies that firms in the telecommunications sector have lower crash returns compared to the baseline.\n",
        "\n",
        "The coefficients for 'gsector_15.0', 'gsector_25.0', 'gsector_30.0', 'gsector_40.0', 'gsector_55.0', and 'gsector_60.0' are not significant, meaning that we cannot confidently claim that these industry sectors have a significant impact on crash_return in this model."
      ],
      "metadata": {
        "id": "xkIxEyuSdQYJ"
      }
    },
    {
      "cell_type": "markdown",
      "source": [
        "### 1&2"
      ],
      "metadata": {
        "id": "Nix3NAYJdQYK"
      }
    },
    {
      "cell_type": "code",
      "source": [
        "#define the independent variables\n",
        "X = merged_data[['debt_to_equity_ratio', 'gross_profit', 'current_ratio',\n",
        "                 'asset_turnover_ratio','roa', 'roe', 'net_profit_margin',\n",
        "                 'mktrf', 'smb', 'hml']]\n",
        "X = sm.add_constant(X)\n",
        "\n",
        "#define the dependent variable\n",
        "y = merged_data['crash_return']\n",
        "\n",
        "#fit the linear regression model\n",
        "model = sm.OLS(y, X).fit()\n",
        "print(model.summary())"
      ],
      "metadata": {
        "colab": {
          "base_uri": "https://localhost:8080/"
        },
        "outputId": "eb6ab2ac-d7bd-4f69-9fc7-669762ff28aa",
        "id": "O3RbnoO-dQYK"
      },
      "execution_count": 274,
      "outputs": [
        {
          "output_type": "stream",
          "name": "stdout",
          "text": [
            "                            OLS Regression Results                            \n",
            "==============================================================================\n",
            "Dep. Variable:           crash_return   R-squared:                       0.416\n",
            "Model:                            OLS   Adj. R-squared:                  0.413\n",
            "Method:                 Least Squares   F-statistic:                     139.7\n",
            "Date:                Sat, 06 May 2023   Prob (F-statistic):          1.01e-220\n",
            "Time:                        05:11:01   Log-Likelihood:                 3308.9\n",
            "No. Observations:                1973   AIC:                            -6596.\n",
            "Df Residuals:                    1962   BIC:                            -6534.\n",
            "Df Model:                          10                                         \n",
            "Covariance Type:            nonrobust                                         \n",
            "========================================================================================\n",
            "                           coef    std err          t      P>|t|      [0.025      0.975]\n",
            "----------------------------------------------------------------------------------------\n",
            "const                    0.0024      0.003      0.725      0.469      -0.004       0.009\n",
            "debt_to_equity_ratio     0.0007      0.000      2.435      0.015       0.000       0.001\n",
            "gross_profit             0.0113      0.003      3.243      0.001       0.004       0.018\n",
            "current_ratio           -0.0004      0.000     -0.979      0.328      -0.001       0.000\n",
            "asset_turnover_ratio     0.0035      0.001      2.503      0.012       0.001       0.006\n",
            "roa                     -0.0057      0.012     -0.471      0.638      -0.030       0.018\n",
            "roe                      0.0138      0.004      3.477      0.001       0.006       0.022\n",
            "net_profit_margin       -0.0056      0.003     -1.791      0.073      -0.012       0.001\n",
            "mktrf                   -0.0304      0.002    -16.845      0.000      -0.034      -0.027\n",
            "smb                     -0.0004      0.001     -0.270      0.787      -0.003       0.002\n",
            "hml                      0.0382      0.001     30.333      0.000       0.036       0.041\n",
            "==============================================================================\n",
            "Omnibus:                      312.878   Durbin-Watson:                   1.964\n",
            "Prob(Omnibus):                  0.000   Jarque-Bera (JB):             1725.299\n",
            "Skew:                           0.626   Prob(JB):                         0.00\n",
            "Kurtosis:                       7.407   Cond. No.                         66.4\n",
            "==============================================================================\n",
            "\n",
            "Notes:\n",
            "[1] Standard Errors assume that the covariance matrix of the errors is correctly specified.\n"
          ]
        }
      ]
    },
    {
      "cell_type": "markdown",
      "source": [
        "The adjusted R-squared value is 0.413. The model explains approximately 41.3% of the variation in crash_return after adjusting for the number of independent variables.\n",
        "\n",
        "The coefficient for the debt_to_equity_ratio is 0.0007. This means that, on average, a 1-unit increase in debt_to_equity_ratio is associated with a 0.0007 increase in crash_return, holding all other factors constant. This suggests that firms with higher levels of debt relative to equity have a higher crash return.\n",
        "\n",
        "The coefficient for gross_profit is 0.0113. This means that, on average, a 1-unit increase in gross_profit is associated with a 0.0113 increase in crash_return, holding all other factors constant. This implies that firms with higher gross profits have a higher crash return.\n",
        "\n",
        "The coefficient for the asset_turnover_ratio is 0.0035. This means that, on average, a 1-unit increase in asset_turnover_ratio is associated with a 0.0035 increase in crash_return, holding all other factors constant. This suggests that firms with higher asset turnover ratios (i.e., more efficient use of assets) have a higher crash return.\n",
        "\n",
        "The coefficient for return on equity (roe) is 0.0138. This means that, on average, a 1-unit increase in roe is associated with a 0.0138 increase in crash_return, holding all other factors constant. This implies that firms with higher return on equity have a higher crash return.\n",
        "\n",
        "The coefficient for the market risk factor (mktrf) is -0.0304. This means that, on average, a 1-unit increase in mktrf is associated with a 0.0304 decrease in crash_return, holding all other factors constant. This indicates that firms with higher market risk have lower crash returns.\n",
        "\n",
        "The coefficient for the value factor (hml) is 0.0382. This means that, on average, a 1-unit increase in hml is associated with a 0.0382 increase in crash_return, holding all other factors constant. This suggests that firms with higher value (i.e., high book-to-market ratios) have higher crash returns.\n",
        "\n",
        "The coefficients for 'const', 'current_ratio', 'roa', 'net_profit_margin', and 'smb' are not significant, meaning that we cannot confidently claim that these factors have a significant impact on crash_return in this model."
      ],
      "metadata": {
        "id": "IBJWVEdjdQYK"
      }
    },
    {
      "cell_type": "markdown",
      "source": [
        "### 2&3"
      ],
      "metadata": {
        "id": "ZgGermUCdQYK"
      }
    },
    {
      "cell_type": "code",
      "source": [
        "#define the independent variables\n",
        "X = merged_data[['mktrf', 'smb', 'hml','gsector_15.0', 'gsector_20.0',\n",
        "       'gsector_25.0', 'gsector_30.0', 'gsector_35.0', 'gsector_40.0',\n",
        "       'gsector_45.0', 'gsector_50.0', 'gsector_55.0', 'gsector_60.0']]\n",
        "X = sm.add_constant(X)\n",
        "\n",
        "#define the dependent variable\n",
        "y = merged_data['crash_return']\n",
        "\n",
        "#fit the linear regression model\n",
        "model = sm.OLS(y, X).fit()\n",
        "print(model.summary())"
      ],
      "metadata": {
        "colab": {
          "base_uri": "https://localhost:8080/"
        },
        "outputId": "16263ea9-254d-4ea2-e326-3e853c245e1a",
        "id": "0v7U5Sn4dQYK"
      },
      "execution_count": 275,
      "outputs": [
        {
          "output_type": "stream",
          "name": "stdout",
          "text": [
            "                            OLS Regression Results                            \n",
            "==============================================================================\n",
            "Dep. Variable:           crash_return   R-squared:                       0.415\n",
            "Model:                            OLS   Adj. R-squared:                  0.411\n",
            "Method:                 Least Squares   F-statistic:                     106.9\n",
            "Date:                Sat, 06 May 2023   Prob (F-statistic):          7.31e-217\n",
            "Time:                        05:11:01   Log-Likelihood:                 3307.3\n",
            "No. Observations:                1973   AIC:                            -6587.\n",
            "Df Residuals:                    1959   BIC:                            -6508.\n",
            "Df Model:                          13                                         \n",
            "Covariance Type:            nonrobust                                         \n",
            "================================================================================\n",
            "                   coef    std err          t      P>|t|      [0.025      0.975]\n",
            "--------------------------------------------------------------------------------\n",
            "const            0.0200      0.005      3.773      0.000       0.010       0.030\n",
            "mktrf           -0.0292      0.002    -14.850      0.000      -0.033      -0.025\n",
            "smb             -0.0017      0.001     -1.286      0.199      -0.004       0.001\n",
            "hml              0.0386      0.001     27.755      0.000       0.036       0.041\n",
            "gsector_15.0    -0.0157      0.007     -2.361      0.018      -0.029      -0.003\n",
            "gsector_20.0    -0.0184      0.006     -3.278      0.001      -0.029      -0.007\n",
            "gsector_25.0    -0.0040      0.006     -0.704      0.482      -0.015       0.007\n",
            "gsector_30.0     0.0003      0.007      0.046      0.963      -0.013       0.014\n",
            "gsector_35.0    -0.0074      0.006     -1.244      0.214      -0.019       0.004\n",
            "gsector_40.0    -0.0041      0.005     -0.749      0.454      -0.015       0.007\n",
            "gsector_45.0    -0.0138      0.006     -2.333      0.020      -0.025      -0.002\n",
            "gsector_50.0    -0.0117      0.009     -1.316      0.188      -0.029       0.006\n",
            "gsector_55.0    -0.0108      0.008     -1.369      0.171      -0.026       0.005\n",
            "gsector_60.0    -0.0149      0.008     -1.899      0.058      -0.030       0.000\n",
            "==============================================================================\n",
            "Omnibus:                      366.878   Durbin-Watson:                   1.973\n",
            "Prob(Omnibus):                  0.000   Jarque-Bera (JB):             2481.910\n",
            "Skew:                           0.696   Prob(JB):                         0.00\n",
            "Kurtosis:                       8.315   Cond. No.                         27.7\n",
            "==============================================================================\n",
            "\n",
            "Notes:\n",
            "[1] Standard Errors assume that the covariance matrix of the errors is correctly specified.\n"
          ]
        }
      ]
    },
    {
      "cell_type": "markdown",
      "source": [
        "The adjusted R-squared value is 0.411, which is close to the R-squared value. The model explains approximately 41.1% of the variation in crash_return after adjusting for the number of independent variables.\n",
        "\n",
        "The coefficient for the market risk factor (mktrf) is -0.0292. This means that, on average, a 1-unit increase in mktrf is associated with a 0.0292 decrease in crash_return, holding all other factors constant. This indicates that firms with higher market risk have lower crash returns.\n",
        "\n",
        "The coefficient for the value factor (hml) is 0.0386. This means that, on average, a 1-unit increase in hml is associated with a 0.0386 increase in crash_return, holding all other factors constant. This suggests that firms with higher value (i.e., high book-to-market ratios) have higher crash returns.\n",
        "\n",
        "The coefficient for the gsector_15.0 (Materials) is -0.0157. This means that, on average, being in the Materials sector is associated with a 0.0157 decrease in crash_return compared to the reference sector, holding all other factors constant. This implies that firms in the Materials sector have lower crash returns compared to the reference sector.\n",
        "\n",
        "The coefficient for the gsector_20.0 (Industrials) is -0.0184. This means that, on average, being in the Industrials sector is associated with a 0.0184 decrease in crash_return compared to the reference sector, holding all other factors constant. This implies that firms in the Industrials sector have lower crash returns compared to the reference sector.\n",
        "\n",
        "The coefficient for the gsector_45.0 (Consumer Discretionary) is -0.0138. This means that, on average, being in the Consumer Discretionary sector is associated with a 0.0138 decrease in crash_return compared to the reference sector, holding all other factors constant. IThis implies that firms in the Consumer Discretionary sector have lower crash returns compared to the reference sector."
      ],
      "metadata": {
        "id": "50i9-wiUdQYK"
      }
    },
    {
      "cell_type": "markdown",
      "source": [
        "### 1&3"
      ],
      "metadata": {
        "id": "cXb6oM6rdQYK"
      }
    },
    {
      "cell_type": "code",
      "source": [
        "#define the independent variables\n",
        "X = merged_data[['debt_to_equity_ratio', 'gross_profit', 'current_ratio',\n",
        "                 'asset_turnover_ratio','roa', 'roe', 'net_profit_margin',\n",
        "                 'gsector_15.0', 'gsector_20.0',\n",
        "                 'gsector_25.0', 'gsector_30.0', 'gsector_35.0', 'gsector_40.0',\n",
        "                 'gsector_45.0', 'gsector_50.0', 'gsector_55.0', 'gsector_60.0']]\n",
        "X = sm.add_constant(X)\n",
        "\n",
        "#define the dependent variable\n",
        "y = merged_data['crash_return']\n",
        "\n",
        "#fit the linear regression model\n",
        "model = sm.OLS(y, X).fit()\n",
        "print(model.summary())"
      ],
      "metadata": {
        "colab": {
          "base_uri": "https://localhost:8080/"
        },
        "outputId": "4e3ccd43-cf3c-4ab9-d704-58fde73f3f1e",
        "id": "9oTFK-JTdQYK"
      },
      "execution_count": 276,
      "outputs": [
        {
          "output_type": "stream",
          "name": "stdout",
          "text": [
            "                            OLS Regression Results                            \n",
            "==============================================================================\n",
            "Dep. Variable:           crash_return   R-squared:                       0.225\n",
            "Model:                            OLS   Adj. R-squared:                  0.219\n",
            "Method:                 Least Squares   F-statistic:                     33.46\n",
            "Date:                Sat, 06 May 2023   Prob (F-statistic):           1.06e-95\n",
            "Time:                        05:11:01   Log-Likelihood:                 3030.4\n",
            "No. Observations:                1973   AIC:                            -6025.\n",
            "Df Residuals:                    1955   BIC:                            -5924.\n",
            "Df Model:                          17                                         \n",
            "Covariance Type:            nonrobust                                         \n",
            "========================================================================================\n",
            "                           coef    std err          t      P>|t|      [0.025      0.975]\n",
            "----------------------------------------------------------------------------------------\n",
            "const                    0.0107      0.007      1.616      0.106      -0.002       0.024\n",
            "debt_to_equity_ratio     0.0010      0.000      2.626      0.009       0.000       0.002\n",
            "gross_profit             0.0104      0.004      2.528      0.012       0.002       0.018\n",
            "current_ratio           -0.0021      0.000     -4.784      0.000      -0.003      -0.001\n",
            "asset_turnover_ratio     0.0068      0.002      3.561      0.000       0.003       0.010\n",
            "roa                      0.0096      0.014      0.687      0.492      -0.018       0.037\n",
            "roe                      0.0156      0.005      3.397      0.001       0.007       0.025\n",
            "net_profit_margin       -0.0003      0.004     -0.070      0.945      -0.007       0.007\n",
            "gsector_15.0            -0.0096      0.008     -1.248      0.212      -0.025       0.006\n",
            "gsector_20.0            -0.0221      0.007     -3.363      0.001      -0.035      -0.009\n",
            "gsector_25.0            -0.0115      0.007     -1.736      0.083      -0.025       0.001\n",
            "gsector_30.0            -0.0056      0.008     -0.705      0.481      -0.021       0.010\n",
            "gsector_35.0            -0.0160      0.007     -2.337      0.020      -0.030      -0.003\n",
            "gsector_40.0            -0.0012      0.007     -0.173      0.863      -0.015       0.012\n",
            "gsector_45.0            -0.0641      0.006     -9.922      0.000      -0.077      -0.051\n",
            "gsector_50.0            -0.0424      0.010     -4.159      0.000      -0.062      -0.022\n",
            "gsector_55.0            -0.0014      0.009     -0.152      0.879      -0.019       0.017\n",
            "gsector_60.0            -0.0086      0.009     -0.943      0.346      -0.027       0.009\n",
            "==============================================================================\n",
            "Omnibus:                      170.698   Durbin-Watson:                   1.963\n",
            "Prob(Omnibus):                  0.000   Jarque-Bera (JB):              813.980\n",
            "Skew:                           0.261   Prob(JB):                    1.76e-177\n",
            "Kurtosis:                       6.103   Cond. No.                         90.1\n",
            "==============================================================================\n",
            "\n",
            "Notes:\n",
            "[1] Standard Errors assume that the covariance matrix of the errors is correctly specified.\n"
          ]
        }
      ]
    },
    {
      "cell_type": "markdown",
      "source": [
        "The adjusted R-squared value is 0.219, which is close to the R-squared value. The model explains approximately 21.9% of the variation in crash_return after adjusting for the number of independent variables.\n",
        "\n",
        "The coefficient for debt_to_equity_ratio is 0.0010. This means that, on average, a 1-unit increase in debt_to_equity_ratio is associated with a 0.0010 increase in crash_return, holding all other factors constant. This indicates that firms with higher debt-to-equity ratios have slightly higher crash returns.\n",
        "\n",
        "The coefficient for gross_profit is 0.0104. This means that, on average, a 1-unit increase in gross_profit is associated with a 0.0104 increase in crash_return, holding all other factors constant. This suggests that firms with higher gross profits have higher crash returns.\n",
        "\n",
        "The coefficient for current_ratio is -0.0021. This means that, on average, a 1-unit increase in current_ratio is associated with a 0.0021 decrease in crash_return, holding all other factors constant. This suggests that firms with higher liquidity (higher current ratios) have lower crash returns.\n",
        "\n",
        "The coefficient for asset_turnover_ratio is 0.0068. This means that, on average, a 1-unit increase in asset_turnover_ratio is associated with a 0.0068 increase in crash_return, holding all other factors constant. This indicates that firms with higher asset turnover ratios (more efficient in using assets to generate revenue) have higher crash returns.\n",
        "\n",
        "The coefficient for return on equity (roe) is 0.0156. This means that, on average, a 1-unit increase in roe is associated with a 0.0156 increase in crash_return, holding all other factors constant. This suggests that firms with higher return on equity have higher crash returns.\n",
        "\n",
        "The coefficient for gsector_20.0 is -0.0221. This means that, on average, being in gsector_20.0 is associated with a 0.0221 decrease in crash_return compared to the reference category, holding all other factors constant. This suggests that firms in this industry have lower crash returns compared to the reference industry.\n",
        "\n",
        "The coefficient for gsector_35.0 is -0.0160. This means that, on average, being in gsector_35.0 is associated with a 0.0160 decrease in crash_return compared to the reference category, holding all other factors constant. This suggests that firms in this industry have lower crash returns compared to the reference industry.\n",
        "\n",
        "The coefficient for gsector_45.0 is -0.0641. This means that, on average, being in gsector_45.0 is associated with a 0.0641 decrease in crash_return compared to the reference category, holding all other factors constant. This suggests that firms in this industry have significantly lower crash returns compared to the reference industry.\n",
        "\n",
        "The coefficient for gsector_50.0 is -0.0424. This means that, on average, being in gsector_50.0 is associated with a 0.0424 decrease in crash_return compared to the reference category, holding all other factors constant. This suggests that firms in this industry have significantly lower crash returns compared to the reference industry."
      ],
      "metadata": {
        "id": "1QzWiX0odQYK"
      }
    },
    {
      "cell_type": "markdown",
      "source": [
        "### 1&2&3"
      ],
      "metadata": {
        "id": "y7TIPiKjdQYK"
      }
    },
    {
      "cell_type": "code",
      "source": [
        "#define the independent variables\n",
        "X = merged_data[['mktrf', 'smb', 'hml',\n",
        "                 'debt_to_equity_ratio', 'gross_profit', 'current_ratio',\n",
        "                 'asset_turnover_ratio','roa', 'roe', 'net_profit_margin',\n",
        "                 'gsector_15.0', 'gsector_20.0',\n",
        "                 'gsector_25.0', 'gsector_30.0', 'gsector_35.0', 'gsector_40.0',\n",
        "                 'gsector_45.0', 'gsector_50.0', 'gsector_55.0', 'gsector_60.0']]\n",
        "X = sm.add_constant(X)\n",
        "\n",
        "#define the dependent variable\n",
        "y = merged_data['crash_return']\n",
        "\n",
        "#fit the linear regression model\n",
        "model = sm.OLS(y, X).fit()\n",
        "print(model.summary())"
      ],
      "metadata": {
        "colab": {
          "base_uri": "https://localhost:8080/"
        },
        "outputId": "387c2363-6046-4afc-9f35-37b368e53aea",
        "id": "524vhIZjdQYK"
      },
      "execution_count": 277,
      "outputs": [
        {
          "output_type": "stream",
          "name": "stdout",
          "text": [
            "                            OLS Regression Results                            \n",
            "==============================================================================\n",
            "Dep. Variable:           crash_return   R-squared:                       0.425\n",
            "Model:                            OLS   Adj. R-squared:                  0.419\n",
            "Method:                 Least Squares   F-statistic:                     72.24\n",
            "Date:                Sat, 06 May 2023   Prob (F-statistic):          1.59e-217\n",
            "Time:                        05:11:01   Log-Likelihood:                 3325.0\n",
            "No. Observations:                1973   AIC:                            -6608.\n",
            "Df Residuals:                    1952   BIC:                            -6491.\n",
            "Df Model:                          20                                         \n",
            "Covariance Type:            nonrobust                                         \n",
            "========================================================================================\n",
            "                           coef    std err          t      P>|t|      [0.025      0.975]\n",
            "----------------------------------------------------------------------------------------\n",
            "const                    0.0104      0.006      1.709      0.088      -0.002       0.022\n",
            "mktrf                   -0.0286      0.002    -14.617      0.000      -0.032      -0.025\n",
            "smb                      0.0004      0.001      0.268      0.789      -0.002       0.003\n",
            "hml                      0.0368      0.001     25.397      0.000       0.034       0.040\n",
            "debt_to_equity_ratio     0.0004      0.000      1.093      0.275      -0.000       0.001\n",
            "gross_profit             0.0116      0.004      3.250      0.001       0.005       0.019\n",
            "current_ratio           -0.0005      0.000     -1.396      0.163      -0.001       0.000\n",
            "asset_turnover_ratio     0.0044      0.002      2.678      0.007       0.001       0.008\n",
            "roa                     -0.0036      0.012     -0.290      0.772      -0.028       0.020\n",
            "roe                      0.0121      0.004      3.042      0.002       0.004       0.020\n",
            "net_profit_margin       -0.0051      0.003     -1.618      0.106      -0.011       0.001\n",
            "gsector_15.0            -0.0134      0.007     -2.007      0.045      -0.026      -0.000\n",
            "gsector_20.0            -0.0183      0.006     -3.235      0.001      -0.029      -0.007\n",
            "gsector_25.0            -0.0054      0.006     -0.937      0.349      -0.017       0.006\n",
            "gsector_30.0            -0.0025      0.007     -0.369      0.712      -0.016       0.011\n",
            "gsector_35.0            -0.0037      0.006     -0.619      0.536      -0.015       0.008\n",
            "gsector_40.0            -0.0029      0.006     -0.489      0.625      -0.015       0.009\n",
            "gsector_45.0            -0.0158      0.006     -2.677      0.008      -0.027      -0.004\n",
            "gsector_50.0            -0.0115      0.009     -1.298      0.194      -0.029       0.006\n",
            "gsector_55.0            -0.0073      0.008     -0.916      0.360      -0.023       0.008\n",
            "gsector_60.0            -0.0117      0.008     -1.481      0.139      -0.027       0.004\n",
            "==============================================================================\n",
            "Omnibus:                      327.289   Durbin-Watson:                   1.965\n",
            "Prob(Omnibus):                  0.000   Jarque-Bera (JB):             1864.817\n",
            "Skew:                           0.652   Prob(JB):                         0.00\n",
            "Kurtosis:                       7.581   Cond. No.                         91.6\n",
            "==============================================================================\n",
            "\n",
            "Notes:\n",
            "[1] Standard Errors assume that the covariance matrix of the errors is correctly specified.\n"
          ]
        }
      ]
    },
    {
      "cell_type": "markdown",
      "source": [
        "The adjusted R-squared value is 0.419. The model explains approximately 41.9% of the variation in crash_return after adjusting for the number of independent variables.\n",
        "\n",
        "The coefficient for market risk factor (mktrf) is -0.0286. This means that, on average, a 1-unit increase in mktrf is associated with a 0.0286 decrease in crash_return, holding all other factors constant. This indicates that firms with higher market risk exposure have lower crash returns.\n",
        "\n",
        "The coefficient for the high-minus-low risk factor (hml) is 0.0368. This means that, on average, a 1-unit increase in hml is associated with a 0.0368 increase in crash_return, holding all other factors constant. This suggests that firms with higher book-to-market equity ratios have higher crash returns.\n",
        "\n",
        "The coefficient for gross_profit is 0.0116. This means that, on average, a 1-unit increase in gross_profit is associated with a 0.0116 increase in crash_return, holding all other factors constant. This suggests that firms with higher gross profits have higher crash returns.\n",
        "\n",
        "The coefficient for asset_turnover_ratio is 0.0044. This means that, on average, a 1-unit increase in asset_turnover_ratio is associated with a 0.0044 increase in crash_return, holding all other factors constant. This indicates that firms with higher asset turnover ratios (more efficient in using assets to generate revenue) have higher crash returns.\n",
        "\n",
        "The coefficient for return on equity (roe) is 0.0121. This means that, on average, a 1-unit increase in roe is associated with a 0.0121 increase in crash_return, holding all other factors constant. This suggests that firms with higher return on equity have higher crash returns.\n",
        "\n",
        "The coefficient for gsector_15.0 is -0.0134. This means that, on average, being in gsector_15.0 is associated with a 0.0134 decrease in crash_return compared to the reference category, holding all other factors constant. This suggests that firms in this industry have lower crash returns compared to the reference industry.\n",
        "\n",
        "The coefficient for gsector_20.0 is -0.0183. This means that, on average, being in gsector_20.0 is associated with a 0.0183 decrease in crash_return compared to the reference category, holding all other factors constant. This suggests that firms in this industry have lower crash returns compared to the reference industry.\n",
        "\n",
        "The coefficient for gsector_45.0 is -0.0158. This means that, on average, being in gsector_45.0 is associated with a 0.0158 decrease in crash_return compared to the reference category, holding all other factors constant. This suggests that firms in this industry have lower crash returns compared to the reference industry."
      ],
      "metadata": {
        "id": "einq8_3udQYL"
      }
    },
    {
      "cell_type": "markdown",
      "source": [
        "### Final regression"
      ],
      "metadata": {
        "id": "4d8Tg_ggdQYL"
      }
    },
    {
      "cell_type": "code",
      "source": [
        "#define the independent variables\n",
        "X = merged_data[['mktrf', 'hml',\n",
        "                 'gross_profit',\n",
        "                 'asset_turnover_ratio', 'roe',\n",
        "                 'gsector_15.0', 'gsector_20.0',\n",
        "                 'gsector_25.0', \n",
        "                 'gsector_45.0']]\n",
        "X = sm.add_constant(X)\n",
        "\n",
        "#define the dependent variable\n",
        "y = merged_data['crash_return']\n",
        "\n",
        "#fit the linear regression model\n",
        "model = sm.OLS(y, X).fit()\n",
        "print(model.summary())"
      ],
      "metadata": {
        "colab": {
          "base_uri": "https://localhost:8080/"
        },
        "outputId": "dbaa1057-966e-48b9-dea5-c052bf59150f",
        "id": "BEb5hzEwdQYL"
      },
      "execution_count": 279,
      "outputs": [
        {
          "output_type": "stream",
          "name": "stdout",
          "text": [
            "                            OLS Regression Results                            \n",
            "==============================================================================\n",
            "Dep. Variable:           crash_return   R-squared:                       0.421\n",
            "Model:                            OLS   Adj. R-squared:                  0.419\n",
            "Method:                 Least Squares   F-statistic:                     158.9\n",
            "Date:                Sat, 06 May 2023   Prob (F-statistic):          7.05e-226\n",
            "Time:                        05:58:15   Log-Likelihood:                 3318.3\n",
            "No. Observations:                1973   AIC:                            -6617.\n",
            "Df Residuals:                    1963   BIC:                            -6561.\n",
            "Df Model:                           9                                         \n",
            "Covariance Type:            nonrobust                                         \n",
            "========================================================================================\n",
            "                           coef    std err          t      P>|t|      [0.025      0.975]\n",
            "----------------------------------------------------------------------------------------\n",
            "const                    0.0090      0.002      3.993      0.000       0.005       0.013\n",
            "mktrf                   -0.0288      0.002    -15.108      0.000      -0.033      -0.025\n",
            "hml                      0.0374      0.001     27.582      0.000       0.035       0.040\n",
            "gross_profit             0.0072      0.002      3.255      0.001       0.003       0.012\n",
            "asset_turnover_ratio     0.0037      0.001      2.650      0.008       0.001       0.006\n",
            "roe                      0.0084      0.003      2.827      0.005       0.003       0.014\n",
            "gsector_15.0            -0.0105      0.005     -2.221      0.026      -0.020      -0.001\n",
            "gsector_20.0            -0.0154      0.003     -4.809      0.000      -0.022      -0.009\n",
            "gsector_25.0            -0.0021      0.003     -0.610      0.542      -0.009       0.005\n",
            "gsector_45.0            -0.0122      0.003     -3.500      0.000      -0.019      -0.005\n",
            "==============================================================================\n",
            "Omnibus:                      349.566   Durbin-Watson:                   1.966\n",
            "Prob(Omnibus):                  0.000   Jarque-Bera (JB):             2106.612\n",
            "Skew:                           0.689   Prob(JB):                         0.00\n",
            "Kurtosis:                       7.871   Cond. No.                         9.31\n",
            "==============================================================================\n",
            "\n",
            "Notes:\n",
            "[1] Standard Errors assume that the covariance matrix of the errors is correctly specified.\n"
          ]
        }
      ]
    },
    {
      "cell_type": "markdown",
      "source": [
        "The most important variables for 2000 crash is mktrf, hml, gross_profit, asset_turnover_ratio , roe, gsector_15.0, gsector_20.0, gsector_25.0, and gsector_45.0 because all of them are statiscally significance."
      ],
      "metadata": {
        "id": "VWC5MHELdQYL"
      }
    },
    {
      "cell_type": "markdown",
      "source": [
        "# 02/2020 - 03/2020"
      ],
      "metadata": {
        "id": "0dfYmRCDpph2"
      }
    },
    {
      "cell_type": "code",
      "source": [
        "#use te correct dataset\n",
        "crsp = df_dict['crsp1620']\n",
        "crsp['date'] = pd.to_datetime(crsp['date']) \n",
        "conditioned = crsp[(crsp['date'] >= '2020-02-01') & (crsp['date'] <= '2020-03-31')]\n",
        "crash_return = conditioned.groupby('TICKER')['RET'].mean().reset_index()\n",
        "crash_return.rename(columns={'RET': 'crash_return'}, inplace=True)\n",
        "cp1 = df_dict['cp2019']\n",
        "gs = df_dict['gs2019']\n",
        "ff = df_dict['ff2019']"
      ],
      "metadata": {
        "id": "GMvjE31kpph-"
      },
      "execution_count": 301,
      "outputs": []
    },
    {
      "cell_type": "code",
      "source": [
        "merged_data = pd.merge(crash_return, cp1, left_on='TICKER', right_on='tic')\n",
        "merged_data = pd.merge(merged_data, gs, left_on='TICKER', right_on='tic')\n",
        "merged_data = pd.merge(merged_data, ff, left_on='TICKER', right_on='ticker')"
      ],
      "metadata": {
        "id": "ugdPfkgupph-"
      },
      "execution_count": 302,
      "outputs": []
    },
    {
      "cell_type": "code",
      "source": [
        "merged_data.head()"
      ],
      "metadata": {
        "colab": {
          "base_uri": "https://localhost:8080/",
          "height": 386
        },
        "outputId": "f6b58343-264f-4d44-e9e8-61cec5ccffc1",
        "id": "QNn3IpgCpph-"
      },
      "execution_count": 303,
      "outputs": [
        {
          "output_type": "execute_result",
          "data": {
            "text/plain": [
              "  TICKER  crash_return  gvkey_x    datadate  fyear_x indfmt consol popsrc  \\\n",
              "0      A     -0.067438   126554  2019-10-31     2019   INDL      C      D   \n",
              "1    AAL     -0.323309     1045  2019-12-31     2019   INDL      C      D   \n",
              "2   AAMC      0.113275    16720  2019-12-31     2019   INDL      C      D   \n",
              "3   AAME     -0.014051    16671  2019-12-31     2019   INDL      C      D   \n",
              "4   AAOI     -0.179895    18564  2019-12-31     2019   INDL      C      D   \n",
              "\n",
              "  datafmt tic_x  ... costat  gvkey_y  fyear_y  tic_y  gsector  ticker  \\\n",
              "0     STD     A  ...      A   126554     2019      A     35.0       A   \n",
              "1     STD   AAL  ...      A     1045     2019    AAL     20.0     AAL   \n",
              "2     STD  AAMC  ...      A    16720     2019   AAMC     60.0    AAMC   \n",
              "3     STD  AAME  ...      A    16671     2019   AAME     40.0    AAME   \n",
              "4     STD  AAOI  ...      A    18564     2019   AAOI     45.0    AAOI   \n",
              "\n",
              "      const     mktrf       smb       hml  \n",
              "0  0.003728  1.084369 -0.257950 -0.275105  \n",
              "1 -0.022520  1.530861  0.259539  0.796901  \n",
              "2  0.030795  0.631664 -0.176166  0.760026  \n",
              "3 -0.008717  0.257933 -0.598021  0.631272  \n",
              "4 -0.007294  1.481282  0.947693 -0.015027  \n",
              "\n",
              "[5 rows x 31 columns]"
            ],
            "text/html": [
              "\n",
              "  <div id=\"df-70aa157c-bcc9-4687-bf65-e03543d0d7d6\">\n",
              "    <div class=\"colab-df-container\">\n",
              "      <div>\n",
              "<style scoped>\n",
              "    .dataframe tbody tr th:only-of-type {\n",
              "        vertical-align: middle;\n",
              "    }\n",
              "\n",
              "    .dataframe tbody tr th {\n",
              "        vertical-align: top;\n",
              "    }\n",
              "\n",
              "    .dataframe thead th {\n",
              "        text-align: right;\n",
              "    }\n",
              "</style>\n",
              "<table border=\"1\" class=\"dataframe\">\n",
              "  <thead>\n",
              "    <tr style=\"text-align: right;\">\n",
              "      <th></th>\n",
              "      <th>TICKER</th>\n",
              "      <th>crash_return</th>\n",
              "      <th>gvkey_x</th>\n",
              "      <th>datadate</th>\n",
              "      <th>fyear_x</th>\n",
              "      <th>indfmt</th>\n",
              "      <th>consol</th>\n",
              "      <th>popsrc</th>\n",
              "      <th>datafmt</th>\n",
              "      <th>tic_x</th>\n",
              "      <th>...</th>\n",
              "      <th>costat</th>\n",
              "      <th>gvkey_y</th>\n",
              "      <th>fyear_y</th>\n",
              "      <th>tic_y</th>\n",
              "      <th>gsector</th>\n",
              "      <th>ticker</th>\n",
              "      <th>const</th>\n",
              "      <th>mktrf</th>\n",
              "      <th>smb</th>\n",
              "      <th>hml</th>\n",
              "    </tr>\n",
              "  </thead>\n",
              "  <tbody>\n",
              "    <tr>\n",
              "      <th>0</th>\n",
              "      <td>A</td>\n",
              "      <td>-0.067438</td>\n",
              "      <td>126554</td>\n",
              "      <td>2019-10-31</td>\n",
              "      <td>2019</td>\n",
              "      <td>INDL</td>\n",
              "      <td>C</td>\n",
              "      <td>D</td>\n",
              "      <td>STD</td>\n",
              "      <td>A</td>\n",
              "      <td>...</td>\n",
              "      <td>A</td>\n",
              "      <td>126554</td>\n",
              "      <td>2019</td>\n",
              "      <td>A</td>\n",
              "      <td>35.0</td>\n",
              "      <td>A</td>\n",
              "      <td>0.003728</td>\n",
              "      <td>1.084369</td>\n",
              "      <td>-0.257950</td>\n",
              "      <td>-0.275105</td>\n",
              "    </tr>\n",
              "    <tr>\n",
              "      <th>1</th>\n",
              "      <td>AAL</td>\n",
              "      <td>-0.323309</td>\n",
              "      <td>1045</td>\n",
              "      <td>2019-12-31</td>\n",
              "      <td>2019</td>\n",
              "      <td>INDL</td>\n",
              "      <td>C</td>\n",
              "      <td>D</td>\n",
              "      <td>STD</td>\n",
              "      <td>AAL</td>\n",
              "      <td>...</td>\n",
              "      <td>A</td>\n",
              "      <td>1045</td>\n",
              "      <td>2019</td>\n",
              "      <td>AAL</td>\n",
              "      <td>20.0</td>\n",
              "      <td>AAL</td>\n",
              "      <td>-0.022520</td>\n",
              "      <td>1.530861</td>\n",
              "      <td>0.259539</td>\n",
              "      <td>0.796901</td>\n",
              "    </tr>\n",
              "    <tr>\n",
              "      <th>2</th>\n",
              "      <td>AAMC</td>\n",
              "      <td>0.113275</td>\n",
              "      <td>16720</td>\n",
              "      <td>2019-12-31</td>\n",
              "      <td>2019</td>\n",
              "      <td>INDL</td>\n",
              "      <td>C</td>\n",
              "      <td>D</td>\n",
              "      <td>STD</td>\n",
              "      <td>AAMC</td>\n",
              "      <td>...</td>\n",
              "      <td>A</td>\n",
              "      <td>16720</td>\n",
              "      <td>2019</td>\n",
              "      <td>AAMC</td>\n",
              "      <td>60.0</td>\n",
              "      <td>AAMC</td>\n",
              "      <td>0.030795</td>\n",
              "      <td>0.631664</td>\n",
              "      <td>-0.176166</td>\n",
              "      <td>0.760026</td>\n",
              "    </tr>\n",
              "    <tr>\n",
              "      <th>3</th>\n",
              "      <td>AAME</td>\n",
              "      <td>-0.014051</td>\n",
              "      <td>16671</td>\n",
              "      <td>2019-12-31</td>\n",
              "      <td>2019</td>\n",
              "      <td>INDL</td>\n",
              "      <td>C</td>\n",
              "      <td>D</td>\n",
              "      <td>STD</td>\n",
              "      <td>AAME</td>\n",
              "      <td>...</td>\n",
              "      <td>A</td>\n",
              "      <td>16671</td>\n",
              "      <td>2019</td>\n",
              "      <td>AAME</td>\n",
              "      <td>40.0</td>\n",
              "      <td>AAME</td>\n",
              "      <td>-0.008717</td>\n",
              "      <td>0.257933</td>\n",
              "      <td>-0.598021</td>\n",
              "      <td>0.631272</td>\n",
              "    </tr>\n",
              "    <tr>\n",
              "      <th>4</th>\n",
              "      <td>AAOI</td>\n",
              "      <td>-0.179895</td>\n",
              "      <td>18564</td>\n",
              "      <td>2019-12-31</td>\n",
              "      <td>2019</td>\n",
              "      <td>INDL</td>\n",
              "      <td>C</td>\n",
              "      <td>D</td>\n",
              "      <td>STD</td>\n",
              "      <td>AAOI</td>\n",
              "      <td>...</td>\n",
              "      <td>A</td>\n",
              "      <td>18564</td>\n",
              "      <td>2019</td>\n",
              "      <td>AAOI</td>\n",
              "      <td>45.0</td>\n",
              "      <td>AAOI</td>\n",
              "      <td>-0.007294</td>\n",
              "      <td>1.481282</td>\n",
              "      <td>0.947693</td>\n",
              "      <td>-0.015027</td>\n",
              "    </tr>\n",
              "  </tbody>\n",
              "</table>\n",
              "<p>5 rows × 31 columns</p>\n",
              "</div>\n",
              "      <button class=\"colab-df-convert\" onclick=\"convertToInteractive('df-70aa157c-bcc9-4687-bf65-e03543d0d7d6')\"\n",
              "              title=\"Convert this dataframe to an interactive table.\"\n",
              "              style=\"display:none;\">\n",
              "        \n",
              "  <svg xmlns=\"http://www.w3.org/2000/svg\" height=\"24px\"viewBox=\"0 0 24 24\"\n",
              "       width=\"24px\">\n",
              "    <path d=\"M0 0h24v24H0V0z\" fill=\"none\"/>\n",
              "    <path d=\"M18.56 5.44l.94 2.06.94-2.06 2.06-.94-2.06-.94-.94-2.06-.94 2.06-2.06.94zm-11 1L8.5 8.5l.94-2.06 2.06-.94-2.06-.94L8.5 2.5l-.94 2.06-2.06.94zm10 10l.94 2.06.94-2.06 2.06-.94-2.06-.94-.94-2.06-.94 2.06-2.06.94z\"/><path d=\"M17.41 7.96l-1.37-1.37c-.4-.4-.92-.59-1.43-.59-.52 0-1.04.2-1.43.59L10.3 9.45l-7.72 7.72c-.78.78-.78 2.05 0 2.83L4 21.41c.39.39.9.59 1.41.59.51 0 1.02-.2 1.41-.59l7.78-7.78 2.81-2.81c.8-.78.8-2.07 0-2.86zM5.41 20L4 18.59l7.72-7.72 1.47 1.35L5.41 20z\"/>\n",
              "  </svg>\n",
              "      </button>\n",
              "      \n",
              "  <style>\n",
              "    .colab-df-container {\n",
              "      display:flex;\n",
              "      flex-wrap:wrap;\n",
              "      gap: 12px;\n",
              "    }\n",
              "\n",
              "    .colab-df-convert {\n",
              "      background-color: #E8F0FE;\n",
              "      border: none;\n",
              "      border-radius: 50%;\n",
              "      cursor: pointer;\n",
              "      display: none;\n",
              "      fill: #1967D2;\n",
              "      height: 32px;\n",
              "      padding: 0 0 0 0;\n",
              "      width: 32px;\n",
              "    }\n",
              "\n",
              "    .colab-df-convert:hover {\n",
              "      background-color: #E2EBFA;\n",
              "      box-shadow: 0px 1px 2px rgba(60, 64, 67, 0.3), 0px 1px 3px 1px rgba(60, 64, 67, 0.15);\n",
              "      fill: #174EA6;\n",
              "    }\n",
              "\n",
              "    [theme=dark] .colab-df-convert {\n",
              "      background-color: #3B4455;\n",
              "      fill: #D2E3FC;\n",
              "    }\n",
              "\n",
              "    [theme=dark] .colab-df-convert:hover {\n",
              "      background-color: #434B5C;\n",
              "      box-shadow: 0px 1px 3px 1px rgba(0, 0, 0, 0.15);\n",
              "      filter: drop-shadow(0px 1px 2px rgba(0, 0, 0, 0.3));\n",
              "      fill: #FFFFFF;\n",
              "    }\n",
              "  </style>\n",
              "\n",
              "      <script>\n",
              "        const buttonEl =\n",
              "          document.querySelector('#df-70aa157c-bcc9-4687-bf65-e03543d0d7d6 button.colab-df-convert');\n",
              "        buttonEl.style.display =\n",
              "          google.colab.kernel.accessAllowed ? 'block' : 'none';\n",
              "\n",
              "        async function convertToInteractive(key) {\n",
              "          const element = document.querySelector('#df-70aa157c-bcc9-4687-bf65-e03543d0d7d6');\n",
              "          const dataTable =\n",
              "            await google.colab.kernel.invokeFunction('convertToInteractive',\n",
              "                                                     [key], {});\n",
              "          if (!dataTable) return;\n",
              "\n",
              "          const docLinkHtml = 'Like what you see? Visit the ' +\n",
              "            '<a target=\"_blank\" href=https://colab.research.google.com/notebooks/data_table.ipynb>data table notebook</a>'\n",
              "            + ' to learn more about interactive tables.';\n",
              "          element.innerHTML = '';\n",
              "          dataTable['output_type'] = 'display_data';\n",
              "          await google.colab.output.renderOutput(dataTable, element);\n",
              "          const docLink = document.createElement('div');\n",
              "          docLink.innerHTML = docLinkHtml;\n",
              "          element.appendChild(docLink);\n",
              "        }\n",
              "      </script>\n",
              "    </div>\n",
              "  </div>\n",
              "  "
            ]
          },
          "metadata": {},
          "execution_count": 303
        }
      ]
    },
    {
      "cell_type": "code",
      "source": [
        "merged_data.isnull().sum()"
      ],
      "metadata": {
        "colab": {
          "base_uri": "https://localhost:8080/"
        },
        "outputId": "7f884241-ebef-497d-b58a-91b679ee3a47",
        "id": "2zWdsJZepph-"
      },
      "execution_count": 305,
      "outputs": [
        {
          "output_type": "execute_result",
          "data": {
            "text/plain": [
              "TICKER            0\n",
              "crash_return      0\n",
              "gvkey_x           0\n",
              "datadate          0\n",
              "fyear_x           0\n",
              "indfmt            0\n",
              "consol            0\n",
              "popsrc            0\n",
              "datafmt           0\n",
              "tic_x             0\n",
              "curcd             0\n",
              "act             707\n",
              "at                0\n",
              "che               0\n",
              "cogs              0\n",
              "dltt              8\n",
              "lct             704\n",
              "lt                7\n",
              "ni                0\n",
              "re               78\n",
              "sale              0\n",
              "costat            0\n",
              "gvkey_y           0\n",
              "fyear_y           0\n",
              "tic_y             0\n",
              "gsector           1\n",
              "ticker            0\n",
              "const             0\n",
              "mktrf             0\n",
              "smb               0\n",
              "hml               0\n",
              "dtype: int64"
            ]
          },
          "metadata": {},
          "execution_count": 305
        }
      ]
    },
    {
      "cell_type": "code",
      "source": [
        "# Calculate the number of null values in each column\n",
        "null_counts = merged_data.isnull().sum()\n",
        "\n",
        "# Create a bar chart to visualize the null values\n",
        "plt.figure(figsize=(10, 5))\n",
        "plt.bar(null_counts.index, null_counts.values)\n",
        "plt.title('Null Values in DataFrame')\n",
        "plt.xlabel('Columns')\n",
        "plt.ylabel('Count')\n",
        "plt.show()"
      ],
      "metadata": {
        "colab": {
          "base_uri": "https://localhost:8080/",
          "height": 368
        },
        "outputId": "4141e08e-f850-40a5-e485-f96fd2e15b6c",
        "id": "EhWxf56ppph-"
      },
      "execution_count": 306,
      "outputs": [
        {
          "output_type": "display_data",
          "data": {
            "text/plain": [
              "<Figure size 1000x500 with 1 Axes>"
            ],
            "image/png": "[encoded data removed]"
          },
          "metadata": {}
        }
      ]
    },
    {
      "cell_type": "code",
      "source": [
        "merged_data.drop(columns=['tic_x', 'tic_y', 'ticker'], inplace=True)"
      ],
      "metadata": {
        "id": "Tz5e1TbFpph-"
      },
      "execution_count": 307,
      "outputs": []
    },
    {
      "cell_type": "code",
      "source": [
        "for_reg = pd.get_dummies(merged_data, columns=['gsector'])\n",
        "for_reg.columns"
      ],
      "metadata": {
        "colab": {
          "base_uri": "https://localhost:8080/"
        },
        "outputId": "92182b85-c567-4d31-d9bc-f703448eb9e4",
        "id": "xfiwSMoTpph-"
      },
      "execution_count": 308,
      "outputs": [
        {
          "output_type": "execute_result",
          "data": {
            "text/plain": [
              "Index(['TICKER', 'crash_return', 'gvkey_x', 'datadate', 'fyear_x', 'indfmt',\n",
              "       'consol', 'popsrc', 'datafmt', 'curcd', 'act', 'at', 'che', 'cogs',\n",
              "       'dltt', 'lct', 'lt', 'ni', 're', 'sale', 'costat', 'gvkey_y', 'fyear_y',\n",
              "       'const', 'mktrf', 'smb', 'hml', 'gsector_10.0', 'gsector_15.0',\n",
              "       'gsector_20.0', 'gsector_25.0', 'gsector_30.0', 'gsector_35.0',\n",
              "       'gsector_40.0', 'gsector_45.0', 'gsector_50.0', 'gsector_55.0',\n",
              "       'gsector_60.0'],\n",
              "      dtype='object')"
            ]
          },
          "metadata": {},
          "execution_count": 308
        }
      ]
    },
    {
      "cell_type": "code",
      "source": [
        "def ols_missing(for_reg, target):\n",
        "    for_reg = for_reg.drop(columns=['TICKER', 'crash_return', 'gvkey_x', 'datadate', 'fyear_x', 'indfmt',\n",
        "                                     'consol', 'popsrc', 'datafmt', 'curcd', 'costat', 'gvkey_y', 'fyear_y',\n",
        "                                     'const', 'mktrf', 'smb', 'hml'])\n",
        "\n",
        "    clean = for_reg.dropna(subset=[target])\n",
        "    with_null = for_reg[for_reg[target].isnull()]\n",
        "\n",
        "    col_list = clean.columns\n",
        "    temp = []\n",
        "    for i in col_list:\n",
        "        if i not in ['act', 'lt', 'dltt', 'lct', 're']:\n",
        "            temp.append(i)\n",
        "\n",
        "    x = clean[temp]\n",
        "    y = clean[target]\n",
        "\n",
        "    x = sm.add_constant(x)\n",
        "\n",
        "    model = sm.OLS(y, x).fit()\n",
        "\n",
        "    X_missing = sm.add_constant(with_null[temp], has_constant='add')\n",
        "\n",
        "    temp = model.predict(X_missing)\n",
        "    with_null.loc[:, target] = temp\n",
        "\n",
        "    df_filled = pd.concat([clean, with_null]).sort_index()\n",
        "    return df_filled\n"
      ],
      "metadata": {
        "id": "9JJW6afjpph-"
      },
      "execution_count": 309,
      "outputs": []
    },
    {
      "cell_type": "code",
      "source": [
        "pd.options.mode.chained_assignment = None\n",
        "\n",
        "#impute missing data\n",
        "temp = ols_missing(for_reg, 'act')\n",
        "merged_data['act'] = temp['act']\n",
        "temp = ols_missing(for_reg, 'cogs')\n",
        "merged_data['cogs'] = temp['cogs']\n",
        "temp = ols_missing(for_reg, 'dltt')\n",
        "merged_data['dltt'] = temp['dltt']\n",
        "temp = ols_missing(for_reg, 'lct')\n",
        "merged_data['lct'] = temp['lct']\n",
        "temp = ols_missing(for_reg, 're')\n",
        "merged_data['re'] = temp['re']"
      ],
      "metadata": {
        "id": "urNwJq71pph_"
      },
      "execution_count": 310,
      "outputs": []
    },
    {
      "cell_type": "code",
      "source": [
        "from scipy.stats.mstats import winsorize\n",
        "\n",
        "#financial ratios\n",
        "merged_data['debt_to_equity_ratio'] = (merged_data['dltt'] + (merged_data['lt'] - merged_data['lct']))/ (merged_data['at'] - merged_data['lt'])\n",
        "merged_data['current_ratio'] = merged_data['act'] / merged_data['lct']\n",
        "merged_data['gross_profit'] = (merged_data['sale'] - merged_data['cogs'])/ merged_data['sale']\n",
        "merged_data['asset_turnover_ratio'] = merged_data['sale']/merged_data['at']\n",
        "merged_data['roa'] = merged_data['ni']/merged_data['at']\n",
        "merged_data['roe'] = merged_data['ni']/(merged_data['at'] - merged_data['lt'])\n",
        "merged_data['net_profit_margin'] = merged_data['ni']/merged_data['sale']\n",
        "\n",
        "#winsorize\n",
        "merged_data['debt_to_equity_ratio'] = winsorize(merged_data['debt_to_equity_ratio'], limits=(0.01, 0.01))\n",
        "merged_data['current_ratio'] = winsorize(merged_data['current_ratio'], limits=(0.01, 0.01))\n",
        "merged_data['gross_profit'] = winsorize(merged_data['gross_profit'], limits=(0.01, 0.01))\n",
        "merged_data['asset_turnover_ratio'] = winsorize(merged_data['asset_turnover_ratio'], limits=(0.01, 0.01))\n",
        "merged_data['roa'] = winsorize(merged_data['roa'], limits=(0.01, 0.01))\n",
        "merged_data['roe'] = winsorize(merged_data['roe'], limits=(0.01, 0.01))\n",
        "merged_data['net_profit_margin'] = winsorize(merged_data['net_profit_margin'], limits=(0.01, 0.01))"
      ],
      "metadata": {
        "id": "NhAnHQ3Npph_"
      },
      "execution_count": 311,
      "outputs": []
    },
    {
      "cell_type": "code",
      "source": [
        "#drop null data\n",
        "merged_data = merged_data[np.isfinite(merged_data['debt_to_equity_ratio']) \n",
        "                        & np.isfinite(merged_data['current_ratio']) \n",
        "                        & np.isfinite(merged_data['gross_profit'])\n",
        "                        & np.isfinite(merged_data['asset_turnover_ratio'])\n",
        "                        & np.isfinite(merged_data['roa'])\n",
        "                        & np.isfinite(merged_data['roe'])\n",
        "                        & np.isfinite(merged_data['net_profit_margin'])]"
      ],
      "metadata": {
        "id": "89Z33dD7pph_"
      },
      "execution_count": 312,
      "outputs": []
    },
    {
      "cell_type": "code",
      "source": [
        "merged_data = pd.get_dummies(merged_data, columns=['gsector'])\n",
        "merged_data.columns"
      ],
      "metadata": {
        "colab": {
          "base_uri": "https://localhost:8080/"
        },
        "outputId": "1569e2aa-ee1a-4cfa-e8b7-3400b0623fd5",
        "id": "pXog8s0qpph_"
      },
      "execution_count": 313,
      "outputs": [
        {
          "output_type": "execute_result",
          "data": {
            "text/plain": [
              "Index(['TICKER', 'crash_return', 'gvkey_x', 'datadate', 'fyear_x', 'indfmt',\n",
              "       'consol', 'popsrc', 'datafmt', 'curcd', 'act', 'at', 'che', 'cogs',\n",
              "       'dltt', 'lct', 'lt', 'ni', 're', 'sale', 'costat', 'gvkey_y', 'fyear_y',\n",
              "       'const', 'mktrf', 'smb', 'hml', 'debt_to_equity_ratio', 'current_ratio',\n",
              "       'gross_profit', 'asset_turnover_ratio', 'roa', 'roe',\n",
              "       'net_profit_margin', 'gsector_10.0', 'gsector_15.0', 'gsector_20.0',\n",
              "       'gsector_25.0', 'gsector_30.0', 'gsector_35.0', 'gsector_40.0',\n",
              "       'gsector_45.0', 'gsector_50.0', 'gsector_55.0', 'gsector_60.0'],\n",
              "      dtype='object')"
            ]
          },
          "metadata": {},
          "execution_count": 313
        }
      ]
    },
    {
      "cell_type": "markdown",
      "source": [
        "### 1. Ratio"
      ],
      "metadata": {
        "id": "-q3SkWsfpph_"
      }
    },
    {
      "cell_type": "code",
      "source": [
        "#define the independent variables\n",
        "X = merged_data[['debt_to_equity_ratio', 'gross_profit', 'current_ratio',\n",
        "                  'asset_turnover_ratio','roa', 'roe', 'net_profit_margin']]\n",
        "X = sm.add_constant(X)\n",
        "\n",
        "#define the dependent variable\n",
        "y = merged_data['crash_return']\n",
        "\n",
        "#fit the linear regression model\n",
        "model = sm.OLS(y, X).fit()\n",
        "print(model.summary())"
      ],
      "metadata": {
        "colab": {
          "base_uri": "https://localhost:8080/"
        },
        "outputId": "b20a5b6e-5ca4-452e-ab78-f68b82b8610b",
        "id": "w5-9k1yspph_"
      },
      "execution_count": 314,
      "outputs": [
        {
          "output_type": "stream",
          "name": "stdout",
          "text": [
            "                            OLS Regression Results                            \n",
            "==============================================================================\n",
            "Dep. Variable:           crash_return   R-squared:                       0.026\n",
            "Model:                            OLS   Adj. R-squared:                  0.024\n",
            "Method:                 Least Squares   F-statistic:                     11.47\n",
            "Date:                Sat, 06 May 2023   Prob (F-statistic):           1.90e-14\n",
            "Time:                        06:33:15   Log-Likelihood:                 1484.3\n",
            "No. Observations:                2961   AIC:                            -2953.\n",
            "Df Residuals:                    2953   BIC:                            -2905.\n",
            "Df Model:                           7                                         \n",
            "Covariance Type:            nonrobust                                         \n",
            "========================================================================================\n",
            "                           coef    std err          t      P>|t|      [0.025      0.975]\n",
            "----------------------------------------------------------------------------------------\n",
            "const                   -0.1807      0.005    -36.204      0.000      -0.190      -0.171\n",
            "debt_to_equity_ratio -5.066e-05      0.000     -0.153      0.879      -0.001       0.001\n",
            "gross_profit            -0.0031      0.002     -1.663      0.097      -0.007       0.001\n",
            "current_ratio            0.0095      0.001      7.613      0.000       0.007       0.012\n",
            "asset_turnover_ratio     0.0060      0.004      1.358      0.175      -0.003       0.015\n",
            "roa                     -0.0106      0.018     -0.600      0.548      -0.045       0.024\n",
            "roe                     -0.0073      0.004     -2.011      0.044      -0.014      -0.000\n",
            "net_profit_margin        0.0008      0.001      0.980      0.327      -0.001       0.003\n",
            "==============================================================================\n",
            "Omnibus:                     4225.424   Durbin-Watson:                   2.005\n",
            "Prob(Omnibus):                  0.000   Jarque-Bera (JB):          4168989.111\n",
            "Skew:                           7.838   Prob(JB):                         0.00\n",
            "Kurtosis:                     186.154   Cond. No.                         54.3\n",
            "==============================================================================\n",
            "\n",
            "Notes:\n",
            "[1] Standard Errors assume that the covariance matrix of the errors is correctly specified.\n"
          ]
        }
      ]
    },
    {
      "cell_type": "markdown",
      "source": [
        "The adjusted R-squared value is 0.024, which is slightly lower than the R-squared value. The model explains approximately 2.4% of the variation in crash_return after adjusting for the number of independent variables.\n",
        "\n",
        "The constant term is -0.1807, which means that when all other independent variables are zero, the average crash_return will be -0.1807.\n",
        "\n",
        "The coefficient is 0.0095, which means that for every 1-unit increase in the current ratio (current assets divided by current liabilities), the crash_return is expected to increase by 0.0095 units, holding all other variables constant.\n",
        "\n",
        " The coefficient is -0.0073, indicating that for every 1-unit increase in return on equity (roe), the crash_return is expected to decrease by 0.0073 units, holding all other variables constant."
      ],
      "metadata": {
        "id": "MVff5jJFpph_"
      }
    },
    {
      "cell_type": "markdown",
      "source": [
        "### 2. 3-factor risk"
      ],
      "metadata": {
        "id": "omIU-Y8cpph_"
      }
    },
    {
      "cell_type": "code",
      "source": [
        "#define the independent variables\n",
        "X = merged_data[['mktrf', 'smb', 'hml']]\n",
        "X = sm.add_constant(X)\n",
        "\n",
        "#define the dependent variable\n",
        "y = merged_data['crash_return']\n",
        "\n",
        "#fit the linear regression model\n",
        "model = sm.OLS(y, X).fit()\n",
        "print(model.summary())"
      ],
      "metadata": {
        "colab": {
          "base_uri": "https://localhost:8080/"
        },
        "outputId": "45d291eb-3d8f-4d62-b2c9-b306d2172d37",
        "id": "cyb6nZiLpph_"
      },
      "execution_count": 315,
      "outputs": [
        {
          "output_type": "stream",
          "name": "stdout",
          "text": [
            "                            OLS Regression Results                            \n",
            "==============================================================================\n",
            "Dep. Variable:           crash_return   R-squared:                       0.542\n",
            "Model:                            OLS   Adj. R-squared:                  0.541\n",
            "Method:                 Least Squares   F-statistic:                     1165.\n",
            "Date:                Sat, 06 May 2023   Prob (F-statistic):               0.00\n",
            "Time:                        06:33:16   Log-Likelihood:                 2599.8\n",
            "No. Observations:                2961   AIC:                            -5192.\n",
            "Df Residuals:                    2957   BIC:                            -5168.\n",
            "Df Model:                           3                                         \n",
            "Covariance Type:            nonrobust                                         \n",
            "==============================================================================\n",
            "                 coef    std err          t      P>|t|      [0.025      0.975]\n",
            "------------------------------------------------------------------------------\n",
            "const          0.0012      0.004      0.318      0.751      -0.006       0.008\n",
            "mktrf         -0.1252      0.003    -47.482      0.000      -0.130      -0.120\n",
            "smb           -0.0059      0.002     -2.999      0.003      -0.010      -0.002\n",
            "hml           -0.0852      0.002    -35.061      0.000      -0.090      -0.080\n",
            "==============================================================================\n",
            "Omnibus:                     4439.223   Durbin-Watson:                   1.956\n",
            "Prob(Omnibus):                  0.000   Jarque-Bera (JB):          5268487.010\n",
            "Skew:                           8.622   Prob(JB):                         0.00\n",
            "Kurtosis:                     208.926   Cond. No.                         4.13\n",
            "==============================================================================\n",
            "\n",
            "Notes:\n",
            "[1] Standard Errors assume that the covariance matrix of the errors is correctly specified.\n"
          ]
        }
      ]
    },
    {
      "cell_type": "markdown",
      "source": [
        "The adjusted R-squared value is 0.541, which indicates that 54.1% of the variance in the crash_return can be explained by the independent variables in this model. This is relatively high, which means the model fits the data well.\n",
        "\n",
        "The coefficient is -0.1252, which means that for every 1-unit increase in the market return minus the risk-free rate (mktrf), the crash_return is expected to decrease by 0.1252 units, holding all other variables constant. This indicates that an increase in market returns relative to the risk-free rate results in a decrease in the crash_return, suggesting that the market return has a negative relationship with the crash_return.\n",
        "\n",
        "The coefficient is -0.0059, which means that for every 1-unit increase in the size factor (smb), the crash_return is expected to decrease by 0.0059 units, holding all other variables constant. This suggests that smaller companies (with higher smb values) tend to have lower crash returns.\n",
        "\n",
        "The coefficient is -0.0852, which means that for every 1-unit increase in the book-to-market ratio (hml), the crash_return is expected to decrease by 0.0852 units, holding all other variables constant. This suggests that companies with higher book-to-market ratios (value stocks) tend to have lower crash returns."
      ],
      "metadata": {
        "id": "hGw5KpAjpph_"
      }
    },
    {
      "cell_type": "markdown",
      "source": [
        "###3. Industry categorical"
      ],
      "metadata": {
        "id": "2Bg68xSLpph_"
      }
    },
    {
      "cell_type": "code",
      "source": [
        "#define the independent variables\n",
        "X = merged_data[['gsector_15.0', 'gsector_20.0',\n",
        "       'gsector_25.0', 'gsector_30.0', 'gsector_35.0', 'gsector_40.0',\n",
        "       'gsector_45.0', 'gsector_50.0', 'gsector_55.0', 'gsector_60.0']]\n",
        "X = sm.add_constant(X)\n",
        "\n",
        "#define the dependent variable\n",
        "y = merged_data['crash_return']\n",
        "\n",
        "#fit the linear regression model\n",
        "model = sm.OLS(y, X).fit()\n",
        "print(model.summary())"
      ],
      "metadata": {
        "colab": {
          "base_uri": "https://localhost:8080/"
        },
        "outputId": "1fcba781-6043-4790-8a86-de8514fd4f27",
        "id": "91qATJMnpph_"
      },
      "execution_count": 316,
      "outputs": [
        {
          "output_type": "stream",
          "name": "stdout",
          "text": [
            "                            OLS Regression Results                            \n",
            "==============================================================================\n",
            "Dep. Variable:           crash_return   R-squared:                       0.117\n",
            "Model:                            OLS   Adj. R-squared:                  0.114\n",
            "Method:                 Least Squares   F-statistic:                     39.00\n",
            "Date:                Sat, 06 May 2023   Prob (F-statistic):           1.07e-72\n",
            "Time:                        06:33:16   Log-Likelihood:                 1628.5\n",
            "No. Observations:                2961   AIC:                            -3235.\n",
            "Df Residuals:                    2950   BIC:                            -3169.\n",
            "Df Model:                          10                                         \n",
            "Covariance Type:            nonrobust                                         \n",
            "================================================================================\n",
            "                   coef    std err          t      P>|t|      [0.025      0.975]\n",
            "--------------------------------------------------------------------------------\n",
            "const           -0.2700      0.010    -27.029      0.000      -0.290      -0.250\n",
            "gsector_15.0     0.1018      0.015      6.921      0.000       0.073       0.131\n",
            "gsector_20.0     0.1024      0.012      8.512      0.000       0.079       0.126\n",
            "gsector_25.0     0.0542      0.013      4.285      0.000       0.029       0.079\n",
            "gsector_30.0     0.1884      0.016     11.620      0.000       0.157       0.220\n",
            "gsector_35.0     0.1900      0.012     15.602      0.000       0.166       0.214\n",
            "gsector_40.0     0.0995      0.012      8.581      0.000       0.077       0.122\n",
            "gsector_45.0     0.1470      0.012     11.959      0.000       0.123       0.171\n",
            "gsector_50.0     0.1304      0.016      8.000      0.000       0.098       0.162\n",
            "gsector_55.0     0.1688      0.019      8.971      0.000       0.132       0.206\n",
            "gsector_60.0     0.0966      0.015      6.612      0.000       0.068       0.125\n",
            "==============================================================================\n",
            "Omnibus:                     4503.088   Durbin-Watson:                   2.014\n",
            "Prob(Omnibus):                  0.000   Jarque-Bera (JB):          5614809.259\n",
            "Skew:                           8.869   Prob(JB):                         0.00\n",
            "Kurtosis:                     215.592   Cond. No.                         14.2\n",
            "==============================================================================\n",
            "\n",
            "Notes:\n",
            "[1] Standard Errors assume that the covariance matrix of the errors is correctly specified.\n"
          ]
        }
      ]
    },
    {
      "cell_type": "markdown",
      "source": [
        "The adjusted R-squared value is 0.114, which is close to the R-squared value. The model explains approximately 11.4% of the variation in crash_return after adjusting for the number of independent variables.\n",
        "\n",
        "The constant coefficient is -0.2700, which represents the baseline crash_return when all gsector dummy variables are 0 (reference category).\n",
        "\n",
        "These coefficients represent the difference in crash_return for each industry sector compared to the reference category. For example, the coefficient for gsector_15.0 is 0.1018, which means that, holding all other variables constant, the crash_return for this sector is expected to be 0.1018 units higher than the reference category. Similar interpretations apply to the other gsector coefficients."
      ],
      "metadata": {
        "id": "b0vvoj74pph_"
      }
    },
    {
      "cell_type": "markdown",
      "source": [
        "### 1&2"
      ],
      "metadata": {
        "id": "Dzns4L3PppiA"
      }
    },
    {
      "cell_type": "code",
      "source": [
        "#define the independent variables\n",
        "X = merged_data[['debt_to_equity_ratio', 'gross_profit', 'current_ratio',\n",
        "                 'asset_turnover_ratio','roa', 'roe', 'net_profit_margin',\n",
        "                 'mktrf', 'smb', 'hml']]\n",
        "X = sm.add_constant(X)\n",
        "\n",
        "#define the dependent variable\n",
        "y = merged_data['crash_return']\n",
        "\n",
        "#fit the linear regression model\n",
        "model = sm.OLS(y, X).fit()\n",
        "print(model.summary())"
      ],
      "metadata": {
        "colab": {
          "base_uri": "https://localhost:8080/"
        },
        "outputId": "7c5df018-2e95-4663-fdce-f30b80da73a3",
        "id": "NijacBT7ppiA"
      },
      "execution_count": 317,
      "outputs": [
        {
          "output_type": "stream",
          "name": "stdout",
          "text": [
            "                            OLS Regression Results                            \n",
            "==============================================================================\n",
            "Dep. Variable:           crash_return   R-squared:                       0.554\n",
            "Model:                            OLS   Adj. R-squared:                  0.552\n",
            "Method:                 Least Squares   F-statistic:                     366.4\n",
            "Date:                Sat, 06 May 2023   Prob (F-statistic):               0.00\n",
            "Time:                        06:33:16   Log-Likelihood:                 2640.0\n",
            "No. Observations:                2961   AIC:                            -5258.\n",
            "Df Residuals:                    2950   BIC:                            -5192.\n",
            "Df Model:                          10                                         \n",
            "Covariance Type:            nonrobust                                         \n",
            "========================================================================================\n",
            "                           coef    std err          t      P>|t|      [0.025      0.975]\n",
            "----------------------------------------------------------------------------------------\n",
            "const                   -0.0066      0.005     -1.427      0.154      -0.016       0.002\n",
            "debt_to_equity_ratio     0.0009      0.000      3.822      0.000       0.000       0.001\n",
            "gross_profit            -0.0011      0.001     -0.875      0.382      -0.004       0.001\n",
            "current_ratio            0.0026      0.001      3.052      0.002       0.001       0.004\n",
            "asset_turnover_ratio     0.0121      0.003      3.949      0.000       0.006       0.018\n",
            "roa                     -0.0579      0.013     -4.534      0.000      -0.083      -0.033\n",
            "roe                     -0.0092      0.002     -3.757      0.000      -0.014      -0.004\n",
            "net_profit_margin        0.0008      0.001      1.421      0.156      -0.000       0.002\n",
            "mktrf                   -0.1301      0.003    -48.280      0.000      -0.135      -0.125\n",
            "smb                     -0.0108      0.002     -5.281      0.000      -0.015      -0.007\n",
            "hml                     -0.0794      0.003    -31.076      0.000      -0.084      -0.074\n",
            "==============================================================================\n",
            "Omnibus:                     4339.115   Durbin-Watson:                   1.940\n",
            "Prob(Omnibus):                  0.000   Jarque-Bera (JB):          4834885.200\n",
            "Skew:                           8.238   Prob(JB):                         0.00\n",
            "Kurtosis:                     200.274   Cond. No.                         58.0\n",
            "==============================================================================\n",
            "\n",
            "Notes:\n",
            "[1] Standard Errors assume that the covariance matrix of the errors is correctly specified.\n"
          ]
        }
      ]
    },
    {
      "cell_type": "markdown",
      "source": [
        "The adjusted R-squared value is 0.552. The model explains approximately 52.2% of the variation in crash_return after adjusting for the number of independent variables.\n",
        "\n",
        "The coefficient of 0.0009 suggests that for every one-unit increase in the debt_to_equity_ratio, crash_return is expected to increase by 0.0009 units, holding all other variables constant.\n",
        "\n",
        "The coefficient of 0.0026 indicates that for every one-unit increase in the current_ratio, crash_return is expected to increase by 0.0026 units, holding all other variables constant.\n",
        "\n",
        "The coefficient of 0.0121 implies that for every one-unit increase in the asset_turnover_ratio, crash_return is expected to increase by 0.0121 units, holding all other variables constant.\n",
        "\n",
        "The coefficient of -0.0579 suggests that for every one-unit increase in the return on assets (ROA), crash_return is expected to decrease by 0.0579 units, holding all other variables constant.\n",
        "\n",
        "The coefficient of -0.0092 indicates that for every one-unit increase in the return on equity (ROE), crash_return is expected to decrease by 0.0092 units, holding all other variables constant.\n",
        "\n",
        "The coefficient of -0.1301 implies that for every one-unit increase in the market return (MktRF), crash_return is expected to decrease by 0.1301 units, holding all other variables constant.\n",
        "\n",
        "The coefficient of -0.0108 suggests that for every one-unit increase in the size factor (SMB), crash_return is expected to decrease by 0.0108 units, holding all other variables constant.\n",
        "\n",
        "The coefficient of -0.0794 indicates that for every one-unit increase in the value factor (HML), crash_return is expected to decrease by 0.0794 units, holding all other variables constant.\n"
      ],
      "metadata": {
        "id": "-gOB7x4vppiA"
      }
    },
    {
      "cell_type": "markdown",
      "source": [
        "### 2&3"
      ],
      "metadata": {
        "id": "3h1U_Z5hppiA"
      }
    },
    {
      "cell_type": "code",
      "source": [
        "#define the independent variables\n",
        "X = merged_data[['mktrf', 'smb', 'hml','gsector_15.0', 'gsector_20.0',\n",
        "       'gsector_25.0', 'gsector_30.0', 'gsector_35.0', 'gsector_40.0',\n",
        "       'gsector_45.0', 'gsector_50.0', 'gsector_55.0', 'gsector_60.0']]\n",
        "X = sm.add_constant(X)\n",
        "\n",
        "#define the dependent variable\n",
        "y = merged_data['crash_return']\n",
        "\n",
        "#fit the linear regression model\n",
        "model = sm.OLS(y, X).fit()\n",
        "print(model.summary())"
      ],
      "metadata": {
        "colab": {
          "base_uri": "https://localhost:8080/"
        },
        "outputId": "995f984e-be06-4b89-d111-03305a0e2651",
        "id": "uwpFE7meppiA"
      },
      "execution_count": 318,
      "outputs": [
        {
          "output_type": "stream",
          "name": "stdout",
          "text": [
            "                            OLS Regression Results                            \n",
            "==============================================================================\n",
            "Dep. Variable:           crash_return   R-squared:                       0.556\n",
            "Model:                            OLS   Adj. R-squared:                  0.554\n",
            "Method:                 Least Squares   F-statistic:                     283.5\n",
            "Date:                Sat, 06 May 2023   Prob (F-statistic):               0.00\n",
            "Time:                        06:33:16   Log-Likelihood:                 2645.6\n",
            "No. Observations:                2961   AIC:                            -5263.\n",
            "Df Residuals:                    2947   BIC:                            -5179.\n",
            "Df Model:                          13                                         \n",
            "Covariance Type:            nonrobust                                         \n",
            "================================================================================\n",
            "                   coef    std err          t      P>|t|      [0.025      0.975]\n",
            "--------------------------------------------------------------------------------\n",
            "const            0.0152      0.009      1.678      0.094      -0.003       0.033\n",
            "mktrf           -0.1294      0.003    -46.221      0.000      -0.135      -0.124\n",
            "smb             -0.0086      0.002     -4.279      0.000      -0.012      -0.005\n",
            "hml             -0.0773      0.003    -27.626      0.000      -0.083      -0.072\n",
            "gsector_15.0    -0.0073      0.011     -0.688      0.492      -0.028       0.014\n",
            "gsector_20.0    -0.0022      0.009     -0.248      0.804      -0.019       0.015\n",
            "gsector_25.0    -0.0265      0.009     -2.896      0.004      -0.044      -0.009\n",
            "gsector_30.0    -0.0021      0.012     -0.173      0.863      -0.026       0.022\n",
            "gsector_35.0     0.0203      0.010      2.133      0.033       0.002       0.039\n",
            "gsector_40.0    -0.0252      0.009     -2.931      0.003      -0.042      -0.008\n",
            "gsector_45.0     0.0041      0.009      0.439      0.660      -0.014       0.022\n",
            "gsector_50.0    -0.0147      0.012     -1.233      0.218      -0.038       0.009\n",
            "gsector_55.0    -0.0442      0.014     -3.134      0.002      -0.072      -0.017\n",
            "gsector_60.0    -0.0483      0.011     -4.495      0.000      -0.069      -0.027\n",
            "==============================================================================\n",
            "Omnibus:                     4466.481   Durbin-Watson:                   1.950\n",
            "Prob(Omnibus):                  0.000   Jarque-Bera (JB):          5498304.926\n",
            "Skew:                           8.720   Prob(JB):                         0.00\n",
            "Kurtosis:                     213.384   Cond. No.                         25.8\n",
            "==============================================================================\n",
            "\n",
            "Notes:\n",
            "[1] Standard Errors assume that the covariance matrix of the errors is correctly specified.\n"
          ]
        }
      ]
    },
    {
      "cell_type": "markdown",
      "source": [
        "The adjusted R-squared value is 0.554, which is close to the R-squared value. The model explains approximately 55.4% of the variation in crash_return after adjusting for the number of independent variables.\n",
        "\n",
        "The coefficient of -0.1294 suggests that for every one-unit increase in the market return (MktRF), crash_return is expected to decrease by 0.1294 units, holding all other variables constant.\n",
        "\n",
        "The coefficient of -0.0086 indicates that for every one-unit increase in the size factor (SMB), crash_return is expected to decrease by 0.0086 units, holding all other variables constant.\n",
        "\n",
        "The coefficient of -0.0773 implies that for every one-unit increase in the value factor (HML), crash_return is expected to decrease by 0.0773 units, holding all other variables constant.\n",
        "\n",
        "The coefficient of -0.0265 suggests that being in industry sector 25 leads to a decrease in crash_return by 0.0265 units compared to the reference industry sector, holding all other variables constant.\n",
        "\n",
        "The coefficient of 0.0203 indicates that being in industry sector 35 leads to an increase in crash_return by 0.0203 units compared to the reference industry sector, holding all other variables constant.\n",
        "\n",
        "The coefficient of -0.0252 implies that being in industry sector 40 leads to a decrease in crash_return by 0.0252 units compared to the reference industry sector, holding all other variables constant.\n",
        "\n",
        "The coefficient of -0.0442 suggests that being in industry sector 55 leads to a decrease in crash_return by 0.0442 units compared to the reference industry sector, holding all other variables constant.\n",
        "\n",
        "The coefficient of -0.0483 indicates that being in industry sector 60 leads to a decrease in crash_return by 0.0483 units compared to the reference industry sector, holding all other variables constant."
      ],
      "metadata": {
        "id": "6-R3np3MppiA"
      }
    },
    {
      "cell_type": "markdown",
      "source": [
        "### 1&3"
      ],
      "metadata": {
        "id": "PA4RLS5GppiA"
      }
    },
    {
      "cell_type": "code",
      "source": [
        "#define the independent variables\n",
        "X = merged_data[['debt_to_equity_ratio', 'gross_profit', 'current_ratio',\n",
        "                 'asset_turnover_ratio','roa', 'roe', 'net_profit_margin',\n",
        "                 'gsector_15.0', 'gsector_20.0',\n",
        "                 'gsector_25.0', 'gsector_30.0', 'gsector_35.0', 'gsector_40.0',\n",
        "                 'gsector_45.0', 'gsector_50.0', 'gsector_55.0', 'gsector_60.0']]\n",
        "X = sm.add_constant(X)\n",
        "\n",
        "#define the dependent variable\n",
        "y = merged_data['crash_return']\n",
        "\n",
        "#fit the linear regression model\n",
        "model = sm.OLS(y, X).fit()\n",
        "print(model.summary())"
      ],
      "metadata": {
        "colab": {
          "base_uri": "https://localhost:8080/"
        },
        "outputId": "1faac2bc-9e45-4437-f6db-dcd714c5acf8",
        "id": "U-lLJYHdppiA"
      },
      "execution_count": 319,
      "outputs": [
        {
          "output_type": "stream",
          "name": "stdout",
          "text": [
            "                            OLS Regression Results                            \n",
            "==============================================================================\n",
            "Dep. Variable:           crash_return   R-squared:                       0.127\n",
            "Model:                            OLS   Adj. R-squared:                  0.122\n",
            "Method:                 Least Squares   F-statistic:                     25.18\n",
            "Date:                Sat, 06 May 2023   Prob (F-statistic):           1.36e-74\n",
            "Time:                        06:33:16   Log-Likelihood:                 1645.7\n",
            "No. Observations:                2961   AIC:                            -3255.\n",
            "Df Residuals:                    2943   BIC:                            -3147.\n",
            "Df Model:                          17                                         \n",
            "Covariance Type:            nonrobust                                         \n",
            "========================================================================================\n",
            "                           coef    std err          t      P>|t|      [0.025      0.975]\n",
            "----------------------------------------------------------------------------------------\n",
            "const                   -0.2861      0.011    -26.028      0.000      -0.308      -0.265\n",
            "debt_to_equity_ratio     0.0001      0.000      0.311      0.756      -0.001       0.001\n",
            "gross_profit            -0.0032      0.002     -1.795      0.073      -0.007       0.000\n",
            "current_ratio            0.0055      0.001      4.334      0.000       0.003       0.008\n",
            "asset_turnover_ratio     0.0110      0.005      2.115      0.035       0.001       0.021\n",
            "roa                      0.0357      0.018      2.035      0.042       0.001       0.070\n",
            "roe                     -0.0069      0.003     -1.988      0.047      -0.014   -9.37e-05\n",
            "net_profit_margin        0.0013      0.001      1.535      0.125      -0.000       0.003\n",
            "gsector_15.0             0.0969      0.015      6.603      0.000       0.068       0.126\n",
            "gsector_20.0             0.0958      0.012      7.909      0.000       0.072       0.120\n",
            "gsector_25.0             0.0477      0.013      3.717      0.000       0.023       0.073\n",
            "gsector_30.0             0.1796      0.016     10.920      0.000       0.147       0.212\n",
            "gsector_35.0             0.1834      0.013     14.306      0.000       0.158       0.209\n",
            "gsector_40.0             0.1084      0.012      9.019      0.000       0.085       0.132\n",
            "gsector_45.0             0.1413      0.012     11.443      0.000       0.117       0.165\n",
            "gsector_50.0             0.1297      0.016      7.985      0.000       0.098       0.162\n",
            "gsector_55.0             0.1770      0.019      9.378      0.000       0.140       0.214\n",
            "gsector_60.0             0.1027      0.015      6.949      0.000       0.074       0.132\n",
            "==============================================================================\n",
            "Omnibus:                     4533.325   Durbin-Watson:                   2.012\n",
            "Prob(Omnibus):                  0.000   Jarque-Bera (JB):          5762938.140\n",
            "Skew:                           8.990   Prob(JB):                         0.00\n",
            "Kurtosis:                     218.378   Cond. No.                         111.\n",
            "==============================================================================\n",
            "\n",
            "Notes:\n",
            "[1] Standard Errors assume that the covariance matrix of the errors is correctly specified.\n"
          ]
        }
      ]
    },
    {
      "cell_type": "markdown",
      "source": [
        "The adjusted R-squared value is 0.122, which is close to the R-squared value. The model explains approximately 12.2% of the variation in crash_return after adjusting for the number of independent variables.\n",
        "\n",
        "The constant term, or the intercept, is -0.2861. This represents the predicted crash_return when all other variables are equal to zero.\n",
        "\n",
        "The coefficient of 0.0055 indicates that for every one-unit increase in the current ratio, crash_return is expected to increase by 0.0055 units, holding all other variables constant.\n",
        "\n",
        "The coefficient of 0.0110 implies that for every one-unit increase in the asset turnover ratio, crash_return is expected to increase by 0.0110 units, holding all other variables constant.\n",
        "\n",
        "The coefficient of 0.0357 suggests that for every one-unit increase in the return on assets (ROA), crash_return is expected to increase by 0.0357 units, holding all other variables constant.\n",
        "\n",
        "The coefficient of -0.0069 indicates that for every one-unit increase in the return on equity (ROE), crash_return is expected to decrease by 0.0069 units, holding all other variables constant.\n",
        "\n",
        "These coefficients represent the difference in crash_return between the reference industry sector and each respective industry sector. For example, being in industry sector 15 leads to an increase in crash_return by 0.0969 units compared to the reference industry sector, holding all other variables constant."
      ],
      "metadata": {
        "id": "jtZid745ppiA"
      }
    },
    {
      "cell_type": "markdown",
      "source": [
        "### 1&2&3"
      ],
      "metadata": {
        "id": "JrkGzRfnppiA"
      }
    },
    {
      "cell_type": "code",
      "source": [
        "#define the independent variables\n",
        "X = merged_data[['mktrf', 'smb', 'hml',\n",
        "                 'debt_to_equity_ratio', 'gross_profit', 'current_ratio',\n",
        "                 'asset_turnover_ratio','roa', 'roe', 'net_profit_margin',\n",
        "                 'gsector_15.0', 'gsector_20.0',\n",
        "                 'gsector_25.0', 'gsector_30.0', 'gsector_35.0', 'gsector_40.0',\n",
        "                 'gsector_45.0', 'gsector_50.0', 'gsector_55.0', 'gsector_60.0']]\n",
        "X = sm.add_constant(X)\n",
        "\n",
        "#define the dependent variable\n",
        "y = merged_data['crash_return']\n",
        "\n",
        "#fit the linear regression model\n",
        "model = sm.OLS(y, X).fit()\n",
        "print(model.summary())"
      ],
      "metadata": {
        "colab": {
          "base_uri": "https://localhost:8080/"
        },
        "outputId": "1311ab84-b322-42f4-9f41-f08dba2849bd",
        "id": "O0KPrEMtppiB"
      },
      "execution_count": 320,
      "outputs": [
        {
          "output_type": "stream",
          "name": "stdout",
          "text": [
            "                            OLS Regression Results                            \n",
            "==============================================================================\n",
            "Dep. Variable:           crash_return   R-squared:                       0.563\n",
            "Model:                            OLS   Adj. R-squared:                  0.560\n",
            "Method:                 Least Squares   F-statistic:                     189.4\n",
            "Date:                Sat, 06 May 2023   Prob (F-statistic):               0.00\n",
            "Time:                        06:33:16   Log-Likelihood:                 2670.4\n",
            "No. Observations:                2961   AIC:                            -5299.\n",
            "Df Residuals:                    2940   BIC:                            -5173.\n",
            "Df Model:                          20                                         \n",
            "Covariance Type:            nonrobust                                         \n",
            "========================================================================================\n",
            "                           coef    std err          t      P>|t|      [0.025      0.975]\n",
            "----------------------------------------------------------------------------------------\n",
            "const                    0.0140      0.010      1.440      0.150      -0.005       0.033\n",
            "mktrf                   -0.1326      0.003    -46.188      0.000      -0.138      -0.127\n",
            "smb                     -0.0118      0.002     -5.646      0.000      -0.016      -0.008\n",
            "hml                     -0.0766      0.003    -27.259      0.000      -0.082      -0.071\n",
            "debt_to_equity_ratio     0.0009      0.000      3.878      0.000       0.000       0.001\n",
            "gross_profit            -0.0012      0.001     -0.980      0.327      -0.004       0.001\n",
            "current_ratio            0.0009      0.001      0.969      0.333      -0.001       0.003\n",
            "asset_turnover_ratio     0.0082      0.004      2.223      0.026       0.001       0.015\n",
            "roa                     -0.0441      0.013     -3.374      0.001      -0.070      -0.018\n",
            "roe                     -0.0091      0.002     -3.721      0.000      -0.014      -0.004\n",
            "net_profit_margin        0.0009      0.001      1.605      0.109      -0.000       0.002\n",
            "gsector_15.0            -0.0097      0.011     -0.911      0.363      -0.030       0.011\n",
            "gsector_20.0            -0.0044      0.009     -0.502      0.616      -0.022       0.013\n",
            "gsector_25.0            -0.0297      0.009     -3.217      0.001      -0.048      -0.012\n",
            "gsector_30.0            -0.0096      0.012     -0.785      0.433      -0.034       0.014\n",
            "gsector_35.0             0.0102      0.010      1.038      0.299      -0.009       0.030\n",
            "gsector_40.0            -0.0185      0.009     -2.084      0.037      -0.036      -0.001\n",
            "gsector_45.0             0.0007      0.009      0.077      0.938      -0.017       0.019\n",
            "gsector_50.0            -0.0151      0.012     -1.271      0.204      -0.038       0.008\n",
            "gsector_55.0            -0.0456      0.014     -3.221      0.001      -0.073      -0.018\n",
            "gsector_60.0            -0.0469      0.011     -4.325      0.000      -0.068      -0.026\n",
            "==============================================================================\n",
            "Omnibus:                     4352.487   Durbin-Watson:                   1.939\n",
            "Prob(Omnibus):                  0.000   Jarque-Bera (JB):          4898845.711\n",
            "Skew:                           8.288   Prob(JB):                         0.00\n",
            "Kurtosis:                     201.575   Cond. No.                         121.\n",
            "==============================================================================\n",
            "\n",
            "Notes:\n",
            "[1] Standard Errors assume that the covariance matrix of the errors is correctly specified.\n"
          ]
        }
      ]
    },
    {
      "cell_type": "markdown",
      "source": [
        "The adjusted R-squared value is 0.56. The model explains approximately 56.0% of the variation in crash_return after adjusting for the number of independent variables.\n",
        "\n",
        "mktrf: The coefficient of -0.1326 indicates that for a 1 unit increase in mktrf, the crash_return is expected to decrease by 0.1326 units.\n",
        "\n",
        "smb: The coefficient of -0.0118 indicates that for a 1 unit increase in smb, the crash_return is expected to decrease by 0.0118 units.\n",
        "\n",
        "hml: The coefficient of -0.0766 indicates that for a 1 unit increase in hml, the crash_return is expected to decrease by 0.0766 units.\n",
        "\n",
        "debt_to_equity_ratio: The coefficient of 0.0009 indicates that for a 1 unit increase in debt_to_equity_ratio, the crash_return is expected to increase by 0.0009 units.\n",
        "\n",
        "roa: The coefficient of -0.0441 indicates that for a 1 unit increase in roa, the crash_return is expected to decrease by 0.0441 units.\n",
        "\n",
        "roe: The coefficient of -0.0091 indicates that for a 1 unit increase in roe, the crash_return is expected to decrease by 0.0091 units.\n",
        "\n",
        "gsector_25.0: The coefficient of -0.0297 indicates that for a 1 unit increase in gsector_25.0, the crash_return is expected to decrease by 0.0297 units.\n",
        "\n",
        "gsector_55.0: The coefficient of -0.0456 indicates that for a 1 unit increase in gsector_55.0, the crash_return is expected to decrease by 0.0456 units.\n",
        "\n",
        "gsector_60.0: The coefficient of -0.0469 indicates that for a 1 unit increase in gsector_60.0, the crash_return is expected to decrease by 0.0469 units.\n"
      ],
      "metadata": {
        "id": "V-oyLrs4ppiB"
      }
    },
    {
      "cell_type": "markdown",
      "source": [
        "### Final regression"
      ],
      "metadata": {
        "id": "hVVzuFR1ppiB"
      }
    },
    {
      "cell_type": "code",
      "source": [
        "#define the independent variables\n",
        "X = merged_data[['mktrf', 'smb', 'hml',\n",
        "                 'debt_to_equity_ratio', \n",
        "                 'asset_turnover_ratio','roa', 'roe', \n",
        "                 'gsector_25.0', 'gsector_40.0',\n",
        "                 'gsector_55.0', 'gsector_60.0']]\n",
        "X = sm.add_constant(X)\n",
        "\n",
        "#define the dependent variable\n",
        "y = merged_data['crash_return']\n",
        "\n",
        "#fit the linear regression model\n",
        "model = sm.OLS(y, X).fit()\n",
        "print(model.summary())"
      ],
      "metadata": {
        "colab": {
          "base_uri": "https://localhost:8080/"
        },
        "outputId": "19919054-64e1-4cea-c241-4944975a17dd",
        "id": "61SqEj5YppiB"
      },
      "execution_count": 341,
      "outputs": [
        {
          "output_type": "stream",
          "name": "stdout",
          "text": [
            "                            OLS Regression Results                            \n",
            "==============================================================================\n",
            "Dep. Variable:           crash_return   R-squared:                       0.692\n",
            "Model:                            OLS   Adj. R-squared:                  0.691\n",
            "Method:                 Least Squares   F-statistic:                     496.6\n",
            "Date:                Sat, 06 May 2023   Prob (F-statistic):               0.00\n",
            "Time:                        07:05:38   Log-Likelihood:                 3421.7\n",
            "No. Observations:                2440   AIC:                            -6819.\n",
            "Df Residuals:                    2428   BIC:                            -6750.\n",
            "Df Model:                          11                                         \n",
            "Covariance Type:            nonrobust                                         \n",
            "========================================================================================\n",
            "                           coef    std err          t      P>|t|      [0.025      0.975]\n",
            "----------------------------------------------------------------------------------------\n",
            "const                    0.0127      0.004      3.352      0.001       0.005       0.020\n",
            "mktrf                   -0.1325      0.002    -66.503      0.000      -0.136      -0.129\n",
            "smb                     -0.0201      0.001    -15.248      0.000      -0.023      -0.018\n",
            "hml                     -0.0167      0.001    -12.720      0.000      -0.019      -0.014\n",
            "debt_to_equity_ratio    -0.0007      0.000     -2.123      0.034      -0.001   -5.02e-05\n",
            "asset_turnover_ratio    -0.0002      0.002     -0.080      0.936      -0.004       0.004\n",
            "roa                      0.0546      0.011      5.039      0.000       0.033       0.076\n",
            "roe                     -0.0061      0.004     -1.616      0.106      -0.013       0.001\n",
            "gsector_25.0             0.0038      0.004      0.939      0.348      -0.004       0.012\n",
            "gsector_40.0             0.0266      0.004      5.955      0.000       0.018       0.035\n",
            "gsector_55.0             0.0201      0.007      2.803      0.005       0.006       0.034\n",
            "gsector_60.0             0.0146      0.007      2.105      0.035       0.001       0.028\n",
            "==============================================================================\n",
            "Omnibus:                      158.621   Durbin-Watson:                   1.944\n",
            "Prob(Omnibus):                  0.000   Jarque-Bera (JB):              719.972\n",
            "Skew:                          -0.060   Prob(JB):                    4.57e-157\n",
            "Kurtosis:                       5.658   Cond. No.                         53.8\n",
            "==============================================================================\n",
            "\n",
            "Notes:\n",
            "[1] Standard Errors assume that the covariance matrix of the errors is correctly specified.\n"
          ]
        }
      ]
    },
    {
      "cell_type": "markdown",
      "source": [
        "The most important variables for 2000 crash is mktrf, smb, hml, debt_to_equity_ratio, asset_turnover_ratio, roa, roe, gsector_25.0, gsector_40.0,\n",
        "gsector_55.0, gsector_60.0 because all of them are statiscally significance."
      ],
      "metadata": {
        "id": "t4C92ff_ppiB"
      }
    },
    {
      "cell_type": "markdown",
      "source": [
        "# 04/2022 - 06/2022"
      ],
      "metadata": {
        "id": "ZHNqyg0GwfEF"
      }
    },
    {
      "cell_type": "code",
      "source": [
        "#use te correct dataset\n",
        "crsp = df_dict['crsp1822']\n",
        "crsp['date'] = pd.to_datetime(crsp['date']) \n",
        "conditioned = crsp[(crsp['date'] >= '2022-04-01') & (crsp['date'] <= '2022-06-30')]\n",
        "crash_return = conditioned.groupby('TICKER')['RET'].mean().reset_index()\n",
        "crash_return.rename(columns={'RET': 'crash_return'}, inplace=True)\n",
        "cp1 = df_dict['cp2021']\n",
        "gs = df_dict['gs2021']\n",
        "ff = df_dict['ff2021']"
      ],
      "metadata": {
        "id": "yrMVbuTzwfEO"
      },
      "execution_count": 342,
      "outputs": []
    },
    {
      "cell_type": "code",
      "source": [
        "merged_data = pd.merge(crash_return, cp1, left_on='TICKER', right_on='tic')\n",
        "merged_data = pd.merge(merged_data, gs, left_on='TICKER', right_on='tic')\n",
        "merged_data = pd.merge(merged_data, ff, left_on='TICKER', right_on='ticker')"
      ],
      "metadata": {
        "id": "9bYVWPfrwfEO"
      },
      "execution_count": 343,
      "outputs": []
    },
    {
      "cell_type": "code",
      "source": [
        "merged_data.head()"
      ],
      "metadata": {
        "colab": {
          "base_uri": "https://localhost:8080/",
          "height": 386
        },
        "outputId": "4285d1e9-b233-4ced-f49e-e9492a95381a",
        "id": "gKacpMPZwfEO"
      },
      "execution_count": 344,
      "outputs": [
        {
          "output_type": "execute_result",
          "data": {
            "text/plain": [
              "  TICKER  crash_return  gvkey_x    datadate  fyear_x indfmt consol popsrc  \\\n",
              "0      A     -0.032170   126554  2021-10-31     2021   INDL      C      D   \n",
              "1     AA     -0.198874    27638  2021-12-31     2021   INDL      C      D   \n",
              "2    AAL     -0.103296     1045  2021-12-31     2021   INDL      C      D   \n",
              "3   AAME     -0.046448    16671  2021-12-31     2021   INDL      C      D   \n",
              "4   AAOI     -0.239901    18564  2021-12-31     2021   INDL      C      D   \n",
              "\n",
              "  datafmt tic_x  ... costat  gvkey_y  fyear_y  tic_y  gsector  ticker  \\\n",
              "0     STD     A  ...      A   126554     2021      A     35.0       A   \n",
              "1     STD    AA  ...      A    27638     2021     AA     15.0      AA   \n",
              "2     STD   AAL  ...      A     1045     2021    AAL     20.0     AAL   \n",
              "3     STD  AAME  ...      A    16671     2021   AAME     40.0    AAME   \n",
              "4     STD  AAOI  ...      A    18564     2021   AAOI     45.0    AAOI   \n",
              "\n",
              "      const     mktrf       smb       hml  \n",
              "0  0.007741  1.051265 -0.164214 -0.067821  \n",
              "1  0.001037  2.142431  1.037943  1.601188  \n",
              "2 -0.023395  1.266814  0.905798  1.203338  \n",
              "3  0.002168  0.267055  0.518948  0.751587  \n",
              "4 -0.038437  1.083408  1.990239  0.069128  \n",
              "\n",
              "[5 rows x 31 columns]"
            ],
            "text/html": [
              "\n",
              "  <div id=\"df-8365fd29-bfa7-4087-9a1c-676bc76817c6\">\n",
              "    <div class=\"colab-df-container\">\n",
              "      <div>\n",
              "<style scoped>\n",
              "    .dataframe tbody tr th:only-of-type {\n",
              "        vertical-align: middle;\n",
              "    }\n",
              "\n",
              "    .dataframe tbody tr th {\n",
              "        vertical-align: top;\n",
              "    }\n",
              "\n",
              "    .dataframe thead th {\n",
              "        text-align: right;\n",
              "    }\n",
              "</style>\n",
              "<table border=\"1\" class=\"dataframe\">\n",
              "  <thead>\n",
              "    <tr style=\"text-align: right;\">\n",
              "      <th></th>\n",
              "      <th>TICKER</th>\n",
              "      <th>crash_return</th>\n",
              "      <th>gvkey_x</th>\n",
              "      <th>datadate</th>\n",
              "      <th>fyear_x</th>\n",
              "      <th>indfmt</th>\n",
              "      <th>consol</th>\n",
              "      <th>popsrc</th>\n",
              "      <th>datafmt</th>\n",
              "      <th>tic_x</th>\n",
              "      <th>...</th>\n",
              "      <th>costat</th>\n",
              "      <th>gvkey_y</th>\n",
              "      <th>fyear_y</th>\n",
              "      <th>tic_y</th>\n",
              "      <th>gsector</th>\n",
              "      <th>ticker</th>\n",
              "      <th>const</th>\n",
              "      <th>mktrf</th>\n",
              "      <th>smb</th>\n",
              "      <th>hml</th>\n",
              "    </tr>\n",
              "  </thead>\n",
              "  <tbody>\n",
              "    <tr>\n",
              "      <th>0</th>\n",
              "      <td>A</td>\n",
              "      <td>-0.032170</td>\n",
              "      <td>126554</td>\n",
              "      <td>2021-10-31</td>\n",
              "      <td>2021</td>\n",
              "      <td>INDL</td>\n",
              "      <td>C</td>\n",
              "      <td>D</td>\n",
              "      <td>STD</td>\n",
              "      <td>A</td>\n",
              "      <td>...</td>\n",
              "      <td>A</td>\n",
              "      <td>126554</td>\n",
              "      <td>2021</td>\n",
              "      <td>A</td>\n",
              "      <td>35.0</td>\n",
              "      <td>A</td>\n",
              "      <td>0.007741</td>\n",
              "      <td>1.051265</td>\n",
              "      <td>-0.164214</td>\n",
              "      <td>-0.067821</td>\n",
              "    </tr>\n",
              "    <tr>\n",
              "      <th>1</th>\n",
              "      <td>AA</td>\n",
              "      <td>-0.198874</td>\n",
              "      <td>27638</td>\n",
              "      <td>2021-12-31</td>\n",
              "      <td>2021</td>\n",
              "      <td>INDL</td>\n",
              "      <td>C</td>\n",
              "      <td>D</td>\n",
              "      <td>STD</td>\n",
              "      <td>AA</td>\n",
              "      <td>...</td>\n",
              "      <td>A</td>\n",
              "      <td>27638</td>\n",
              "      <td>2021</td>\n",
              "      <td>AA</td>\n",
              "      <td>15.0</td>\n",
              "      <td>AA</td>\n",
              "      <td>0.001037</td>\n",
              "      <td>2.142431</td>\n",
              "      <td>1.037943</td>\n",
              "      <td>1.601188</td>\n",
              "    </tr>\n",
              "    <tr>\n",
              "      <th>2</th>\n",
              "      <td>AAL</td>\n",
              "      <td>-0.103296</td>\n",
              "      <td>1045</td>\n",
              "      <td>2021-12-31</td>\n",
              "      <td>2021</td>\n",
              "      <td>INDL</td>\n",
              "      <td>C</td>\n",
              "      <td>D</td>\n",
              "      <td>STD</td>\n",
              "      <td>AAL</td>\n",
              "      <td>...</td>\n",
              "      <td>A</td>\n",
              "      <td>1045</td>\n",
              "      <td>2021</td>\n",
              "      <td>AAL</td>\n",
              "      <td>20.0</td>\n",
              "      <td>AAL</td>\n",
              "      <td>-0.023395</td>\n",
              "      <td>1.266814</td>\n",
              "      <td>0.905798</td>\n",
              "      <td>1.203338</td>\n",
              "    </tr>\n",
              "    <tr>\n",
              "      <th>3</th>\n",
              "      <td>AAME</td>\n",
              "      <td>-0.046448</td>\n",
              "      <td>16671</td>\n",
              "      <td>2021-12-31</td>\n",
              "      <td>2021</td>\n",
              "      <td>INDL</td>\n",
              "      <td>C</td>\n",
              "      <td>D</td>\n",
              "      <td>STD</td>\n",
              "      <td>AAME</td>\n",
              "      <td>...</td>\n",
              "      <td>A</td>\n",
              "      <td>16671</td>\n",
              "      <td>2021</td>\n",
              "      <td>AAME</td>\n",
              "      <td>40.0</td>\n",
              "      <td>AAME</td>\n",
              "      <td>0.002168</td>\n",
              "      <td>0.267055</td>\n",
              "      <td>0.518948</td>\n",
              "      <td>0.751587</td>\n",
              "    </tr>\n",
              "    <tr>\n",
              "      <th>4</th>\n",
              "      <td>AAOI</td>\n",
              "      <td>-0.239901</td>\n",
              "      <td>18564</td>\n",
              "      <td>2021-12-31</td>\n",
              "      <td>2021</td>\n",
              "      <td>INDL</td>\n",
              "      <td>C</td>\n",
              "      <td>D</td>\n",
              "      <td>STD</td>\n",
              "      <td>AAOI</td>\n",
              "      <td>...</td>\n",
              "      <td>A</td>\n",
              "      <td>18564</td>\n",
              "      <td>2021</td>\n",
              "      <td>AAOI</td>\n",
              "      <td>45.0</td>\n",
              "      <td>AAOI</td>\n",
              "      <td>-0.038437</td>\n",
              "      <td>1.083408</td>\n",
              "      <td>1.990239</td>\n",
              "      <td>0.069128</td>\n",
              "    </tr>\n",
              "  </tbody>\n",
              "</table>\n",
              "<p>5 rows × 31 columns</p>\n",
              "</div>\n",
              "      <button class=\"colab-df-convert\" onclick=\"convertToInteractive('df-8365fd29-bfa7-4087-9a1c-676bc76817c6')\"\n",
              "              title=\"Convert this dataframe to an interactive table.\"\n",
              "              style=\"display:none;\">\n",
              "        \n",
              "  <svg xmlns=\"http://www.w3.org/2000/svg\" height=\"24px\"viewBox=\"0 0 24 24\"\n",
              "       width=\"24px\">\n",
              "    <path d=\"M0 0h24v24H0V0z\" fill=\"none\"/>\n",
              "    <path d=\"M18.56 5.44l.94 2.06.94-2.06 2.06-.94-2.06-.94-.94-2.06-.94 2.06-2.06.94zm-11 1L8.5 8.5l.94-2.06 2.06-.94-2.06-.94L8.5 2.5l-.94 2.06-2.06.94zm10 10l.94 2.06.94-2.06 2.06-.94-2.06-.94-.94-2.06-.94 2.06-2.06.94z\"/><path d=\"M17.41 7.96l-1.37-1.37c-.4-.4-.92-.59-1.43-.59-.52 0-1.04.2-1.43.59L10.3 9.45l-7.72 7.72c-.78.78-.78 2.05 0 2.83L4 21.41c.39.39.9.59 1.41.59.51 0 1.02-.2 1.41-.59l7.78-7.78 2.81-2.81c.8-.78.8-2.07 0-2.86zM5.41 20L4 18.59l7.72-7.72 1.47 1.35L5.41 20z\"/>\n",
              "  </svg>\n",
              "      </button>\n",
              "      \n",
              "  <style>\n",
              "    .colab-df-container {\n",
              "      display:flex;\n",
              "      flex-wrap:wrap;\n",
              "      gap: 12px;\n",
              "    }\n",
              "\n",
              "    .colab-df-convert {\n",
              "      background-color: #E8F0FE;\n",
              "      border: none;\n",
              "      border-radius: 50%;\n",
              "      cursor: pointer;\n",
              "      display: none;\n",
              "      fill: #1967D2;\n",
              "      height: 32px;\n",
              "      padding: 0 0 0 0;\n",
              "      width: 32px;\n",
              "    }\n",
              "\n",
              "    .colab-df-convert:hover {\n",
              "      background-color: #E2EBFA;\n",
              "      box-shadow: 0px 1px 2px rgba(60, 64, 67, 0.3), 0px 1px 3px 1px rgba(60, 64, 67, 0.15);\n",
              "      fill: #174EA6;\n",
              "    }\n",
              "\n",
              "    [theme=dark] .colab-df-convert {\n",
              "      background-color: #3B4455;\n",
              "      fill: #D2E3FC;\n",
              "    }\n",
              "\n",
              "    [theme=dark] .colab-df-convert:hover {\n",
              "      background-color: #434B5C;\n",
              "      box-shadow: 0px 1px 3px 1px rgba(0, 0, 0, 0.15);\n",
              "      filter: drop-shadow(0px 1px 2px rgba(0, 0, 0, 0.3));\n",
              "      fill: #FFFFFF;\n",
              "    }\n",
              "  </style>\n",
              "\n",
              "      <script>\n",
              "        const buttonEl =\n",
              "          document.querySelector('#df-8365fd29-bfa7-4087-9a1c-676bc76817c6 button.colab-df-convert');\n",
              "        buttonEl.style.display =\n",
              "          google.colab.kernel.accessAllowed ? 'block' : 'none';\n",
              "\n",
              "        async function convertToInteractive(key) {\n",
              "          const element = document.querySelector('#df-8365fd29-bfa7-4087-9a1c-676bc76817c6');\n",
              "          const dataTable =\n",
              "            await google.colab.kernel.invokeFunction('convertToInteractive',\n",
              "                                                     [key], {});\n",
              "          if (!dataTable) return;\n",
              "\n",
              "          const docLinkHtml = 'Like what you see? Visit the ' +\n",
              "            '<a target=\"_blank\" href=https://colab.research.google.com/notebooks/data_table.ipynb>data table notebook</a>'\n",
              "            + ' to learn more about interactive tables.';\n",
              "          element.innerHTML = '';\n",
              "          dataTable['output_type'] = 'display_data';\n",
              "          await google.colab.output.renderOutput(dataTable, element);\n",
              "          const docLink = document.createElement('div');\n",
              "          docLink.innerHTML = docLinkHtml;\n",
              "          element.appendChild(docLink);\n",
              "        }\n",
              "      </script>\n",
              "    </div>\n",
              "  </div>\n",
              "  "
            ]
          },
          "metadata": {},
          "execution_count": 344
        }
      ]
    },
    {
      "cell_type": "code",
      "source": [
        "merged_data.isnull().sum()"
      ],
      "metadata": {
        "colab": {
          "base_uri": "https://localhost:8080/"
        },
        "outputId": "00a39759-00b3-4b2a-ae54-901e4df21d6d",
        "id": "AmYnbIFpwfEO"
      },
      "execution_count": 345,
      "outputs": [
        {
          "output_type": "execute_result",
          "data": {
            "text/plain": [
              "TICKER            0\n",
              "crash_return      0\n",
              "gvkey_x           0\n",
              "datadate          0\n",
              "fyear_x           0\n",
              "indfmt            0\n",
              "consol            0\n",
              "popsrc            0\n",
              "datafmt           0\n",
              "tic_x             0\n",
              "curcd             0\n",
              "act             694\n",
              "at                0\n",
              "che               0\n",
              "cogs              0\n",
              "dltt             10\n",
              "lct             692\n",
              "lt                9\n",
              "ni                0\n",
              "re               70\n",
              "sale              0\n",
              "costat            0\n",
              "gvkey_y           0\n",
              "fyear_y           0\n",
              "tic_y             0\n",
              "gsector           1\n",
              "ticker            0\n",
              "const             0\n",
              "mktrf             0\n",
              "smb               0\n",
              "hml               0\n",
              "dtype: int64"
            ]
          },
          "metadata": {},
          "execution_count": 345
        }
      ]
    },
    {
      "cell_type": "code",
      "source": [
        "# Calculate the number of null values in each column\n",
        "null_counts = merged_data.isnull().sum()\n",
        "\n",
        "# Create a bar chart to visualize the null values\n",
        "plt.figure(figsize=(10, 5))\n",
        "plt.bar(null_counts.index, null_counts.values)\n",
        "plt.title('Null Values in DataFrame')\n",
        "plt.xlabel('Columns')\n",
        "plt.ylabel('Count')\n",
        "plt.show()"
      ],
      "metadata": {
        "colab": {
          "base_uri": "https://localhost:8080/",
          "height": 368
        },
        "outputId": "853b1812-500e-47f0-ab91-ca47f4abe735",
        "id": "cpT3i4eXwfEO"
      },
      "execution_count": 346,
      "outputs": [
        {
          "output_type": "display_data",
          "data": {
            "text/plain": [
              "<Figure size 1000x500 with 1 Axes>"
            ],
            "image/png": "[encoded data removed]"
          },
          "metadata": {}
        }
      ]
    },
    {
      "cell_type": "code",
      "source": [
        "merged_data.drop(columns=['tic_x', 'tic_y', 'ticker'], inplace=True)"
      ],
      "metadata": {
        "id": "y-Q40eeuwfEO"
      },
      "execution_count": 347,
      "outputs": []
    },
    {
      "cell_type": "code",
      "source": [
        "for_reg = pd.get_dummies(merged_data, columns=['gsector'])\n",
        "for_reg.columns"
      ],
      "metadata": {
        "colab": {
          "base_uri": "https://localhost:8080/"
        },
        "outputId": "5c5de238-2c26-4f55-dbda-6606c8c62594",
        "id": "GzlNs7_pwfEO"
      },
      "execution_count": 348,
      "outputs": [
        {
          "output_type": "execute_result",
          "data": {
            "text/plain": [
              "Index(['TICKER', 'crash_return', 'gvkey_x', 'datadate', 'fyear_x', 'indfmt',\n",
              "       'consol', 'popsrc', 'datafmt', 'curcd', 'act', 'at', 'che', 'cogs',\n",
              "       'dltt', 'lct', 'lt', 'ni', 're', 'sale', 'costat', 'gvkey_y', 'fyear_y',\n",
              "       'const', 'mktrf', 'smb', 'hml', 'gsector_10.0', 'gsector_15.0',\n",
              "       'gsector_20.0', 'gsector_25.0', 'gsector_30.0', 'gsector_35.0',\n",
              "       'gsector_40.0', 'gsector_45.0', 'gsector_50.0', 'gsector_55.0',\n",
              "       'gsector_60.0'],\n",
              "      dtype='object')"
            ]
          },
          "metadata": {},
          "execution_count": 348
        }
      ]
    },
    {
      "cell_type": "code",
      "source": [
        "def ols_missing(for_reg, target):\n",
        "    for_reg = for_reg.drop(columns=['TICKER', 'crash_return', 'gvkey_x', 'datadate', 'fyear_x', 'indfmt',\n",
        "                                     'consol', 'popsrc', 'datafmt', 'curcd', 'costat', 'gvkey_y', 'fyear_y',\n",
        "                                     'const', 'mktrf', 'smb', 'hml'])\n",
        "\n",
        "    clean = for_reg.dropna(subset=[target])\n",
        "    with_null = for_reg[for_reg[target].isnull()]\n",
        "\n",
        "    col_list = clean.columns\n",
        "    temp = []\n",
        "    for i in col_list:\n",
        "        if i not in ['act', 'lt', 'dltt', 'lct', 're']:\n",
        "            temp.append(i)\n",
        "\n",
        "    x = clean[temp]\n",
        "    y = clean[target]\n",
        "\n",
        "    x = sm.add_constant(x)\n",
        "\n",
        "    model = sm.OLS(y, x).fit()\n",
        "\n",
        "    X_missing = sm.add_constant(with_null[temp], has_constant='add')\n",
        "\n",
        "    temp = model.predict(X_missing)\n",
        "    with_null.loc[:, target] = temp\n",
        "\n",
        "    df_filled = pd.concat([clean, with_null]).sort_index()\n",
        "    return df_filled\n"
      ],
      "metadata": {
        "id": "BZQFaCzQwfEO"
      },
      "execution_count": 349,
      "outputs": []
    },
    {
      "cell_type": "code",
      "source": [
        "pd.options.mode.chained_assignment = None\n",
        "\n",
        "#impute missing data\n",
        "temp = ols_missing(for_reg, 'act')\n",
        "merged_data['act'] = temp['act']\n",
        "temp = ols_missing(for_reg, 'cogs')\n",
        "merged_data['cogs'] = temp['cogs']\n",
        "temp = ols_missing(for_reg, 'dltt')\n",
        "merged_data['dltt'] = temp['dltt']\n",
        "temp = ols_missing(for_reg, 'lct')\n",
        "merged_data['lct'] = temp['lct']\n",
        "temp = ols_missing(for_reg, 're')\n",
        "merged_data['re'] = temp['re']"
      ],
      "metadata": {
        "id": "qiNzVJhVwfEP"
      },
      "execution_count": 351,
      "outputs": []
    },
    {
      "cell_type": "code",
      "source": [
        "from scipy.stats.mstats import winsorize\n",
        "\n",
        "#financial ratios\n",
        "merged_data['debt_to_equity_ratio'] = (merged_data['dltt'] + (merged_data['lt'] - merged_data['lct']))/ (merged_data['at'] - merged_data['lt'])\n",
        "merged_data['current_ratio'] = merged_data['act'] / merged_data['lct']\n",
        "merged_data['gross_profit'] = (merged_data['sale'] - merged_data['cogs'])/ merged_data['sale']\n",
        "merged_data['asset_turnover_ratio'] = merged_data['sale']/merged_data['at']\n",
        "merged_data['roa'] = merged_data['ni']/merged_data['at']\n",
        "merged_data['roe'] = merged_data['ni']/(merged_data['at'] - merged_data['lt'])\n",
        "merged_data['net_profit_margin'] = merged_data['ni']/merged_data['sale']\n",
        "\n",
        "#winsorize\n",
        "merged_data['debt_to_equity_ratio'] = winsorize(merged_data['debt_to_equity_ratio'], limits=(0.01, 0.01))\n",
        "merged_data['current_ratio'] = winsorize(merged_data['current_ratio'], limits=(0.01, 0.01))\n",
        "merged_data['gross_profit'] = winsorize(merged_data['gross_profit'], limits=(0.01, 0.01))\n",
        "merged_data['asset_turnover_ratio'] = winsorize(merged_data['asset_turnover_ratio'], limits=(0.01, 0.01))\n",
        "merged_data['roa'] = winsorize(merged_data['roa'], limits=(0.01, 0.01))\n",
        "merged_data['roe'] = winsorize(merged_data['roe'], limits=(0.01, 0.01))\n",
        "merged_data['net_profit_margin'] = winsorize(merged_data['net_profit_margin'], limits=(0.01, 0.01))"
      ],
      "metadata": {
        "id": "DBZqdiGSwfEP"
      },
      "execution_count": 352,
      "outputs": []
    },
    {
      "cell_type": "code",
      "source": [
        "#drop null data\n",
        "merged_data = merged_data[np.isfinite(merged_data['debt_to_equity_ratio']) \n",
        "                        & np.isfinite(merged_data['current_ratio']) \n",
        "                        & np.isfinite(merged_data['gross_profit'])\n",
        "                        & np.isfinite(merged_data['asset_turnover_ratio'])\n",
        "                        & np.isfinite(merged_data['roa'])\n",
        "                        & np.isfinite(merged_data['roe'])\n",
        "                        & np.isfinite(merged_data['net_profit_margin'])]"
      ],
      "metadata": {
        "id": "FjuP7jmfwfEP"
      },
      "execution_count": 353,
      "outputs": []
    },
    {
      "cell_type": "code",
      "source": [
        "merged_data = pd.get_dummies(merged_data, columns=['gsector'])\n",
        "merged_data.columns"
      ],
      "metadata": {
        "colab": {
          "base_uri": "https://localhost:8080/"
        },
        "outputId": "c925c7aa-edc6-48ac-90bc-7198a52569ae",
        "id": "awAcyBWNwfEP"
      },
      "execution_count": 354,
      "outputs": [
        {
          "output_type": "execute_result",
          "data": {
            "text/plain": [
              "Index(['TICKER', 'crash_return', 'gvkey_x', 'datadate', 'fyear_x', 'indfmt',\n",
              "       'consol', 'popsrc', 'datafmt', 'curcd', 'act', 'at', 'che', 'cogs',\n",
              "       'dltt', 'lct', 'lt', 'ni', 're', 'sale', 'costat', 'gvkey_y', 'fyear_y',\n",
              "       'const', 'mktrf', 'smb', 'hml', 'debt_to_equity_ratio', 'current_ratio',\n",
              "       'gross_profit', 'asset_turnover_ratio', 'roa', 'roe',\n",
              "       'net_profit_margin', 'gsector_10.0', 'gsector_15.0', 'gsector_20.0',\n",
              "       'gsector_25.0', 'gsector_30.0', 'gsector_35.0', 'gsector_40.0',\n",
              "       'gsector_45.0', 'gsector_50.0', 'gsector_55.0', 'gsector_60.0'],\n",
              "      dtype='object')"
            ]
          },
          "metadata": {},
          "execution_count": 354
        }
      ]
    },
    {
      "cell_type": "markdown",
      "source": [
        "### 1. Ratio"
      ],
      "metadata": {
        "id": "V5tohWVIwfEP"
      }
    },
    {
      "cell_type": "code",
      "source": [
        "#define the independent variables\n",
        "X = merged_data[['debt_to_equity_ratio', 'gross_profit', 'current_ratio',\n",
        "                  'asset_turnover_ratio','roa', 'roe', 'net_profit_margin']]\n",
        "X = sm.add_constant(X)\n",
        "\n",
        "#define the dependent variable\n",
        "y = merged_data['crash_return']\n",
        "\n",
        "#fit the linear regression model\n",
        "model = sm.OLS(y, X).fit()\n",
        "print(model.summary())"
      ],
      "metadata": {
        "colab": {
          "base_uri": "https://localhost:8080/"
        },
        "outputId": "449d467c-8a37-4233-d844-1aa6d9359a60",
        "id": "OLPVkXCpwfEP"
      },
      "execution_count": 355,
      "outputs": [
        {
          "output_type": "stream",
          "name": "stdout",
          "text": [
            "                            OLS Regression Results                            \n",
            "==============================================================================\n",
            "Dep. Variable:           crash_return   R-squared:                       0.054\n",
            "Model:                            OLS   Adj. R-squared:                  0.052\n",
            "Method:                 Least Squares   F-statistic:                     24.64\n",
            "Date:                Sat, 06 May 2023   Prob (F-statistic):           7.15e-33\n",
            "Time:                        07:10:02   Log-Likelihood:                 3553.0\n",
            "No. Observations:                3026   AIC:                            -7090.\n",
            "Df Residuals:                    3018   BIC:                            -7042.\n",
            "Df Model:                           7                                         \n",
            "Covariance Type:            nonrobust                                         \n",
            "========================================================================================\n",
            "                           coef    std err          t      P>|t|      [0.025      0.975]\n",
            "----------------------------------------------------------------------------------------\n",
            "const                   -0.0527      0.002    -21.614      0.000      -0.058      -0.048\n",
            "debt_to_equity_ratio    -0.0002      0.000     -1.968      0.049      -0.000   -8.06e-07\n",
            "gross_profit            -0.0007      0.001     -0.974      0.330      -0.002       0.001\n",
            "current_ratio           -0.0012      0.000     -2.354      0.019      -0.002      -0.000\n",
            "asset_turnover_ratio    -0.0029      0.002     -1.164      0.244      -0.008       0.002\n",
            "roa                      0.0868      0.010      8.347      0.000       0.066       0.107\n",
            "roe                      0.0075      0.002      3.696      0.000       0.004       0.012\n",
            "net_profit_margin       -0.0001      0.000     -0.341      0.733      -0.001       0.001\n",
            "==============================================================================\n",
            "Omnibus:                      508.756   Durbin-Watson:                   2.013\n",
            "Prob(Omnibus):                  0.000   Jarque-Bera (JB):             7436.241\n",
            "Skew:                           0.326   Prob(JB):                         0.00\n",
            "Kurtosis:                      10.652   Cond. No.                         88.5\n",
            "==============================================================================\n",
            "\n",
            "Notes:\n",
            "[1] Standard Errors assume that the covariance matrix of the errors is correctly specified.\n"
          ]
        }
      ]
    },
    {
      "cell_type": "markdown",
      "source": [
        "The adjusted R-squared value is 0.052, which is slightly lower than the R-squared value. The model explains approximately 5.2% of the variation in crash_return after adjusting for the number of independent variables.\n",
        "\n",
        "The significant coefficients in the model are:\n",
        "\n",
        "const: The coefficient of -0.0527 indicates the expected crash_return when all independent variables are equal to zero.\n",
        "\n",
        "debt_to_equity_ratio: The coefficient of -0.0002 indicates that for a 1 unit increase in debt_to_equity_ratio, the crash_return is expected to decrease by 0.0002 units.\n",
        "\n",
        "current_ratio: The coefficient of -0.0012 indicates that for a 1 unit increase in current_ratio, the crash_return is expected to decrease by 0.0012 units.\n",
        "\n",
        "roa: The coefficient of 0.0868 indicates that for a 1 unit increase in roa, the crash_return is expected to increase by 0.0868 units.\n",
        "\n",
        "roe: The coefficient of 0.0075 indicates that for a 1 unit increase in roe, the crash_return is expected to increase by 0.0075 units."
      ],
      "metadata": {
        "id": "ikvlyGWKwfEP"
      }
    },
    {
      "cell_type": "markdown",
      "source": [
        "### 2. 3-factor risk"
      ],
      "metadata": {
        "id": "sPM9SxNawfEP"
      }
    },
    {
      "cell_type": "code",
      "source": [
        "#define the independent variables\n",
        "X = merged_data[['mktrf', 'smb', 'hml']]\n",
        "X = sm.add_constant(X)\n",
        "\n",
        "#define the dependent variable\n",
        "y = merged_data['crash_return']\n",
        "\n",
        "#fit the linear regression model\n",
        "model = sm.OLS(y, X).fit()\n",
        "print(model.summary())"
      ],
      "metadata": {
        "colab": {
          "base_uri": "https://localhost:8080/"
        },
        "outputId": "69e8acea-99c5-44ea-8648-c09e967a44ff",
        "id": "Zj-6WECvwfEP"
      },
      "execution_count": 356,
      "outputs": [
        {
          "output_type": "stream",
          "name": "stdout",
          "text": [
            "                            OLS Regression Results                            \n",
            "==============================================================================\n",
            "Dep. Variable:           crash_return   R-squared:                       0.207\n",
            "Model:                            OLS   Adj. R-squared:                  0.206\n",
            "Method:                 Least Squares   F-statistic:                     262.3\n",
            "Date:                Sat, 06 May 2023   Prob (F-statistic):          2.75e-151\n",
            "Time:                        07:10:03   Log-Likelihood:                 3819.1\n",
            "No. Observations:                3026   AIC:                            -7630.\n",
            "Df Residuals:                    3022   BIC:                            -7606.\n",
            "Df Model:                           3                                         \n",
            "Covariance Type:            nonrobust                                         \n",
            "==============================================================================\n",
            "                 coef    std err          t      P>|t|      [0.025      0.975]\n",
            "------------------------------------------------------------------------------\n",
            "const         -0.0070      0.003     -2.625      0.009      -0.012      -0.002\n",
            "mktrf         -0.0491      0.002    -22.090      0.000      -0.053      -0.045\n",
            "smb           -0.0130      0.001    -14.784      0.000      -0.015      -0.011\n",
            "hml            0.0308      0.002     17.179      0.000       0.027       0.034\n",
            "==============================================================================\n",
            "Omnibus:                      488.178   Durbin-Watson:                   2.035\n",
            "Prob(Omnibus):                  0.000   Jarque-Bera (JB):             6859.814\n",
            "Skew:                           0.294   Prob(JB):                         0.00\n",
            "Kurtosis:                      10.353   Cond. No.                         5.21\n",
            "==============================================================================\n",
            "\n",
            "Notes:\n",
            "[1] Standard Errors assume that the covariance matrix of the errors is correctly specified.\n"
          ]
        }
      ]
    },
    {
      "cell_type": "markdown",
      "source": [
        "The adjusted R-squared value is 0.206, which indicates that 20.6% of the variance in the crash_return can be explained by the independent variables in this model. This is relatively high, which means the model fits the data well.\n",
        "\n",
        "The significant coefficients in the model are:\n",
        "\n",
        "const: The coefficient of -0.007 indicates the expected crash_return when all independent variables are equal to zero.\n",
        "\n",
        "mktrf: The coefficient of -0.0491 indicates that for a 1 unit increase in mktrf, the crash_return is expected to decrease by 0.0491 units.\n",
        "\n",
        "smb: The coefficient of -0.0130 indicates that for a 1 unit increase in smb, the crash_return is expected to decrease by 0.0130 units.\n",
        "\n",
        "hml: The coefficient of 0.0308 indicates that for a 1 unit increase in hml, the crash_return is expected to increase by 0.0308 units."
      ],
      "metadata": {
        "id": "xhSIHXkIwfEP"
      }
    },
    {
      "cell_type": "markdown",
      "source": [
        "###3. Industry categorical"
      ],
      "metadata": {
        "id": "j4KehP_mwfEP"
      }
    },
    {
      "cell_type": "code",
      "source": [
        "#define the independent variables\n",
        "X = merged_data[['gsector_15.0', 'gsector_20.0',\n",
        "       'gsector_25.0', 'gsector_30.0', 'gsector_35.0', 'gsector_40.0',\n",
        "       'gsector_45.0', 'gsector_50.0', 'gsector_55.0', 'gsector_60.0']]\n",
        "X = sm.add_constant(X)\n",
        "\n",
        "#define the dependent variable\n",
        "y = merged_data['crash_return']\n",
        "\n",
        "#fit the linear regression model\n",
        "model = sm.OLS(y, X).fit()\n",
        "print(model.summary())"
      ],
      "metadata": {
        "colab": {
          "base_uri": "https://localhost:8080/"
        },
        "outputId": "75b220b8-636d-4de9-d6bc-5f39f788d3a2",
        "id": "v245JiZ_wfEP"
      },
      "execution_count": 357,
      "outputs": [
        {
          "output_type": "stream",
          "name": "stdout",
          "text": [
            "                            OLS Regression Results                            \n",
            "==============================================================================\n",
            "Dep. Variable:           crash_return   R-squared:                       0.052\n",
            "Model:                            OLS   Adj. R-squared:                  0.049\n",
            "Method:                 Least Squares   F-statistic:                     16.69\n",
            "Date:                Sat, 06 May 2023   Prob (F-statistic):           9.19e-30\n",
            "Time:                        07:10:03   Log-Likelihood:                 3550.5\n",
            "No. Observations:                3026   AIC:                            -7079.\n",
            "Df Residuals:                    3015   BIC:                            -7013.\n",
            "Df Model:                          10                                         \n",
            "Covariance Type:            nonrobust                                         \n",
            "================================================================================\n",
            "                   coef    std err          t      P>|t|      [0.025      0.975]\n",
            "--------------------------------------------------------------------------------\n",
            "const           -0.0249      0.006     -4.506      0.000      -0.036      -0.014\n",
            "gsector_15.0    -0.0507      0.008     -6.339      0.000      -0.066      -0.035\n",
            "gsector_20.0    -0.0279      0.007     -4.226      0.000      -0.041      -0.015\n",
            "gsector_25.0    -0.0403      0.007     -5.870      0.000      -0.054      -0.027\n",
            "gsector_30.0    -0.0019      0.009     -0.225      0.822      -0.019       0.015\n",
            "gsector_35.0    -0.0497      0.007     -7.585      0.000      -0.063      -0.037\n",
            "gsector_40.0    -0.0169      0.006     -2.653      0.008      -0.029      -0.004\n",
            "gsector_45.0    -0.0471      0.007     -6.983      0.000      -0.060      -0.034\n",
            "gsector_50.0    -0.0465      0.009     -5.380      0.000      -0.064      -0.030\n",
            "gsector_55.0     0.0087      0.010      0.869      0.385      -0.011       0.028\n",
            "gsector_60.0    -0.0436      0.008     -5.404      0.000      -0.059      -0.028\n",
            "==============================================================================\n",
            "Omnibus:                      422.705   Durbin-Watson:                   2.009\n",
            "Prob(Omnibus):                  0.000   Jarque-Bera (JB):             5684.428\n",
            "Skew:                          -0.075   Prob(JB):                         0.00\n",
            "Kurtosis:                       9.713   Cond. No.                         14.8\n",
            "==============================================================================\n",
            "\n",
            "Notes:\n",
            "[1] Standard Errors assume that the covariance matrix of the errors is correctly specified.\n"
          ]
        }
      ]
    },
    {
      "cell_type": "markdown",
      "source": [
        "The adjusted R-squared value is 0.049, which is close to the R-squared value. The model explains approximately 4.9% of the variation in crash_return after adjusting for the number of independent variables.\n",
        "\n",
        "All the industry sector coefficients (gsector_15.0, gsector_20.0, gsector_25.0, gsector_35.0, gsector_40.0, gsector_45.0, gsector_50.0, and gsector_60.0) have p-values less than 0.05, which means that these sectors are significantly related to the crash return. However, gsector_30.0 and gsector_55.0 have p-values greater than 0.05, indicating that these sectors are not significantly related to the crash return."
      ],
      "metadata": {
        "id": "arjM-JTwwfEQ"
      }
    },
    {
      "cell_type": "markdown",
      "source": [
        "### 1&2"
      ],
      "metadata": {
        "id": "WEBU8dcawfEQ"
      }
    },
    {
      "cell_type": "code",
      "source": [
        "#define the independent variables\n",
        "X = merged_data[['debt_to_equity_ratio', 'gross_profit', 'current_ratio',\n",
        "                 'asset_turnover_ratio','roa', 'roe', 'net_profit_margin',\n",
        "                 'mktrf', 'smb', 'hml']]\n",
        "X = sm.add_constant(X)\n",
        "\n",
        "#define the dependent variable\n",
        "y = merged_data['crash_return']\n",
        "\n",
        "#fit the linear regression model\n",
        "model = sm.OLS(y, X).fit()\n",
        "print(model.summary())"
      ],
      "metadata": {
        "colab": {
          "base_uri": "https://localhost:8080/"
        },
        "outputId": "0a7ce797-9c23-4a0a-df29-68d0ba3463d6",
        "id": "f4iOeRjxwfEQ"
      },
      "execution_count": 358,
      "outputs": [
        {
          "output_type": "stream",
          "name": "stdout",
          "text": [
            "                            OLS Regression Results                            \n",
            "==============================================================================\n",
            "Dep. Variable:           crash_return   R-squared:                       0.226\n",
            "Model:                            OLS   Adj. R-squared:                  0.223\n",
            "Method:                 Least Squares   F-statistic:                     88.07\n",
            "Date:                Sat, 06 May 2023   Prob (F-statistic):          9.56e-160\n",
            "Time:                        07:10:04   Log-Likelihood:                 3856.7\n",
            "No. Observations:                3026   AIC:                            -7691.\n",
            "Df Residuals:                    3015   BIC:                            -7625.\n",
            "Df Model:                          10                                         \n",
            "Covariance Type:            nonrobust                                         \n",
            "========================================================================================\n",
            "                           coef    std err          t      P>|t|      [0.025      0.975]\n",
            "----------------------------------------------------------------------------------------\n",
            "const                   -0.0137      0.003     -4.354      0.000      -0.020      -0.008\n",
            "debt_to_equity_ratio  2.218e-05      0.000      0.204      0.838      -0.000       0.000\n",
            "gross_profit            -0.0013      0.001     -2.071      0.038      -0.003   -7.01e-05\n",
            "current_ratio            0.0011      0.000      2.225      0.026       0.000       0.002\n",
            "asset_turnover_ratio     0.0056      0.002      2.442      0.015       0.001       0.010\n",
            "roa                      0.0475      0.010      4.843      0.000       0.028       0.067\n",
            "roe                      0.0049      0.002      2.649      0.008       0.001       0.008\n",
            "net_profit_margin       -0.0002      0.000     -0.537      0.591      -0.001       0.001\n",
            "mktrf                   -0.0495      0.002    -22.128      0.000      -0.054      -0.045\n",
            "smb                     -0.0121      0.001    -12.596      0.000      -0.014      -0.010\n",
            "hml                      0.0300      0.002     15.402      0.000       0.026       0.034\n",
            "==============================================================================\n",
            "Omnibus:                      619.850   Durbin-Watson:                   2.050\n",
            "Prob(Omnibus):                  0.000   Jarque-Bera (JB):             8651.803\n",
            "Skew:                           0.566   Prob(JB):                         0.00\n",
            "Kurtosis:                      11.206   Cond. No.                         92.4\n",
            "==============================================================================\n",
            "\n",
            "Notes:\n",
            "[1] Standard Errors assume that the covariance matrix of the errors is correctly specified.\n"
          ]
        }
      ]
    },
    {
      "cell_type": "markdown",
      "source": [
        "The adjusted R-squared value is 0.223. The model explains approximately 22.3% of the variation in crash_return after adjusting for the number of independent variables.\n",
        "\n",
        "The significant coefficients are those with a p-value less than 0.05. These include:\n",
        "\n",
        "const: with a t-statistic of -4.354 and a p-value of 0.000, this constant term is significant. It represents the intercept of the model, the expected crash return when all other independent variables are zero.\n",
        "\n",
        "gross_profit: with a t-statistic of -2.071 and a p-value of 0.038, this variable is significant. It suggests that an increase in the gross profit of the company is associated with a decrease in the crash return.\n",
        "\n",
        "current_ratio: with a t-statistic of 2.225 and a p-value of 0.026, this variable is significant. It suggests that an increase in the current ratio of the company is associated with an increase in the crash return.\n",
        "\n",
        "asset_turnover_ratio: with a t-statistic of 2.442 and a p-value of 0.015, this variable is significant. It suggests that an increase in the asset turnover ratio of the company is associated with an increase in the crash return.\n",
        "\n",
        "roa: with a t-statistic of 4.843 and a p-value of 0.000, this variable is significant. It suggests that an increase in the return on assets of the company is associated with an increase in the crash return.\n",
        "\n",
        "roe: with a t-statistic of 2.649 and a p-value of 0.008, this variable is significant. It suggests that an increase in the return on equity of the company is associated with an increase in the crash return.\n",
        "\n",
        "mktrf: with a t-statistic of -22.128 and a p-value of 0.000, this variable is significant. It represents the market risk factor and suggests that an increase in the market risk factor is associated with a decrease in the crash return.\n",
        "\n",
        "smb: with a t-statistic of -12.596 and a p-value of 0.000, this variable is significant. It represents the small minus big factor and suggests that an increase in the small minus big factor is associated with a decrease in the crash return.\n",
        "\n",
        "hml: with a t-statistic of 15.402 and a p-value of 0.000, this variable is significant. It represents the high minus low factor and suggests that an increase in the high minus low factor is associated with an increase in the crash return."
      ],
      "metadata": {
        "id": "bmGPJNnvwfEQ"
      }
    },
    {
      "cell_type": "markdown",
      "source": [
        "### 2&3"
      ],
      "metadata": {
        "id": "5vbPMf23wfEQ"
      }
    },
    {
      "cell_type": "code",
      "source": [
        "#define the independent variables\n",
        "X = merged_data[['mktrf', 'smb', 'hml','gsector_15.0', 'gsector_20.0',\n",
        "       'gsector_25.0', 'gsector_30.0', 'gsector_35.0', 'gsector_40.0',\n",
        "       'gsector_45.0', 'gsector_50.0', 'gsector_55.0', 'gsector_60.0']]\n",
        "X = sm.add_constant(X)\n",
        "\n",
        "#define the dependent variable\n",
        "y = merged_data['crash_return']\n",
        "\n",
        "#fit the linear regression model\n",
        "model = sm.OLS(y, X).fit()\n",
        "print(model.summary())"
      ],
      "metadata": {
        "colab": {
          "base_uri": "https://localhost:8080/"
        },
        "outputId": "f4bddf4d-f736-4890-c46a-eb0d6826107e",
        "id": "O0dGGczkwfEQ"
      },
      "execution_count": 359,
      "outputs": [
        {
          "output_type": "stream",
          "name": "stdout",
          "text": [
            "                            OLS Regression Results                            \n",
            "==============================================================================\n",
            "Dep. Variable:           crash_return   R-squared:                       0.227\n",
            "Model:                            OLS   Adj. R-squared:                  0.223\n",
            "Method:                 Least Squares   F-statistic:                     67.96\n",
            "Date:                Sat, 06 May 2023   Prob (F-statistic):          1.79e-157\n",
            "Time:                        07:10:05   Log-Likelihood:                 3858.1\n",
            "No. Observations:                3026   AIC:                            -7688.\n",
            "Df Residuals:                    3012   BIC:                            -7604.\n",
            "Df Model:                          13                                         \n",
            "Covariance Type:            nonrobust                                         \n",
            "================================================================================\n",
            "                   coef    std err          t      P>|t|      [0.025      0.975]\n",
            "--------------------------------------------------------------------------------\n",
            "const            0.0222      0.006      3.491      0.000       0.010       0.035\n",
            "mktrf           -0.0501      0.002    -21.734      0.000      -0.055      -0.046\n",
            "smb             -0.0138      0.001    -15.053      0.000      -0.016      -0.012\n",
            "hml              0.0291      0.002     13.640      0.000       0.025       0.033\n",
            "gsector_15.0    -0.0502      0.007     -6.720      0.000      -0.065      -0.036\n",
            "gsector_20.0    -0.0215      0.006     -3.423      0.001      -0.034      -0.009\n",
            "gsector_25.0    -0.0230      0.006     -3.553      0.000      -0.036      -0.010\n",
            "gsector_30.0    -0.0151      0.008     -1.841      0.066      -0.031       0.001\n",
            "gsector_35.0    -0.0266      0.007     -3.888      0.000      -0.040      -0.013\n",
            "gsector_40.0    -0.0320      0.006     -5.289      0.000      -0.044      -0.020\n",
            "gsector_45.0    -0.0257      0.007     -3.834      0.000      -0.039      -0.013\n",
            "gsector_50.0    -0.0412      0.008     -5.088      0.000      -0.057      -0.025\n",
            "gsector_55.0    -0.0151      0.009     -1.599      0.110      -0.034       0.003\n",
            "gsector_60.0    -0.0462      0.008     -6.064      0.000      -0.061      -0.031\n",
            "==============================================================================\n",
            "Omnibus:                      495.536   Durbin-Watson:                   2.052\n",
            "Prob(Omnibus):                  0.000   Jarque-Bera (JB):             7671.581\n",
            "Skew:                           0.259   Prob(JB):                         0.00\n",
            "Kurtosis:                      10.783   Cond. No.                         30.5\n",
            "==============================================================================\n",
            "\n",
            "Notes:\n",
            "[1] Standard Errors assume that the covariance matrix of the errors is correctly specified.\n"
          ]
        }
      ]
    },
    {
      "cell_type": "markdown",
      "source": [
        "The adjusted R-squared value is 0.223, which is close to the R-squared value. The model explains approximately 22.3% of the variation in crash_return after adjusting for the number of independent variables.\n",
        "\n",
        "The significant coefficients (with a p-value of less than 0.05) are:\n",
        "\n",
        "const: the constant term in the model, which represents the expected crash_return when all the independent variables are equal to zero. This coefficient is significant and has a negative value, meaning that the expected crash_return is lower than zero.\n",
        "\n",
        "mktrf: The coefficient for the \"mktrf\" variable is significant and has a negative value, indicating that an increase in the market risk factor is associated with a decrease in crash_return.\n",
        "\n",
        "smb: The coefficient for the \"smb\" variable is significant and has a negative value, indicating that an increase in the small-minus-big factor is associated with a decrease in crash_return.\n",
        "\n",
        "hml: The coefficient for the \"hml\" variable is significant and has a positive value, indicating that an increase in the high-minus-low factor is associated with an increase in crash_return.\n",
        "\n",
        "gsector_15.0 to gsector_60.0: The coefficients for the categorical industry variables are significant and have negative values, indicating that being in certain industries (gsector_15.0, gsector_20.0, gsector_25.0, gsector_35.0, gsector_40.0, gsector_45.0, gsector_50.0, and gsector_60.0) is associated with a decrease in crash_return."
      ],
      "metadata": {
        "id": "NtT2uo_YwfEQ"
      }
    },
    {
      "cell_type": "markdown",
      "source": [
        "### 1&3"
      ],
      "metadata": {
        "id": "kkVG35fOwfEQ"
      }
    },
    {
      "cell_type": "code",
      "source": [
        "#define the independent variables\n",
        "X = merged_data[['debt_to_equity_ratio', 'gross_profit', 'current_ratio',\n",
        "                 'asset_turnover_ratio','roa', 'roe', 'net_profit_margin',\n",
        "                 'gsector_15.0', 'gsector_20.0',\n",
        "                 'gsector_25.0', 'gsector_30.0', 'gsector_35.0', 'gsector_40.0',\n",
        "                 'gsector_45.0', 'gsector_50.0', 'gsector_55.0', 'gsector_60.0']]\n",
        "X = sm.add_constant(X)\n",
        "\n",
        "#define the dependent variable\n",
        "y = merged_data['crash_return']\n",
        "\n",
        "#fit the linear regression model\n",
        "model = sm.OLS(y, X).fit()\n",
        "print(model.summary())"
      ],
      "metadata": {
        "colab": {
          "base_uri": "https://localhost:8080/"
        },
        "outputId": "a0de5f4b-a7fa-43a1-a3a7-a271187f9593",
        "id": "YLRKauW7wfEQ"
      },
      "execution_count": 360,
      "outputs": [
        {
          "output_type": "stream",
          "name": "stdout",
          "text": [
            "                            OLS Regression Results                            \n",
            "==============================================================================\n",
            "Dep. Variable:           crash_return   R-squared:                       0.095\n",
            "Model:                            OLS   Adj. R-squared:                  0.090\n",
            "Method:                 Least Squares   F-statistic:                     18.52\n",
            "Date:                Sat, 06 May 2023   Prob (F-statistic):           1.01e-53\n",
            "Time:                        07:10:05   Log-Likelihood:                 3619.6\n",
            "No. Observations:                3026   AIC:                            -7203.\n",
            "Df Residuals:                    3008   BIC:                            -7095.\n",
            "Df Model:                          17                                         \n",
            "Covariance Type:            nonrobust                                         \n",
            "========================================================================================\n",
            "                           coef    std err          t      P>|t|      [0.025      0.975]\n",
            "----------------------------------------------------------------------------------------\n",
            "const                   -0.0271      0.006     -4.546      0.000      -0.039      -0.015\n",
            "debt_to_equity_ratio    -0.0001      0.000     -1.170      0.242      -0.000    9.54e-05\n",
            "gross_profit            -0.0007      0.001     -0.987      0.324      -0.002       0.001\n",
            "current_ratio           -0.0005      0.001     -0.942      0.346      -0.002       0.001\n",
            "asset_turnover_ratio     0.0015      0.003      0.492      0.623      -0.004       0.007\n",
            "roa                      0.0870      0.011      8.109      0.000       0.066       0.108\n",
            "roe                      0.0065      0.002      3.235      0.001       0.003       0.010\n",
            "net_profit_margin       -0.0001      0.000     -0.304      0.761      -0.001       0.001\n",
            "gsector_15.0            -0.0528      0.008     -6.731      0.000      -0.068      -0.037\n",
            "gsector_20.0            -0.0302      0.007     -4.639      0.000      -0.043      -0.017\n",
            "gsector_25.0            -0.0437      0.007     -6.398      0.000      -0.057      -0.030\n",
            "gsector_30.0            -0.0030      0.009     -0.348      0.728      -0.020       0.014\n",
            "gsector_35.0            -0.0311      0.007     -4.623      0.000      -0.044      -0.018\n",
            "gsector_40.0            -0.0182      0.007     -2.779      0.005      -0.031      -0.005\n",
            "gsector_45.0            -0.0459      0.007     -6.933      0.000      -0.059      -0.033\n",
            "gsector_50.0            -0.0439      0.008     -5.176      0.000      -0.061      -0.027\n",
            "gsector_55.0             0.0090      0.010      0.911      0.362      -0.010       0.028\n",
            "gsector_60.0            -0.0426      0.008     -5.293      0.000      -0.058      -0.027\n",
            "==============================================================================\n",
            "Omnibus:                      550.200   Durbin-Watson:                   2.028\n",
            "Prob(Omnibus):                  0.000   Jarque-Bera (JB):             8743.369\n",
            "Skew:                           0.381   Prob(JB):                         0.00\n",
            "Kurtosis:                      11.292   Cond. No.                         162.\n",
            "==============================================================================\n",
            "\n",
            "Notes:\n",
            "[1] Standard Errors assume that the covariance matrix of the errors is correctly specified.\n"
          ]
        }
      ]
    },
    {
      "cell_type": "markdown",
      "source": [
        "The adjusted R-squared value is 0.090, which is close to the R-squared value. The model explains approximately 9.0% of the variation in crash_return after adjusting for the number of independent variables.\n",
        "\n",
        "In this model, the following coefficients are significant:\n",
        "\n",
        "mktrf: -0.0501, with a p-value of 0.000, indicating a negative relationship between the market risk factor and crash return.\n",
        "\n",
        "smb: -0.0138, with a p-value of 0.000, indicating a negative relationship between the small minus big factor and crash return.\n",
        "\n",
        "hml: 0.0291, with a p-value of 0.000, indicating a positive relationship between the high minus low factor and crash return.\n",
        "\n",
        "gsector_15.0 to gsector_60.0: The coefficients for each of the sector dummy variables are significant, with p-values less than 0.05, indicating a relationship between each sector and crash return."
      ],
      "metadata": {
        "id": "Fn8KM2Z_wfEQ"
      }
    },
    {
      "cell_type": "markdown",
      "source": [
        "### 1&2&3"
      ],
      "metadata": {
        "id": "K-i5SumBwfER"
      }
    },
    {
      "cell_type": "code",
      "source": [
        "#define the independent variables\n",
        "X = merged_data[['mktrf', 'smb', 'hml',\n",
        "                 'debt_to_equity_ratio', 'gross_profit', 'current_ratio',\n",
        "                 'asset_turnover_ratio','roa', 'roe', 'net_profit_margin',\n",
        "                 'gsector_15.0', 'gsector_20.0',\n",
        "                 'gsector_25.0', 'gsector_30.0', 'gsector_35.0', 'gsector_40.0',\n",
        "                 'gsector_45.0', 'gsector_50.0', 'gsector_55.0', 'gsector_60.0']]\n",
        "X = sm.add_constant(X)\n",
        "\n",
        "#define the dependent variable\n",
        "y = merged_data['crash_return']\n",
        "\n",
        "#fit the linear regression model\n",
        "model = sm.OLS(y, X).fit()\n",
        "print(model.summary())"
      ],
      "metadata": {
        "colab": {
          "base_uri": "https://localhost:8080/"
        },
        "outputId": "915e455f-d106-4ec2-abc6-52c7b08b66af",
        "id": "uggkrniRwfER"
      },
      "execution_count": 361,
      "outputs": [
        {
          "output_type": "stream",
          "name": "stdout",
          "text": [
            "                            OLS Regression Results                            \n",
            "==============================================================================\n",
            "Dep. Variable:           crash_return   R-squared:                       0.244\n",
            "Model:                            OLS   Adj. R-squared:                  0.239\n",
            "Method:                 Least Squares   F-statistic:                     48.62\n",
            "Date:                Sat, 06 May 2023   Prob (F-statistic):          4.18e-166\n",
            "Time:                        07:10:06   Log-Likelihood:                 3893.1\n",
            "No. Observations:                3026   AIC:                            -7744.\n",
            "Df Residuals:                    3005   BIC:                            -7618.\n",
            "Df Model:                          20                                         \n",
            "Covariance Type:            nonrobust                                         \n",
            "========================================================================================\n",
            "                           coef    std err          t      P>|t|      [0.025      0.975]\n",
            "----------------------------------------------------------------------------------------\n",
            "const                    0.0147      0.007      2.178      0.029       0.001       0.028\n",
            "mktrf                   -0.0491      0.002    -21.284      0.000      -0.054      -0.045\n",
            "smb                     -0.0124      0.001    -12.732      0.000      -0.014      -0.011\n",
            "hml                      0.0281      0.002     12.836      0.000       0.024       0.032\n",
            "debt_to_equity_ratio  1.245e-05      0.000      0.112      0.911      -0.000       0.000\n",
            "gross_profit            -0.0013      0.001     -1.980      0.048      -0.002   -1.25e-05\n",
            "current_ratio            0.0008      0.000      1.550      0.121      -0.000       0.002\n",
            "asset_turnover_ratio     0.0028      0.003      1.006      0.314      -0.003       0.008\n",
            "roa                      0.0548      0.010      5.422      0.000       0.035       0.075\n",
            "roe                      0.0047      0.002      2.556      0.011       0.001       0.008\n",
            "net_profit_margin       -0.0002      0.000     -0.464      0.643      -0.001       0.001\n",
            "gsector_15.0            -0.0508      0.007     -6.874      0.000      -0.065      -0.036\n",
            "gsector_20.0            -0.0230      0.006     -3.671      0.000      -0.035      -0.011\n",
            "gsector_25.0            -0.0258      0.007     -3.961      0.000      -0.039      -0.013\n",
            "gsector_30.0            -0.0151      0.008     -1.830      0.067      -0.031       0.001\n",
            "gsector_35.0            -0.0204      0.007     -2.955      0.003      -0.034      -0.007\n",
            "gsector_40.0            -0.0283      0.006     -4.522      0.000      -0.041      -0.016\n",
            "gsector_45.0            -0.0259      0.007     -3.881      0.000      -0.039      -0.013\n",
            "gsector_50.0            -0.0385      0.008     -4.787      0.000      -0.054      -0.023\n",
            "gsector_55.0            -0.0109      0.009     -1.149      0.251      -0.029       0.008\n",
            "gsector_60.0            -0.0426      0.008     -5.531      0.000      -0.058      -0.027\n",
            "==============================================================================\n",
            "Omnibus:                      639.279   Durbin-Watson:                   2.065\n",
            "Prob(Omnibus):                  0.000   Jarque-Bera (JB):             9726.445\n",
            "Skew:                           0.570   Prob(JB):                         0.00\n",
            "Kurtosis:                      11.709   Cond. No.                         179.\n",
            "==============================================================================\n",
            "\n",
            "Notes:\n",
            "[1] Standard Errors assume that the covariance matrix of the errors is correctly specified.\n"
          ]
        }
      ]
    },
    {
      "cell_type": "markdown",
      "source": [
        "The adjusted R-squared value is 0.239. The model explains approximately 23.9% of the variation in crash_return after adjusting for the number of independent variables.\n",
        "\n",
        "In this model, the following coefficients are significant:\n",
        "\n",
        "const: Constant term with a significant positive coefficient of 0.0147. This means that the average return for the dependent variable is positive, even if all other independent variables are equal to zero.\n",
        "\n",
        "mktrf: Market return factor with a significant negative coefficient of -0.0491. This means that a unit increase in the market return factor is associated with a decrease in the dependent variable's return by 0.0491 units.\n",
        "\n",
        "smb: Small minus big factor with a significant negative coefficient of -0.0124. This means that a unit increase in the small minus big factor is associated with a decrease in the dependent variable's return by 0.0124 units.\n",
        "\n",
        "hml: High minus low factor with a significant positive coefficient of 0.0281. This means that a unit increase in the high minus low factor is associated with an increase in the dependent variable's return by 0.0281 units.\n",
        "\n",
        "gsector_15.0 to gsector_60.0: Industry sector dummies with significant coefficients ranging from -0.0508 to -0.0426. This means that the returns for different industry sectors are different from each other and a unit change in one of the dummies is associated with a change in the dependent variable's return by the corresponding coefficient value."
      ],
      "metadata": {
        "id": "NAkcssvJwfER"
      }
    },
    {
      "cell_type": "markdown",
      "source": [
        "### Final regression"
      ],
      "metadata": {
        "id": "ocIw83ruwfER"
      }
    },
    {
      "cell_type": "code",
      "source": [
        "#define the independent variables\n",
        "X = merged_data[['mktrf', 'smb', 'hml',\n",
        "                 'gross_profit', 'roa', 'roe',\n",
        "                 'gsector_15.0', 'gsector_20.0',\n",
        "                 'gsector_25.0', 'gsector_35.0', 'gsector_40.0',\n",
        "                 'gsector_45.0', 'gsector_50.0', 'gsector_60.0']]\n",
        "X = sm.add_constant(X)\n",
        "\n",
        "#define the dependent variable\n",
        "y = merged_data['crash_return']\n",
        "\n",
        "#fit the linear regression model\n",
        "model = sm.OLS(y, X).fit()\n",
        "print(model.summary())"
      ],
      "metadata": {
        "colab": {
          "base_uri": "https://localhost:8080/"
        },
        "outputId": "82b617b0-7aae-4073-cb55-72bac1287f80",
        "id": "0HXoWYjFwfER"
      },
      "execution_count": 363,
      "outputs": [
        {
          "output_type": "stream",
          "name": "stdout",
          "text": [
            "                            OLS Regression Results                            \n",
            "==============================================================================\n",
            "Dep. Variable:           crash_return   R-squared:                       0.243\n",
            "Model:                            OLS   Adj. R-squared:                  0.239\n",
            "Method:                 Least Squares   F-statistic:                     68.94\n",
            "Date:                Sat, 06 May 2023   Prob (F-statistic):          5.47e-170\n",
            "Time:                        07:26:23   Log-Likelihood:                 3889.6\n",
            "No. Observations:                3026   AIC:                            -7749.\n",
            "Df Residuals:                    3011   BIC:                            -7659.\n",
            "Df Model:                          14                                         \n",
            "Covariance Type:            nonrobust                                         \n",
            "================================================================================\n",
            "                   coef    std err          t      P>|t|      [0.025      0.975]\n",
            "--------------------------------------------------------------------------------\n",
            "const            0.0098      0.004      2.364      0.018       0.002       0.018\n",
            "mktrf           -0.0484      0.002    -21.400      0.000      -0.053      -0.044\n",
            "smb             -0.0119      0.001    -12.644      0.000      -0.014      -0.010\n",
            "hml              0.0286      0.002     13.735      0.000       0.024       0.033\n",
            "gross_profit    -0.0016      0.000     -4.040      0.000      -0.002      -0.001\n",
            "roa              0.0562      0.009      5.954      0.000       0.038       0.075\n",
            "roe              0.0050      0.002      2.733      0.006       0.001       0.009\n",
            "gsector_15.0    -0.0430      0.006     -6.923      0.000      -0.055      -0.031\n",
            "gsector_20.0    -0.0151      0.005     -3.179      0.001      -0.024      -0.006\n",
            "gsector_25.0    -0.0180      0.005     -3.532      0.000      -0.028      -0.008\n",
            "gsector_35.0    -0.0112      0.005     -2.127      0.033      -0.021      -0.001\n",
            "gsector_40.0    -0.0231      0.004     -5.233      0.000      -0.032      -0.014\n",
            "gsector_45.0    -0.0177      0.005     -3.449      0.001      -0.028      -0.008\n",
            "gsector_50.0    -0.0315      0.007     -4.562      0.000      -0.045      -0.018\n",
            "gsector_60.0    -0.0370      0.006     -5.888      0.000      -0.049      -0.025\n",
            "==============================================================================\n",
            "Omnibus:                      641.796   Durbin-Watson:                   2.059\n",
            "Prob(Omnibus):                  0.000   Jarque-Bera (JB):             9624.842\n",
            "Skew:                           0.579   Prob(JB):                         0.00\n",
            "Kurtosis:                      11.660   Cond. No.                         32.8\n",
            "==============================================================================\n",
            "\n",
            "Notes:\n",
            "[1] Standard Errors assume that the covariance matrix of the errors is correctly specified.\n"
          ]
        }
      ]
    },
    {
      "cell_type": "markdown",
      "source": [
        "The most important variables for 2000 crash is mktrf, smb, hml,\n",
        "gross_profit, roa, roe,\n",
        "gsector_15.0, gsector_20.0,\n",
        "gsector_25.0, gsector_35.0, gsector_40.0, gsector_45.0, gsector_50.0, gsector_60.0 because all of them are statiscally significance."
      ],
      "metadata": {
        "id": "IDYG6kHZwfER"
      }
    }
  ]
}